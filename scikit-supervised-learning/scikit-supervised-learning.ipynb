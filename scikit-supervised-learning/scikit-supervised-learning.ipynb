{
 "cells": [
  {
   "cell_type": "code",
   "execution_count": 15,
   "id": "64c0916f",
   "metadata": {},
   "outputs": [],
   "source": [
    "# scikit-learn\n",
    "# https://scikit-learn.org/stable/\n",
    "# What is machine learning?\n",
    "# Machine learning is the process whereby:\n",
    "# Computers are given the ability to learn to make decisions from data\n",
    "# without being explicitly programmed!\n",
    "\n",
    "# Unsupervised learning\n",
    "# Uncovering hidden paerns from unlabeled data\n",
    "# Example:\n",
    "# Grouping customers into distinct categories (Clustering)\n",
    "\n",
    "# Supervised learning\n",
    "# The predicted values are known\n",
    "# Aim: Predict the target values of unseen data, given the features\n",
    "    \n",
    "# Types of supervised learning\n",
    "# Classication: Target variable consists of categories\n",
    "# Regression: Target variable is continuous\n",
    "    \n",
    "# Naming conventions\n",
    "# Feature = predictor variable = independent variable\n",
    "# Target variable = dependent variable = response variable    \n",
    "\n",
    "# Before you use supervised learning\n",
    "# Requirements:\n",
    "# No missing values\n",
    "# Data in numeric format\n",
    "# Data stored in pandas DataFrame or NumPy array\n",
    "\n",
    "# Perform Exploratory Data Analysis (EDA) first\n",
    "\n",
    "# scikit-learn syntax\n",
    "# from sklearn.module import Model\n",
    "# model = Model()\n",
    "# model.fit(X, y)\n",
    "# predictions = model.predict(X_new)\n",
    "# print(predictions) # 1 predict and 0 not predict"
   ]
  },
  {
   "cell_type": "code",
   "execution_count": 16,
   "id": "23bb4311",
   "metadata": {},
   "outputs": [
    {
     "data": {
      "text/html": [
       "<div>\n",
       "<style scoped>\n",
       "    .dataframe tbody tr th:only-of-type {\n",
       "        vertical-align: middle;\n",
       "    }\n",
       "\n",
       "    .dataframe tbody tr th {\n",
       "        vertical-align: top;\n",
       "    }\n",
       "\n",
       "    .dataframe thead th {\n",
       "        text-align: right;\n",
       "    }\n",
       "</style>\n",
       "<table border=\"1\" class=\"dataframe\">\n",
       "  <thead>\n",
       "    <tr style=\"text-align: right;\">\n",
       "      <th></th>\n",
       "      <th>Unnamed: 0</th>\n",
       "      <th>account_length</th>\n",
       "      <th>area_code</th>\n",
       "      <th>international_plan</th>\n",
       "      <th>voice_mail_plan</th>\n",
       "      <th>number_vmail_messages</th>\n",
       "      <th>total_day_minutes</th>\n",
       "      <th>total_day_calls</th>\n",
       "      <th>total_day_charge</th>\n",
       "      <th>total_eve_minutes</th>\n",
       "      <th>total_eve_calls</th>\n",
       "      <th>total_eve_charge</th>\n",
       "      <th>total_night_minutes</th>\n",
       "      <th>total_night_calls</th>\n",
       "      <th>total_night_charge</th>\n",
       "      <th>total_intl_minutes</th>\n",
       "      <th>total_intl_calls</th>\n",
       "      <th>total_intl_charge</th>\n",
       "      <th>customer_service_calls</th>\n",
       "      <th>churn</th>\n",
       "    </tr>\n",
       "  </thead>\n",
       "  <tbody>\n",
       "    <tr>\n",
       "      <th>0</th>\n",
       "      <td>0</td>\n",
       "      <td>128</td>\n",
       "      <td>415</td>\n",
       "      <td>0</td>\n",
       "      <td>1</td>\n",
       "      <td>25</td>\n",
       "      <td>265.1</td>\n",
       "      <td>110</td>\n",
       "      <td>45.07</td>\n",
       "      <td>197.4</td>\n",
       "      <td>99</td>\n",
       "      <td>16.78</td>\n",
       "      <td>244.7</td>\n",
       "      <td>91</td>\n",
       "      <td>11.01</td>\n",
       "      <td>10.0</td>\n",
       "      <td>3</td>\n",
       "      <td>2.70</td>\n",
       "      <td>1</td>\n",
       "      <td>0</td>\n",
       "    </tr>\n",
       "    <tr>\n",
       "      <th>1</th>\n",
       "      <td>1</td>\n",
       "      <td>107</td>\n",
       "      <td>415</td>\n",
       "      <td>0</td>\n",
       "      <td>1</td>\n",
       "      <td>26</td>\n",
       "      <td>161.6</td>\n",
       "      <td>123</td>\n",
       "      <td>27.47</td>\n",
       "      <td>195.5</td>\n",
       "      <td>103</td>\n",
       "      <td>16.62</td>\n",
       "      <td>254.4</td>\n",
       "      <td>103</td>\n",
       "      <td>11.45</td>\n",
       "      <td>13.7</td>\n",
       "      <td>3</td>\n",
       "      <td>3.70</td>\n",
       "      <td>1</td>\n",
       "      <td>0</td>\n",
       "    </tr>\n",
       "    <tr>\n",
       "      <th>2</th>\n",
       "      <td>2</td>\n",
       "      <td>137</td>\n",
       "      <td>415</td>\n",
       "      <td>0</td>\n",
       "      <td>0</td>\n",
       "      <td>0</td>\n",
       "      <td>243.4</td>\n",
       "      <td>114</td>\n",
       "      <td>41.38</td>\n",
       "      <td>121.2</td>\n",
       "      <td>110</td>\n",
       "      <td>10.30</td>\n",
       "      <td>162.6</td>\n",
       "      <td>104</td>\n",
       "      <td>7.32</td>\n",
       "      <td>12.2</td>\n",
       "      <td>5</td>\n",
       "      <td>3.29</td>\n",
       "      <td>0</td>\n",
       "      <td>0</td>\n",
       "    </tr>\n",
       "    <tr>\n",
       "      <th>3</th>\n",
       "      <td>3</td>\n",
       "      <td>84</td>\n",
       "      <td>408</td>\n",
       "      <td>1</td>\n",
       "      <td>0</td>\n",
       "      <td>0</td>\n",
       "      <td>299.4</td>\n",
       "      <td>71</td>\n",
       "      <td>50.90</td>\n",
       "      <td>61.9</td>\n",
       "      <td>88</td>\n",
       "      <td>5.26</td>\n",
       "      <td>196.9</td>\n",
       "      <td>89</td>\n",
       "      <td>8.86</td>\n",
       "      <td>6.6</td>\n",
       "      <td>7</td>\n",
       "      <td>1.78</td>\n",
       "      <td>2</td>\n",
       "      <td>0</td>\n",
       "    </tr>\n",
       "    <tr>\n",
       "      <th>4</th>\n",
       "      <td>4</td>\n",
       "      <td>75</td>\n",
       "      <td>415</td>\n",
       "      <td>1</td>\n",
       "      <td>0</td>\n",
       "      <td>0</td>\n",
       "      <td>166.7</td>\n",
       "      <td>113</td>\n",
       "      <td>28.34</td>\n",
       "      <td>148.3</td>\n",
       "      <td>122</td>\n",
       "      <td>12.61</td>\n",
       "      <td>186.9</td>\n",
       "      <td>121</td>\n",
       "      <td>8.41</td>\n",
       "      <td>10.1</td>\n",
       "      <td>3</td>\n",
       "      <td>2.73</td>\n",
       "      <td>3</td>\n",
       "      <td>0</td>\n",
       "    </tr>\n",
       "  </tbody>\n",
       "</table>\n",
       "</div>"
      ],
      "text/plain": [
       "   Unnamed: 0  account_length  area_code  international_plan  voice_mail_plan  \\\n",
       "0           0             128        415                   0                1   \n",
       "1           1             107        415                   0                1   \n",
       "2           2             137        415                   0                0   \n",
       "3           3              84        408                   1                0   \n",
       "4           4              75        415                   1                0   \n",
       "\n",
       "   number_vmail_messages  total_day_minutes  total_day_calls  \\\n",
       "0                     25              265.1              110   \n",
       "1                     26              161.6              123   \n",
       "2                      0              243.4              114   \n",
       "3                      0              299.4               71   \n",
       "4                      0              166.7              113   \n",
       "\n",
       "   total_day_charge  total_eve_minutes  total_eve_calls  total_eve_charge  \\\n",
       "0             45.07              197.4               99             16.78   \n",
       "1             27.47              195.5              103             16.62   \n",
       "2             41.38              121.2              110             10.30   \n",
       "3             50.90               61.9               88              5.26   \n",
       "4             28.34              148.3              122             12.61   \n",
       "\n",
       "   total_night_minutes  total_night_calls  total_night_charge  \\\n",
       "0                244.7                 91               11.01   \n",
       "1                254.4                103               11.45   \n",
       "2                162.6                104                7.32   \n",
       "3                196.9                 89                8.86   \n",
       "4                186.9                121                8.41   \n",
       "\n",
       "   total_intl_minutes  total_intl_calls  total_intl_charge  \\\n",
       "0                10.0                 3               2.70   \n",
       "1                13.7                 3               3.70   \n",
       "2                12.2                 5               3.29   \n",
       "3                 6.6                 7               1.78   \n",
       "4                10.1                 3               2.73   \n",
       "\n",
       "   customer_service_calls  churn  \n",
       "0                       1      0  \n",
       "1                       1      0  \n",
       "2                       0      0  \n",
       "3                       2      0  \n",
       "4                       3      0  "
      ]
     },
     "execution_count": 16,
     "metadata": {},
     "output_type": "execute_result"
    }
   ],
   "source": [
    "import pandas as pd\n",
    "import numpy as np\n",
    "churn_df = pd.read_csv('datasets/telecom_churn_clean.csv')\n",
    "churn_df.head()\n",
    "\n",
    "# churn has values of 0 or 1, so it can be predicted using a binary classification model."
   ]
  },
  {
   "cell_type": "code",
   "execution_count": 17,
   "id": "ea6626d5",
   "metadata": {},
   "outputs": [
    {
     "name": "stdout",
     "output_type": "stream",
     "text": [
      "(3333, 2) (3333,)\n"
     ]
    }
   ],
   "source": [
    "# Classifying labels of unseen data\n",
    "# 1. Build a model\n",
    "# 2. Model learns from the labeled data we pass to it\n",
    "# 3. Pass unlabeled data to the model as input\n",
    "# 4. Model predicts the labels of the unseen data\n",
    "\n",
    "# Labeled data = training data\n",
    "\n",
    "# k-Nearest Neighbors\n",
    "# Predict the label of a data point by\n",
    "# Looking at the k closest labeled data points\n",
    "# Taking a majority vote\n",
    "\n",
    "#Using scikit-learn to fit a classifier\n",
    "from sklearn.neighbors import KNeighborsClassifier\n",
    "X = churn_df[[\"total_day_charge\",\"total_eve_charge\"]].values\n",
    "y = churn_df[\"churn\"].values\n",
    "print(X.shape, y.shape)"
   ]
  },
  {
   "cell_type": "code",
   "execution_count": 18,
   "id": "3faed80d",
   "metadata": {},
   "outputs": [
    {
     "data": {
      "text/html": [
       "<style>#sk-container-id-1 {color: black;background-color: white;}#sk-container-id-1 pre{padding: 0;}#sk-container-id-1 div.sk-toggleable {background-color: white;}#sk-container-id-1 label.sk-toggleable__label {cursor: pointer;display: block;width: 100%;margin-bottom: 0;padding: 0.3em;box-sizing: border-box;text-align: center;}#sk-container-id-1 label.sk-toggleable__label-arrow:before {content: \"▸\";float: left;margin-right: 0.25em;color: #696969;}#sk-container-id-1 label.sk-toggleable__label-arrow:hover:before {color: black;}#sk-container-id-1 div.sk-estimator:hover label.sk-toggleable__label-arrow:before {color: black;}#sk-container-id-1 div.sk-toggleable__content {max-height: 0;max-width: 0;overflow: hidden;text-align: left;background-color: #f0f8ff;}#sk-container-id-1 div.sk-toggleable__content pre {margin: 0.2em;color: black;border-radius: 0.25em;background-color: #f0f8ff;}#sk-container-id-1 input.sk-toggleable__control:checked~div.sk-toggleable__content {max-height: 200px;max-width: 100%;overflow: auto;}#sk-container-id-1 input.sk-toggleable__control:checked~label.sk-toggleable__label-arrow:before {content: \"▾\";}#sk-container-id-1 div.sk-estimator input.sk-toggleable__control:checked~label.sk-toggleable__label {background-color: #d4ebff;}#sk-container-id-1 div.sk-label input.sk-toggleable__control:checked~label.sk-toggleable__label {background-color: #d4ebff;}#sk-container-id-1 input.sk-hidden--visually {border: 0;clip: rect(1px 1px 1px 1px);clip: rect(1px, 1px, 1px, 1px);height: 1px;margin: -1px;overflow: hidden;padding: 0;position: absolute;width: 1px;}#sk-container-id-1 div.sk-estimator {font-family: monospace;background-color: #f0f8ff;border: 1px dotted black;border-radius: 0.25em;box-sizing: border-box;margin-bottom: 0.5em;}#sk-container-id-1 div.sk-estimator:hover {background-color: #d4ebff;}#sk-container-id-1 div.sk-parallel-item::after {content: \"\";width: 100%;border-bottom: 1px solid gray;flex-grow: 1;}#sk-container-id-1 div.sk-label:hover label.sk-toggleable__label {background-color: #d4ebff;}#sk-container-id-1 div.sk-serial::before {content: \"\";position: absolute;border-left: 1px solid gray;box-sizing: border-box;top: 0;bottom: 0;left: 50%;z-index: 0;}#sk-container-id-1 div.sk-serial {display: flex;flex-direction: column;align-items: center;background-color: white;padding-right: 0.2em;padding-left: 0.2em;position: relative;}#sk-container-id-1 div.sk-item {position: relative;z-index: 1;}#sk-container-id-1 div.sk-parallel {display: flex;align-items: stretch;justify-content: center;background-color: white;position: relative;}#sk-container-id-1 div.sk-item::before, #sk-container-id-1 div.sk-parallel-item::before {content: \"\";position: absolute;border-left: 1px solid gray;box-sizing: border-box;top: 0;bottom: 0;left: 50%;z-index: -1;}#sk-container-id-1 div.sk-parallel-item {display: flex;flex-direction: column;z-index: 1;position: relative;background-color: white;}#sk-container-id-1 div.sk-parallel-item:first-child::after {align-self: flex-end;width: 50%;}#sk-container-id-1 div.sk-parallel-item:last-child::after {align-self: flex-start;width: 50%;}#sk-container-id-1 div.sk-parallel-item:only-child::after {width: 0;}#sk-container-id-1 div.sk-dashed-wrapped {border: 1px dashed gray;margin: 0 0.4em 0.5em 0.4em;box-sizing: border-box;padding-bottom: 0.4em;background-color: white;}#sk-container-id-1 div.sk-label label {font-family: monospace;font-weight: bold;display: inline-block;line-height: 1.2em;}#sk-container-id-1 div.sk-label-container {text-align: center;}#sk-container-id-1 div.sk-container {/* jupyter's `normalize.less` sets `[hidden] { display: none; }` but bootstrap.min.css set `[hidden] { display: none !important; }` so we also need the `!important` here to be able to override the default hidden behavior on the sphinx rendered scikit-learn.org. See: https://github.com/scikit-learn/scikit-learn/issues/21755 */display: inline-block !important;position: relative;}#sk-container-id-1 div.sk-text-repr-fallback {display: none;}</style><div id=\"sk-container-id-1\" class=\"sk-top-container\"><div class=\"sk-text-repr-fallback\"><pre>KNeighborsClassifier(n_neighbors=15)</pre><b>In a Jupyter environment, please rerun this cell to show the HTML representation or trust the notebook. <br />On GitHub, the HTML representation is unable to render, please try loading this page with nbviewer.org.</b></div><div class=\"sk-container\" hidden><div class=\"sk-item\"><div class=\"sk-estimator sk-toggleable\"><input class=\"sk-toggleable__control sk-hidden--visually\" id=\"sk-estimator-id-1\" type=\"checkbox\" checked><label for=\"sk-estimator-id-1\" class=\"sk-toggleable__label sk-toggleable__label-arrow\">KNeighborsClassifier</label><div class=\"sk-toggleable__content\"><pre>KNeighborsClassifier(n_neighbors=15)</pre></div></div></div></div></div>"
      ],
      "text/plain": [
       "KNeighborsClassifier(n_neighbors=15)"
      ]
     },
     "execution_count": 18,
     "metadata": {},
     "output_type": "execute_result"
    }
   ],
   "source": [
    "knn = KNeighborsClassifier(n_neighbors=15)\n",
    "knn.fit(X, y)"
   ]
  },
  {
   "cell_type": "code",
   "execution_count": 19,
   "id": "87b42445",
   "metadata": {},
   "outputs": [
    {
     "name": "stdout",
     "output_type": "stream",
     "text": [
      "(3, 2)\n"
     ]
    }
   ],
   "source": [
    "#Predicting on unlabeled data\n",
    "X_new = np.array([[56.8, 17.5],[24.4, 24.1],[50.1, 10.9]])\n",
    "print(X_new.shape)"
   ]
  },
  {
   "cell_type": "code",
   "execution_count": 20,
   "id": "c87d153a",
   "metadata": {},
   "outputs": [
    {
     "name": "stdout",
     "output_type": "stream",
     "text": [
      "Predictions: [1 0 0]\n"
     ]
    }
   ],
   "source": [
    "predictions = knn.predict(X_new)\n",
    "print('Predictions: {}'.format(predictions))"
   ]
  },
  {
   "cell_type": "code",
   "execution_count": 21,
   "id": "59767d69",
   "metadata": {},
   "outputs": [
    {
     "data": {
      "text/html": [
       "<style>#sk-container-id-2 {color: black;background-color: white;}#sk-container-id-2 pre{padding: 0;}#sk-container-id-2 div.sk-toggleable {background-color: white;}#sk-container-id-2 label.sk-toggleable__label {cursor: pointer;display: block;width: 100%;margin-bottom: 0;padding: 0.3em;box-sizing: border-box;text-align: center;}#sk-container-id-2 label.sk-toggleable__label-arrow:before {content: \"▸\";float: left;margin-right: 0.25em;color: #696969;}#sk-container-id-2 label.sk-toggleable__label-arrow:hover:before {color: black;}#sk-container-id-2 div.sk-estimator:hover label.sk-toggleable__label-arrow:before {color: black;}#sk-container-id-2 div.sk-toggleable__content {max-height: 0;max-width: 0;overflow: hidden;text-align: left;background-color: #f0f8ff;}#sk-container-id-2 div.sk-toggleable__content pre {margin: 0.2em;color: black;border-radius: 0.25em;background-color: #f0f8ff;}#sk-container-id-2 input.sk-toggleable__control:checked~div.sk-toggleable__content {max-height: 200px;max-width: 100%;overflow: auto;}#sk-container-id-2 input.sk-toggleable__control:checked~label.sk-toggleable__label-arrow:before {content: \"▾\";}#sk-container-id-2 div.sk-estimator input.sk-toggleable__control:checked~label.sk-toggleable__label {background-color: #d4ebff;}#sk-container-id-2 div.sk-label input.sk-toggleable__control:checked~label.sk-toggleable__label {background-color: #d4ebff;}#sk-container-id-2 input.sk-hidden--visually {border: 0;clip: rect(1px 1px 1px 1px);clip: rect(1px, 1px, 1px, 1px);height: 1px;margin: -1px;overflow: hidden;padding: 0;position: absolute;width: 1px;}#sk-container-id-2 div.sk-estimator {font-family: monospace;background-color: #f0f8ff;border: 1px dotted black;border-radius: 0.25em;box-sizing: border-box;margin-bottom: 0.5em;}#sk-container-id-2 div.sk-estimator:hover {background-color: #d4ebff;}#sk-container-id-2 div.sk-parallel-item::after {content: \"\";width: 100%;border-bottom: 1px solid gray;flex-grow: 1;}#sk-container-id-2 div.sk-label:hover label.sk-toggleable__label {background-color: #d4ebff;}#sk-container-id-2 div.sk-serial::before {content: \"\";position: absolute;border-left: 1px solid gray;box-sizing: border-box;top: 0;bottom: 0;left: 50%;z-index: 0;}#sk-container-id-2 div.sk-serial {display: flex;flex-direction: column;align-items: center;background-color: white;padding-right: 0.2em;padding-left: 0.2em;position: relative;}#sk-container-id-2 div.sk-item {position: relative;z-index: 1;}#sk-container-id-2 div.sk-parallel {display: flex;align-items: stretch;justify-content: center;background-color: white;position: relative;}#sk-container-id-2 div.sk-item::before, #sk-container-id-2 div.sk-parallel-item::before {content: \"\";position: absolute;border-left: 1px solid gray;box-sizing: border-box;top: 0;bottom: 0;left: 50%;z-index: -1;}#sk-container-id-2 div.sk-parallel-item {display: flex;flex-direction: column;z-index: 1;position: relative;background-color: white;}#sk-container-id-2 div.sk-parallel-item:first-child::after {align-self: flex-end;width: 50%;}#sk-container-id-2 div.sk-parallel-item:last-child::after {align-self: flex-start;width: 50%;}#sk-container-id-2 div.sk-parallel-item:only-child::after {width: 0;}#sk-container-id-2 div.sk-dashed-wrapped {border: 1px dashed gray;margin: 0 0.4em 0.5em 0.4em;box-sizing: border-box;padding-bottom: 0.4em;background-color: white;}#sk-container-id-2 div.sk-label label {font-family: monospace;font-weight: bold;display: inline-block;line-height: 1.2em;}#sk-container-id-2 div.sk-label-container {text-align: center;}#sk-container-id-2 div.sk-container {/* jupyter's `normalize.less` sets `[hidden] { display: none; }` but bootstrap.min.css set `[hidden] { display: none !important; }` so we also need the `!important` here to be able to override the default hidden behavior on the sphinx rendered scikit-learn.org. See: https://github.com/scikit-learn/scikit-learn/issues/21755 */display: inline-block !important;position: relative;}#sk-container-id-2 div.sk-text-repr-fallback {display: none;}</style><div id=\"sk-container-id-2\" class=\"sk-top-container\"><div class=\"sk-text-repr-fallback\"><pre>KNeighborsClassifier(n_neighbors=6)</pre><b>In a Jupyter environment, please rerun this cell to show the HTML representation or trust the notebook. <br />On GitHub, the HTML representation is unable to render, please try loading this page with nbviewer.org.</b></div><div class=\"sk-container\" hidden><div class=\"sk-item\"><div class=\"sk-estimator sk-toggleable\"><input class=\"sk-toggleable__control sk-hidden--visually\" id=\"sk-estimator-id-2\" type=\"checkbox\" checked><label for=\"sk-estimator-id-2\" class=\"sk-toggleable__label sk-toggleable__label-arrow\">KNeighborsClassifier</label><div class=\"sk-toggleable__content\"><pre>KNeighborsClassifier(n_neighbors=6)</pre></div></div></div></div></div>"
      ],
      "text/plain": [
       "KNeighborsClassifier(n_neighbors=6)"
      ]
     },
     "execution_count": 21,
     "metadata": {},
     "output_type": "execute_result"
    }
   ],
   "source": [
    "# Import KNeighborsClassifier\n",
    "from sklearn.neighbors import KNeighborsClassifier \n",
    "\n",
    "# Create arrays for the features and the target variable\n",
    "y = churn_df[\"churn\"].values\n",
    "X = churn_df[[\"account_length\", \"customer_service_calls\"]].values\n",
    "\n",
    "# Create a KNN classifier with 6 neighbors\n",
    "knn = KNeighborsClassifier(n_neighbors=6)\n",
    "\n",
    "# Fit the classifier to the data\n",
    "knn.fit(X, y)"
   ]
  },
  {
   "cell_type": "code",
   "execution_count": 22,
   "id": "13d8c577",
   "metadata": {},
   "outputs": [
    {
     "name": "stdout",
     "output_type": "stream",
     "text": [
      "Predictions: [0 1 0]\n"
     ]
    }
   ],
   "source": [
    "X_new = np.array([[30.0, 17.5],\n",
    "                  [107.0, 24.1],\n",
    "                  [213.0, 10.9]])\n",
    "\n",
    "# Predict the labels for the X_new\n",
    "y_pred = knn.predict(X_new )\n",
    "\n",
    "# Print the predictions for X_new\n",
    "print(\"Predictions: {}\".format(y_pred)) "
   ]
  },
  {
   "cell_type": "code",
   "execution_count": 23,
   "id": "850459c2",
   "metadata": {},
   "outputs": [
    {
     "name": "stdout",
     "output_type": "stream",
     "text": [
      "0.86\n"
     ]
    }
   ],
   "source": [
    "# Measuring model performance\n",
    "# accuracy = correct predictions / total observations\n",
    "# split data into training set and test set\n",
    "# Fit/train classifier on training set\n",
    "# Calculate accuracy using test set\n",
    "import pandas as pd\n",
    "import numpy as np\n",
    "churn_df = pd.read_csv('datasets/telecom_churn_clean.csv')\n",
    "from sklearn.model_selection import train_test_split\n",
    "\n",
    "X = churn_df.drop(\"churn\", axis=1).values\n",
    "y = churn_df[\"churn\"].values\n",
    "\n",
    "# Train/test split\n",
    "from sklearn.model_selection import train_test_split\n",
    "X_train, X_test, y_train, y_test = train_test_split(X, y, test_size=0.3,random_state=21, stratify=y)\n",
    "knn = KNeighborsClassifier(n_neighbors=6)\n",
    "knn.fit(X_train, y_train)\n",
    "print(knn.score(X_test, y_test))"
   ]
  },
  {
   "cell_type": "code",
   "execution_count": null,
   "id": "f800b6d0",
   "metadata": {},
   "outputs": [],
   "source": [
    "# Model complexity\n",
    "# Larger k = less complex model = can cause under\n",
    "# Smaller k = more complex model = can lead to over"
   ]
  },
  {
   "cell_type": "code",
   "execution_count": 24,
   "id": "2abacbfb",
   "metadata": {},
   "outputs": [
    {
     "name": "stdout",
     "output_type": "stream",
     "text": [
      "[ 1  2  3  4  5  6  7  8  9 10 11 12 13 14 15 16 17 18 19 20 21 22 23 24\n",
      " 25] \n",
      " {1: 1.0, 2: 0.8898414059151307, 3: 0.9039862837548222, 4: 0.8752678954136305, 5: 0.8838405486498071, 6: 0.8709815687955422, 7: 0.873981997428204, 8: 0.8658379768538362, 9: 0.8696956708101158, 10: 0.8628375482211744, 11: 0.866266609515645, 12: 0.8606943849121304, 13: 0.8624089155593656, 14: 0.8598371195885126, 15: 0.861551650235748, 16: 0.8585512216030862, 17: 0.8594084869267038, 18: 0.8576939562794685, 19: 0.8585512216030862, 20: 0.8568366909558508, 21: 0.8576939562794685, 22: 0.8555507929704244, 23: 0.8559794256322332, 24: 0.8555507929704244, 25: 0.8559794256322332} \n",
      " {1: 0.793, 2: 0.852, 3: 0.839, 4: 0.86, 5: 0.859, 6: 0.86, 7: 0.865, 8: 0.862, 9: 0.862, 10: 0.859, 11: 0.861, 12: 0.859, 13: 0.86, 14: 0.859, 15: 0.86, 16: 0.859, 17: 0.862, 18: 0.86, 19: 0.86, 20: 0.858, 21: 0.859, 22: 0.857, 23: 0.857, 24: 0.856, 25: 0.856}\n"
     ]
    }
   ],
   "source": [
    "# Model complexity and over/underfitting\n",
    "train_accuracies = {}\n",
    "test_accuracies = {}\n",
    "neighbors = np.arange(1, 26)\n",
    "for neighbor in neighbors:\n",
    "    knn = KNeighborsClassifier(n_neighbors=neighbor)\n",
    "    knn.fit(X_train, y_train)\n",
    "    train_accuracies[neighbor] = knn.score(X_train, y_train)\n",
    "    test_accuracies[neighbor] = knn.score(X_test, y_test)\n",
    "\n",
    "print(neighbors, '\\n', train_accuracies, '\\n', test_accuracies)    "
   ]
  },
  {
   "cell_type": "code",
   "execution_count": 26,
   "id": "98d5c5de",
   "metadata": {},
   "outputs": [
    {
     "data": {
      "image/png": "[encoded data removed]",
      "text/plain": [
       "<Figure size 576x432 with 1 Axes>"
      ]
     },
     "metadata": {
      "needs_background": "light"
     },
     "output_type": "display_data"
    }
   ],
   "source": [
    "# Plotting our results\n",
    "import matplotlib.pyplot as plt\n",
    "plt.figure(figsize=(8, 6))\n",
    "plt.title(\"KNN: Varying Number of Neighbors\")\n",
    "plt.plot(neighbors, train_accuracies.values(), label=\"Training Accuracy\")\n",
    "plt.plot(neighbors, test_accuracies.values(), label=\"Testing Accuracy\")\n",
    "plt.legend()\n",
    "plt.xlabel(\"Number of Neighbors\")\n",
    "plt.ylabel(\"Accuracy\")\n",
    "plt.show()"
   ]
  },
  {
   "cell_type": "code",
   "execution_count": 25,
   "id": "86ef8ce9",
   "metadata": {},
   "outputs": [
    {
     "name": "stdout",
     "output_type": "stream",
     "text": [
      "   pregnancies  glucose  diastolic  triceps  insulin   bmi    dpf  age  \\\n",
      "0            6      148         72       35        0  33.6  0.627   50   \n",
      "1            1       85         66       29        0  26.6  0.351   31   \n",
      "2            8      183         64        0        0  23.3  0.672   32   \n",
      "3            1       89         66       23       94  28.1  0.167   21   \n",
      "4            0      137         40       35      168  43.1  2.288   33   \n",
      "\n",
      "   diabetes  \n",
      "0         1  \n",
      "1         0  \n",
      "2         1  \n",
      "3         0  \n",
      "4         1  \n"
     ]
    }
   ],
   "source": [
    "# Regression\n",
    "# target is continuous\n",
    "# Predicting blood glucose levels\n",
    "import pandas as pd\n",
    "diabetes_df = pd.read_csv(\"datasets/diabetes_clean.csv\")\n",
    "print(diabetes_df.head())"
   ]
  },
  {
   "cell_type": "code",
   "execution_count": 26,
   "id": "11fbbdc8",
   "metadata": {},
   "outputs": [
    {
     "name": "stdout",
     "output_type": "stream",
     "text": [
      "<class 'numpy.ndarray'> <class 'numpy.ndarray'>\n"
     ]
    }
   ],
   "source": [
    "# Creating feature and target arrays\n",
    "X = diabetes_df.drop(\"glucose\", axis=1).values\n",
    "y = diabetes_df[\"glucose\"].values\n",
    "print(type(X), type(y))"
   ]
  },
  {
   "cell_type": "code",
   "execution_count": 83,
   "id": "562bef2f",
   "metadata": {},
   "outputs": [
    {
     "name": "stdout",
     "output_type": "stream",
     "text": [
      "[[ 6.    72.    35.    ...  0.627 50.     1.   ]\n",
      " [ 1.    66.    29.    ...  0.351 31.     0.   ]\n",
      " [ 8.    64.     0.    ...  0.672 32.     1.   ]\n",
      " ...\n",
      " [ 5.    72.    23.    ...  0.245 30.     0.   ]\n",
      " [ 1.    60.     0.    ...  0.349 47.     1.   ]\n",
      " [ 1.    70.    31.    ...  0.315 23.     0.   ]]\n"
     ]
    }
   ],
   "source": [
    "print(X)"
   ]
  },
  {
   "cell_type": "code",
   "execution_count": 27,
   "id": "4ad809e9",
   "metadata": {},
   "outputs": [
    {
     "name": "stdout",
     "output_type": "stream",
     "text": [
      "(768,) (768,)\n"
     ]
    }
   ],
   "source": [
    "# Making predictions from a single feature\n",
    "X_bmi = X[:, 4]\n",
    "print(y.shape, X_bmi.shape)\n"
   ]
  },
  {
   "cell_type": "code",
   "execution_count": 28,
   "id": "3bb0ef2b",
   "metadata": {},
   "outputs": [
    {
     "name": "stdout",
     "output_type": "stream",
     "text": [
      "(768, 1)\n"
     ]
    }
   ],
   "source": [
    "X_bmi = X_bmi.reshape(-1, 1)\n",
    "print(X_bmi.shape)\n",
    "#X_bmi = X_bmi[X_bmi != 0]"
   ]
  },
  {
   "cell_type": "code",
   "execution_count": 29,
   "id": "d399bf3d",
   "metadata": {},
   "outputs": [
    {
     "data": {
      "image/png": "[encoded data removed]",
      "text/plain": [
       "<Figure size 432x288 with 1 Axes>"
      ]
     },
     "metadata": {
      "needs_background": "light"
     },
     "output_type": "display_data"
    }
   ],
   "source": [
    "# Plotting glucose vs. body mass index\n",
    "import matplotlib.pyplot as plt\n",
    "plt.scatter(X_bmi, y)\n",
    "plt.ylabel(\"Blood Glucose (mg/dl)\")\n",
    "plt.xlabel(\"Body Mass Index\")\n",
    "plt.show()"
   ]
  },
  {
   "cell_type": "code",
   "execution_count": 30,
   "id": "fd97191f",
   "metadata": {},
   "outputs": [
    {
     "data": {
      "image/png": "[encoded data removed]",
      "text/plain": [
       "<Figure size 432x288 with 1 Axes>"
      ]
     },
     "metadata": {
      "needs_background": "light"
     },
     "output_type": "display_data"
    }
   ],
   "source": [
    "# Fitting a regression model\n",
    "from sklearn.linear_model import LinearRegression\n",
    "reg = LinearRegression()\n",
    "reg.fit(X_bmi, y)\n",
    "predictions = reg.predict(X_bmi)\n",
    "plt.scatter(X_bmi, y)\n",
    "plt.plot(X_bmi, predictions)\n",
    "plt.ylabel(\"Blood Glucose (mg/dl)\")\n",
    "plt.xlabel(\"Body Mass Index\")\n",
    "plt.show()"
   ]
  },
  {
   "cell_type": "code",
   "execution_count": 31,
   "id": "291af45b",
   "metadata": {},
   "outputs": [
    {
     "name": "stdout",
     "output_type": "stream",
     "text": [
      "(4546, 1) (4546,)\n"
     ]
    }
   ],
   "source": [
    "import numpy as np\n",
    "import pandas as pd\n",
    "sales_df = pd.read_csv(\"datasets/advertising_and_sales_clean.csv\")\n",
    "# Create X from the radio column's values\n",
    "X = sales_df[\"radio\"].values\n",
    "\n",
    "# Create y from the sales column's values\n",
    "y = sales_df[\"sales\"].values\n",
    "\n",
    "# Reshape X\n",
    "X = X.reshape(-1,1)\n",
    "\n",
    "# Check the shape of the features and targets\n",
    "print(X.shape,y.shape)"
   ]
  },
  {
   "cell_type": "code",
   "execution_count": 32,
   "id": "83130117",
   "metadata": {},
   "outputs": [
    {
     "name": "stdout",
     "output_type": "stream",
     "text": [
      "[ 95491.17119147 117829.51038393 173423.38071499 291603.11444202\n",
      " 111137.28167129]\n"
     ]
    }
   ],
   "source": [
    "# Import LinearRegression\n",
    "from sklearn.linear_model import LinearRegression\n",
    "\n",
    "# Create the model\n",
    "reg = LinearRegression()\n",
    "\n",
    "# Fit the model to the data\n",
    "reg.fit(X,y)\n",
    "\n",
    "# Make predictions\n",
    "predictions = reg.predict(X)\n",
    "\n",
    "print(predictions[:5])"
   ]
  },
  {
   "cell_type": "code",
   "execution_count": 33,
   "id": "a9879a14",
   "metadata": {},
   "outputs": [
    {
     "data": {
      "image/png": "[encoded data removed]",
      "text/plain": [
       "<Figure size 432x288 with 1 Axes>"
      ]
     },
     "metadata": {
      "needs_background": "light"
     },
     "output_type": "display_data"
    }
   ],
   "source": [
    "# Import matplotlib.pyplot\n",
    "import matplotlib.pyplot as plt\n",
    "\n",
    "# Create scatter plot\n",
    "plt.scatter(X,y, color=\"blue\")\n",
    "\n",
    "# Create line plot\n",
    "plt.plot(X,predictions,  color=\"red\")\n",
    "plt.xlabel(\"Radio Expenditure ($)\")\n",
    "plt.ylabel(\"Sales ($)\")\n",
    "\n",
    "# Display the plot\n",
    "plt.show()"
   ]
  },
  {
   "cell_type": "code",
   "execution_count": null,
   "id": "8118042c",
   "metadata": {},
   "outputs": [],
   "source": [
    "# Basic of liner regression\n",
    "# Regression mechanics\n",
    "# y = ax + b\n",
    "# Simple linear regression uses one feature\n",
    "# y = target\n",
    "# x = single feature\n",
    "# a, b = parameters/coe)cients of the model - slope, intercept\n",
    "# How do we choose a and b?\n",
    "# De,ne an error function for any given line\n",
    "# Choose the line that minimizes the error function\n",
    "# Error function = loss function = cost function\n",
    "# Ordinary Least Squares\n",
    "# Ordinary Least Squares (OLS): minimize RSS\n",
    "# Linear regression in higher dimensions\n",
    "# y = a x + a x + b\n",
    "# To ,t a linear regression model here:\n",
    "# Need to specify 3 variables: a , a , b\n",
    "# In higher dimensions:\n",
    "# Known as multiple regression\n",
    "# Must specify coe)cients for each feature and the variable b\n",
    "# y = a x + a x + a x + ... + a x + b\n",
    "# scikit-learn works exactly the same way:\n",
    "# Pass two arrays: features and target"
   ]
  },
  {
   "cell_type": "code",
   "execution_count": 34,
   "id": "7e23d5d9",
   "metadata": {
    "scrolled": true
   },
   "outputs": [
    {
     "name": "stdout",
     "output_type": "stream",
     "text": [
      "Predictions: [ 99542.74670817 185017.82496091], Actual Values: [55261.28 67574.9 ]\n"
     ]
    }
   ],
   "source": [
    "import numpy as np\n",
    "import pandas as pd\n",
    "sales_df = pd.read_csv(\"datasets/advertising_and_sales_clean.csv\")\n",
    "from sklearn.linear_model import LinearRegression\n",
    "\n",
    "\n",
    "# Create X and y arrays\n",
    "X = sales_df.drop([\"sales\",\"influencer\"], axis=1).values\n",
    "y = sales_df[\"sales\"].values\n",
    "\n",
    "X_train, X_test, y_train, y_test = train_test_split(X, y, test_size=0.3, random_state=42)\n",
    "\n",
    "# Instantiate the model\n",
    "reg = LinearRegression()\n",
    "\n",
    "# Fit the model to the data\n",
    "reg.fit(X_train, y_train)\n",
    "\n",
    "# Make predictions\n",
    "y_pred = reg.predict(X_train)\n",
    "print(\"Predictions: {}, Actual Values: {}\".format(y_pred[:2], y_test[:2]))\n"
   ]
  },
  {
   "cell_type": "code",
   "execution_count": null,
   "id": "404c6fb8",
   "metadata": {},
   "outputs": [],
   "source": [
    "# R-squared\n",
    "# R : quanties the variance in target values\n",
    "# explained by the features\n",
    "# Values range from 0 to 1\n",
    "# High R(square) : Low R(Square) :\n",
    "# Mean squared error and root mean squared error\n",
    "# MSE = (y − )\n",
    "# MSE is measured in target units, squared\n",
    "# RMSE = square root of MSE\n",
    "# Measure RMSE in the same units at the target variable"
   ]
  },
  {
   "cell_type": "code",
   "execution_count": null,
   "id": "a49b8639",
   "metadata": {},
   "outputs": [],
   "source": [
    "# Import mean_squared_error\n",
    "from sklearn.metrics import mean_squared_error\n",
    "\n",
    "# Compute R-squared\n",
    "r_squared = reg.score(X_test, y_test)\n",
    "\n",
    "# Compute RMSE\n",
    "rmse = mean_squared_error(y_test, y_pred, squared=False)\n",
    "\n",
    "# Print the metrics\n",
    "print(\"R^2: {}\".format(r_squared))\n",
    "print(\"RMSE: {}\".format(rmse))"
   ]
  },
  {
   "cell_type": "markdown",
   "id": "b40b6caf",
   "metadata": {},
   "source": [
    "### Cross-validation motivation\n",
    "- Model performance is dependent on the way we split up the data\n",
    "- Not representative of the model's ability to generalize to unseen data\n",
    "- Solution: Cross-validation!\n",
    "\n",
    "<!-- Cross-validation and model performance\n",
    "5 folds = 5-fold CV\n",
    "10 folds = 10-fold CV\n",
    "k folds = k-fold CV\n",
    "More folds = More computationally expensive -->"
   ]
  },
  {
   "cell_type": "code",
   "execution_count": 36,
   "id": "7a1e0412",
   "metadata": {},
   "outputs": [
    {
     "name": "stdout",
     "output_type": "stream",
     "text": [
      "[0.99900913 0.99898729 0.99897163 0.99898887 0.99893043 0.99905966]\n",
      "0.9989911695584723 3.895599514495595e-05\n",
      "[0.99893558 0.99905335]\n"
     ]
    }
   ],
   "source": [
    "#Cross-validation in scikit-learn\n",
    "from sklearn.model_selection import cross_val_score, KFold\n",
    "kf = KFold(n_splits=6, shuffle=True, random_state=42)\n",
    "reg = LinearRegression()\n",
    "cv_results = cross_val_score(reg, X, y, cv=kf)\n",
    "\n",
    "#Evaluating cross-validation peformance\n",
    "print(cv_results)\n",
    "print(np.mean(cv_results), np.std(cv_results))\n",
    "print(np.quantile(cv_results, [0.025, 0.975]))"
   ]
  },
  {
   "cell_type": "code",
   "execution_count": 37,
   "id": "e7adaacc",
   "metadata": {},
   "outputs": [
    {
     "name": "stdout",
     "output_type": "stream",
     "text": [
      "[0.74470218 0.7724344  0.76841901 0.74186012 0.75174985 0.7444348 ]\n"
     ]
    }
   ],
   "source": [
    "import numpy as np\n",
    "import pandas as pd\n",
    "sales_df = pd.read_csv(\"datasets/advertising_and_sales_clean.csv\")\n",
    "# Create X from the radio column's values\n",
    "X = sales_df[\"radio\"].values\n",
    "\n",
    "# Create y from the sales column's values\n",
    "y = sales_df[\"sales\"].values\n",
    "\n",
    "# Reshape X\n",
    "X = X.reshape(-1,1)\n",
    "\n",
    "\n",
    "# Import the necessary modules\n",
    "from sklearn.model_selection import KFold, cross_val_score\n",
    "from sklearn.linear_model import LinearRegression\n",
    "\n",
    "# Create a KFold object\n",
    "kf = KFold(n_splits=6, shuffle=True, random_state=5)\n",
    "\n",
    "reg = LinearRegression()\n",
    "\n",
    "# Compute 6-fold cross-validation scores\n",
    "cv_results = cross_val_score(reg, X, y, cv=kf)\n",
    "\n",
    "# Print scores\n",
    "print(cv_results)"
   ]
  },
  {
   "cell_type": "code",
   "execution_count": 9,
   "id": "01589208",
   "metadata": {},
   "outputs": [
    {
     "name": "stdout",
     "output_type": "stream",
     "text": [
      "0.7539333927705617\n",
      "0.01209745544789685\n",
      "[0.74218195 0.77193247]\n"
     ]
    }
   ],
   "source": [
    "import numpy as np\n",
    "# Print the mean\n",
    "print(np.mean(cv_results))\n",
    "\n",
    "# Print the standard deviation\n",
    "print(np.std(cv_results))\n",
    "\n",
    "# Print the 95% confidence interval\n",
    "print(np.quantile(cv_results, [0.025, 0.975]))\n",
    "\n",
    "# An average score of 0.75 with a low standard deviation is pretty good for a model out of the box! \n",
    "# Now let's learn how to apply regularization to our regression models."
   ]
  },
  {
   "cell_type": "markdown",
   "id": "2082f8f2",
   "metadata": {},
   "source": [
    "## Regularized regression"
   ]
  },
  {
   "cell_type": "code",
   "execution_count": null,
   "id": "d9f15aaf",
   "metadata": {},
   "outputs": [],
   "source": [
    "# Why regularize?\n",
    "# Recall: Linear regression minimizes a loss function\n",
    "# It chooses a coffecient, a, for each feature variable, plus b\n",
    "# Large coffecients can lead to overing\n",
    "# Regularization: Penalize large coecients\n",
    "    \n",
    "# Ridge regression\n",
    "# Loss function = OLS loss function + α ∗ a\n",
    "# Ridge penalizes large positive or negative coffecients\n",
    "# α: parameter we need to choose\n",
    "# Picking α is similar to picking k in KNN\n",
    "# Hyperparameter: variable used to optimize model parameters\n",
    "# α controls model complexity\n",
    "# α = 0 = OLS (Can lead to overing)\n",
    "# Very high α: Can lead to undefittring"
   ]
  },
  {
   "cell_type": "code",
   "execution_count": 38,
   "id": "7bcfaaf0",
   "metadata": {},
   "outputs": [
    {
     "name": "stdout",
     "output_type": "stream",
     "text": [
      "[0.9990152104759369, 0.9990152104759373, 0.9990152104759419, 0.9990152104759871, 0.9990152104764387]\n"
     ]
    }
   ],
   "source": [
    "# Ridge regression in scikit-learn\n",
    "from sklearn.linear_model import Ridge\n",
    "scores = []\n",
    "for alpha in [0.1, 1.0, 10.0, 100.0, 1000.0]:\n",
    " ridge = Ridge(alpha=alpha)\n",
    " ridge.fit(X_train, y_train)\n",
    " y_pred = ridge.predict(X_test)\n",
    " scores.append(ridge.score(X_test, y_test))\n",
    "print(scores)"
   ]
  },
  {
   "cell_type": "code",
   "execution_count": null,
   "id": "a8dca90b",
   "metadata": {},
   "outputs": [],
   "source": [
    "# Lasso regression\n",
    "# Loss function = OLS loss function +"
   ]
  },
  {
   "cell_type": "code",
   "execution_count": 39,
   "id": "d1bb477f",
   "metadata": {},
   "outputs": [
    {
     "name": "stdout",
     "output_type": "stream",
     "text": [
      "[0.9990152104762495, 0.9990152105072273, 0.9990152107889495, 0.9990152111033483, 0.9990152120375869]\n"
     ]
    }
   ],
   "source": [
    "# Lasso regression in scikit-learn\n",
    "from sklearn.linear_model import Lasso\n",
    "scores = []\n",
    "for alpha in [0.01, 1.0, 10.0, 20.0, 50.0]:\n",
    " lasso = Lasso(alpha=alpha)\n",
    " lasso.fit(X_train, y_train)\n",
    " lasso_pred = lasso.predict(X_test)\n",
    " scores.append(lasso.score(X_test, y_test))\n",
    "print(scores)"
   ]
  },
  {
   "cell_type": "code",
   "execution_count": null,
   "id": "9f531d71",
   "metadata": {},
   "outputs": [],
   "source": [
    "# Lasso regression for feature selection\n",
    "# Lasso can select important features of a dataset\n",
    "# Shrinks the coefficients of less important features to zero\n",
    "# Features not shrunk to zero are selected by lasso"
   ]
  },
  {
   "cell_type": "code",
   "execution_count": 40,
   "id": "af804b26",
   "metadata": {},
   "outputs": [
    {
     "data": {
      "image/png": "[encoded data removed]",
      "text/plain": [
       "<Figure size 432x288 with 1 Axes>"
      ]
     },
     "metadata": {
      "needs_background": "light"
     },
     "output_type": "display_data"
    }
   ],
   "source": [
    "# Lasso for feature selection in scikit-learn\n",
    "from sklearn.linear_model import Lasso\n",
    "X = diabetes_df.drop(\"glucose\", axis=1).values\n",
    "y = diabetes_df[\"glucose\"].values\n",
    "names = diabetes_df.drop(\"glucose\", axis=1).columns\n",
    "lasso = Lasso(alpha=0.1)\n",
    "lasso_coef = lasso.fit(X, y).coef_\n",
    "plt.bar(names, lasso_coef)\n",
    "plt.xticks(rotation=45)\n",
    "plt.show()"
   ]
  },
  {
   "cell_type": "code",
   "execution_count": 42,
   "id": "fcb966c3",
   "metadata": {},
   "outputs": [],
   "source": [
    "# Regularized regression: Ridge\n",
    "# Ridge regression performs regularization by computing the squared values of the model parameters multiplied\n",
    "# by alpha and adding them to the loss function."
   ]
  },
  {
   "cell_type": "code",
   "execution_count": 43,
   "id": "03038772",
   "metadata": {},
   "outputs": [
    {
     "name": "stdout",
     "output_type": "stream",
     "text": [
      "[0.9990152104759369, 0.9990152104759373, 0.9990152104759419, 0.9990152104759871, 0.9990152104764387, 0.9990152104809561]\n"
     ]
    }
   ],
   "source": [
    "# Import Ridge\n",
    "from sklearn.linear_model import Ridge\n",
    "alphas = [0.1, 1.0, 10.0, 100.0, 1000.0, 10000.0]\n",
    "ridge_scores = []\n",
    "for alpha in alphas:\n",
    "  \n",
    "  # Create a Ridge regression model\n",
    "  ridge = Ridge(alpha=alpha)\n",
    "  \n",
    "  # Fit the data\n",
    "  ridge.fit(X_train,y_train)\n",
    "  \n",
    "  # Obtain R-squared\n",
    "  score = ridge.score(X_test,y_test)\n",
    "  ridge_scores.append(score)\n",
    "print(ridge_scores)\n",
    "\n",
    "#The scores don't appear to change much as alpha increases, which is indicative of how well the features explain the variance in the target—even\n",
    "#by heavily penalizing large coefficients, underfitting does not occur!"
   ]
  },
  {
   "cell_type": "code",
   "execution_count": null,
   "id": "b80917d7",
   "metadata": {},
   "outputs": [],
   "source": [
    "# # Lasso regression for feature importance\n",
    "# # lasso regression can be used to identify important features in a dataset.\n",
    "\n",
    "# # Import Lasso\n",
    "# from sklearn.linear_model import Lasso\n",
    "\n",
    "# # Instantiate a lasso regression model\n",
    "# lasso = Lasso(alpha=0.3)\n",
    "\n",
    "# # Fit the model to the data\n",
    "# lasso.fit(X,y)\n",
    "\n",
    "\n",
    "\n",
    "# # Compute and print the coefficients\n",
    "# lasso_coef = lasso.fit(X,y).coef_\n",
    "# print(lasso_coef)\n",
    "# plt.bar(sales, lasso_coef)\n",
    "# plt.xticks(rotation=45)\n",
    "# plt.show()\n",
    "\n",
    "# #See how the figure makes it clear that expenditure on TV advertising is \n",
    "# #the most important feature in the dataset to predict sales values!"
   ]
  },
  {
   "attachments": {
    "image.png": {
     "image/png": "[encoded data removed]"
    }
   },
   "cell_type": "markdown",
   "id": "e041af35",
   "metadata": {},
   "source": [
    "## Fine tune your model\n",
    "\n",
    "- Classification metrics\n",
    "- Measuring model performance with accuracy:\n",
    "    - Fraction of correctly classied samples\n",
    "    - Not always a useful metric\n",
    " \n",
    "- Class imbalance\n",
    "- Classication for predicting fraudulent bank transactions\n",
    "    - 99% of transactions are legitimate; 1% are fraudulent\n",
    "- Could build a classier that predicts NONE of the transactions are fraudulent\n",
    "    - 99% accurate!\n",
    "    - But terrible at actually predicting fraudulent transactions\n",
    "    - Fails at its original purpose\n",
    "- Class imbalance: Uneven frequency of classes\n",
    "- Need a dierent way to assess performance\n",
    "\n",
    "- Confusion matrix for assessing classification\n",
    "    - performance\n",
    "    - Confusion matrix\n",
    "    - ![image.png](attachment:image.png)\n",
    "    \n",
    "- Assessing classification performance\n",
    "\n",
    "- Accuracy\n",
    "  tp + tn / tp + tn + fp + fn\n",
    "  \n",
    "- Precision\n",
    "  tp / tp + fp\n",
    "    - High precision = lower false positive rate\n",
    "    - High precision: Not many legitimate transactions are predicted to be fraudulent\n",
    "    \n",
    "Remember that precision is the proportion of positive labels correctly identified.\n",
    "Precision can be improved by maximizing the number of true positives and minimizing false negatives.    \n",
    "    \n",
    "- Recall\n",
    "  tp / tp + fn\n",
    "    - High recall = lower false negative rate\n",
    "    - High recall: Predicted most fraudulent transactions correctly  \n",
    "    \n",
    "- F1 score\n",
    "    - F1 Score: 2 ∗ (precision ∗ recall)/(precision + recall)"
   ]
  },
  {
   "cell_type": "code",
   "execution_count": 48,
   "id": "6dffb293",
   "metadata": {},
   "outputs": [
    {
     "name": "stdout",
     "output_type": "stream",
     "text": [
      "[[0 0 0 ... 0 0 0]\n",
      " [0 0 0 ... 0 0 0]\n",
      " [0 0 0 ... 0 0 0]\n",
      " ...\n",
      " [0 0 0 ... 0 0 0]\n",
      " [0 0 0 ... 0 0 0]\n",
      " [1 0 0 ... 0 0 0]]\n"
     ]
    }
   ],
   "source": [
    "# Confusion matrix in scikit-learn\n",
    "from sklearn.metrics import classification_report, confusion_matrix\n",
    "knn = KNeighborsClassifier(n_neighbors=7)\n",
    "X_train, X_test, y_train, y_test = train_test_split(X, y, test_size=0.4,random_state=42)\n",
    "knn.fit(X_train, y_train)\n",
    "y_pred = knn.predict(X_test)\n",
    "\n",
    "print(confusion_matrix(y_test, y_pred))"
   ]
  },
  {
   "cell_type": "code",
   "execution_count": 49,
   "id": "d0bdd05d",
   "metadata": {},
   "outputs": [
    {
     "name": "stdout",
     "output_type": "stream",
     "text": [
      "              precision    recall  f1-score   support\n",
      "\n",
      "           0       0.00      0.00      0.00         2\n",
      "          44       0.00      0.00      0.00         0\n",
      "          56       0.00      0.00      0.00         0\n",
      "          57       0.00      0.00      0.00         0\n",
      "          61       0.00      0.00      0.00         1\n",
      "          62       0.00      0.00      0.00         1\n",
      "          65       0.00      0.00      0.00         0\n",
      "          67       0.00      0.00      0.00         0\n",
      "          68       0.00      0.00      0.00         1\n",
      "          71       0.00      0.00      0.00         1\n",
      "          72       0.00      0.00      0.00         0\n",
      "          73       0.00      0.00      0.00         2\n",
      "          74       0.00      0.00      0.00         3\n",
      "          75       0.00      0.00      0.00         1\n",
      "          76       0.00      0.00      0.00         1\n",
      "          77       0.00      0.00      0.00         2\n",
      "          78       0.00      0.00      0.00         3\n",
      "          79       0.00      0.00      0.00         1\n",
      "          80       0.00      0.00      0.00         5\n",
      "          81       0.00      0.00      0.00         3\n",
      "          82       0.00      0.00      0.00         1\n",
      "          83       0.00      0.00      0.00         4\n",
      "          84       0.00      0.00      0.00         5\n",
      "          85       0.00      0.00      0.00         5\n",
      "          86       0.00      0.00      0.00         2\n",
      "          87       0.25      0.33      0.29         3\n",
      "          88       0.50      0.33      0.40         3\n",
      "          89       0.00      0.00      0.00         2\n",
      "          90       0.00      0.00      0.00         3\n",
      "          91       0.00      0.00      0.00         2\n",
      "          92       0.00      0.00      0.00         3\n",
      "          93       0.00      0.00      0.00         2\n",
      "          94       0.00      0.00      0.00         2\n",
      "          95       0.00      0.00      0.00         7\n",
      "          96       0.00      0.00      0.00         3\n",
      "          97       0.00      0.00      0.00         2\n",
      "          98       0.00      0.00      0.00         1\n",
      "          99       0.06      0.33      0.10         3\n",
      "         100       0.00      0.00      0.00         9\n",
      "         101       0.00      0.00      0.00         5\n",
      "         102       0.00      0.00      0.00         5\n",
      "         103       0.00      0.00      0.00         4\n",
      "         104       0.00      0.00      0.00         5\n",
      "         105       0.00      0.00      0.00         6\n",
      "         106       0.00      0.00      0.00         7\n",
      "         107       0.00      0.00      0.00         5\n",
      "         108       0.00      0.00      0.00         3\n",
      "         109       0.33      0.12      0.18         8\n",
      "         110       0.00      0.00      0.00         3\n",
      "         111       0.00      0.00      0.00         6\n",
      "         112       0.17      0.14      0.15         7\n",
      "         113       0.00      0.00      0.00         0\n",
      "         114       0.00      0.00      0.00         2\n",
      "         115       0.00      0.00      0.00         3\n",
      "         116       0.00      0.00      0.00         1\n",
      "         117       0.00      0.00      0.00         4\n",
      "         118       0.00      0.00      0.00         0\n",
      "         119       0.00      0.00      0.00         4\n",
      "         120       0.00      0.00      0.00         4\n",
      "         121       0.00      0.00      0.00         2\n",
      "         122       0.00      0.00      0.00         3\n",
      "         123       0.00      0.00      0.00         5\n",
      "         124       0.00      0.00      0.00         4\n",
      "         125       0.00      0.00      0.00         3\n",
      "         126       0.00      0.00      0.00         3\n",
      "         127       0.00      0.00      0.00         3\n",
      "         128       0.00      0.00      0.00         3\n",
      "         129       0.00      0.00      0.00         8\n",
      "         130       0.00      0.00      0.00         1\n",
      "         131       0.00      0.00      0.00         3\n",
      "         132       0.00      0.00      0.00         1\n",
      "         133       0.00      0.00      0.00         2\n",
      "         134       0.00      0.00      0.00         3\n",
      "         135       0.00      0.00      0.00         4\n",
      "         136       0.00      0.00      0.00         2\n",
      "         137       0.00      0.00      0.00         2\n",
      "         138       0.00      0.00      0.00         1\n",
      "         139       0.00      0.00      0.00         4\n",
      "         140       0.00      0.00      0.00         2\n",
      "         141       0.00      0.00      0.00         1\n",
      "         142       0.00      0.00      0.00         1\n",
      "         143       0.00      0.00      0.00         4\n",
      "         144       0.00      0.00      0.00         3\n",
      "         145       0.00      0.00      0.00         3\n",
      "         146       0.00      0.00      0.00         4\n",
      "         147       0.00      0.00      0.00         3\n",
      "         148       0.00      0.00      0.00         1\n",
      "         150       0.00      0.00      0.00         2\n",
      "         151       0.00      0.00      0.00         2\n",
      "         152       0.00      0.00      0.00         4\n",
      "         154       0.00      0.00      0.00         2\n",
      "         155       0.33      0.50      0.40         2\n",
      "         158       0.00      0.00      0.00         4\n",
      "         159       0.00      0.00      0.00         2\n",
      "         160       0.00      0.00      0.00         1\n",
      "         161       0.00      0.00      0.00         2\n",
      "         162       0.00      0.00      0.00         3\n",
      "         164       0.00      0.00      0.00         1\n",
      "         165       0.00      0.00      0.00         3\n",
      "         167       0.00      0.00      0.00         2\n",
      "         168       0.00      0.00      0.00         2\n",
      "         170       0.00      0.00      0.00         1\n",
      "         171       0.00      0.00      0.00         3\n",
      "         172       0.00      0.00      0.00         1\n",
      "         173       0.00      0.00      0.00         2\n",
      "         175       0.00      0.00      0.00         1\n",
      "         177       0.00      0.00      0.00         1\n",
      "         179       0.00      0.00      0.00         2\n",
      "         180       0.00      0.00      0.00         1\n",
      "         181       0.00      0.00      0.00         1\n",
      "         183       0.00      0.00      0.00         2\n",
      "         184       0.00      0.00      0.00         2\n",
      "         187       0.00      0.00      0.00         2\n",
      "         189       0.00      0.00      0.00         3\n",
      "         191       0.00      0.00      0.00         1\n",
      "         194       0.00      0.00      0.00         1\n",
      "         195       0.00      0.00      0.00         1\n",
      "         196       0.00      0.00      0.00         0\n",
      "         197       0.00      0.00      0.00         1\n",
      "\n",
      "    accuracy                           0.02       308\n",
      "   macro avg       0.01      0.01      0.01       308\n",
      "weighted avg       0.02      0.02      0.02       308\n",
      "\n"
     ]
    },
    {
     "name": "stderr",
     "output_type": "stream",
     "text": [
      "C:\\software\\anaconda3\\lib\\site-packages\\sklearn\\metrics\\_classification.py:1327: UndefinedMetricWarning: Precision and F-score are ill-defined and being set to 0.0 in labels with no predicted samples. Use `zero_division` parameter to control this behavior.\n",
      "  _warn_prf(average, modifier, msg_start, len(result))\n",
      "C:\\software\\anaconda3\\lib\\site-packages\\sklearn\\metrics\\_classification.py:1327: UndefinedMetricWarning: Recall and F-score are ill-defined and being set to 0.0 in labels with no true samples. Use `zero_division` parameter to control this behavior.\n",
      "  _warn_prf(average, modifier, msg_start, len(result))\n",
      "C:\\software\\anaconda3\\lib\\site-packages\\sklearn\\metrics\\_classification.py:1327: UndefinedMetricWarning: Precision and F-score are ill-defined and being set to 0.0 in labels with no predicted samples. Use `zero_division` parameter to control this behavior.\n",
      "  _warn_prf(average, modifier, msg_start, len(result))\n",
      "C:\\software\\anaconda3\\lib\\site-packages\\sklearn\\metrics\\_classification.py:1327: UndefinedMetricWarning: Recall and F-score are ill-defined and being set to 0.0 in labels with no true samples. Use `zero_division` parameter to control this behavior.\n",
      "  _warn_prf(average, modifier, msg_start, len(result))\n",
      "C:\\software\\anaconda3\\lib\\site-packages\\sklearn\\metrics\\_classification.py:1327: UndefinedMetricWarning: Precision and F-score are ill-defined and being set to 0.0 in labels with no predicted samples. Use `zero_division` parameter to control this behavior.\n",
      "  _warn_prf(average, modifier, msg_start, len(result))\n",
      "C:\\software\\anaconda3\\lib\\site-packages\\sklearn\\metrics\\_classification.py:1327: UndefinedMetricWarning: Recall and F-score are ill-defined and being set to 0.0 in labels with no true samples. Use `zero_division` parameter to control this behavior.\n",
      "  _warn_prf(average, modifier, msg_start, len(result))\n"
     ]
    }
   ],
   "source": [
    "# Classification report in scikit-learn\n",
    "print(classification_report(y_test, y_pred))"
   ]
  },
  {
   "cell_type": "code",
   "execution_count": 50,
   "id": "1e6f490b",
   "metadata": {},
   "outputs": [
    {
     "name": "stdout",
     "output_type": "stream",
     "text": [
      "[[0 0 0 ... 0 0 0]\n",
      " [0 0 0 ... 0 0 0]\n",
      " [0 0 0 ... 0 0 0]\n",
      " ...\n",
      " [0 0 0 ... 0 0 0]\n",
      " [0 0 0 ... 0 0 0]\n",
      " [1 0 0 ... 0 0 0]]\n",
      "              precision    recall  f1-score   support\n",
      "\n",
      "           0       0.00      0.00      0.00         2\n",
      "          44       0.00      0.00      0.00         0\n",
      "          56       0.00      0.00      0.00         0\n",
      "          57       0.00      0.00      0.00         0\n",
      "          61       0.00      0.00      0.00         1\n",
      "          62       0.00      0.00      0.00         1\n",
      "          65       0.00      0.00      0.00         0\n",
      "          67       0.00      0.00      0.00         0\n",
      "          68       0.00      0.00      0.00         1\n",
      "          71       0.00      0.00      0.00         1\n",
      "          72       0.00      0.00      0.00         0\n",
      "          73       0.00      0.00      0.00         2\n",
      "          74       0.00      0.00      0.00         3\n",
      "          75       0.00      0.00      0.00         1\n",
      "          76       0.00      0.00      0.00         1\n",
      "          77       0.00      0.00      0.00         2\n",
      "          78       0.00      0.00      0.00         3\n",
      "          79       0.00      0.00      0.00         1\n",
      "          80       0.00      0.00      0.00         5\n",
      "          81       0.00      0.00      0.00         3\n",
      "          82       0.00      0.00      0.00         1\n",
      "          83       0.00      0.00      0.00         4\n",
      "          84       0.00      0.00      0.00         5\n",
      "          85       0.00      0.00      0.00         5\n",
      "          86       0.00      0.00      0.00         2\n",
      "          87       0.14      0.33      0.20         3\n",
      "          88       0.25      0.33      0.29         3\n",
      "          89       0.00      0.00      0.00         2\n",
      "          90       0.00      0.00      0.00         3\n",
      "          91       0.00      0.00      0.00         2\n",
      "          92       0.00      0.00      0.00         3\n",
      "          93       0.00      0.00      0.00         2\n",
      "          94       0.00      0.00      0.00         2\n",
      "          95       0.00      0.00      0.00         7\n",
      "          96       0.00      0.00      0.00         3\n",
      "          97       0.00      0.00      0.00         2\n",
      "          98       0.00      0.00      0.00         1\n",
      "          99       0.00      0.00      0.00         3\n",
      "         100       0.00      0.00      0.00         9\n",
      "         101       0.00      0.00      0.00         5\n",
      "         102       0.00      0.00      0.00         5\n",
      "         103       0.00      0.00      0.00         4\n",
      "         104       0.00      0.00      0.00         5\n",
      "         105       0.00      0.00      0.00         6\n",
      "         106       0.00      0.00      0.00         7\n",
      "         107       0.00      0.00      0.00         5\n",
      "         108       0.00      0.00      0.00         3\n",
      "         109       0.50      0.12      0.20         8\n",
      "         110       0.00      0.00      0.00         3\n",
      "         111       0.00      0.00      0.00         6\n",
      "         112       0.00      0.00      0.00         7\n",
      "         113       0.00      0.00      0.00         0\n",
      "         114       0.00      0.00      0.00         2\n",
      "         115       0.00      0.00      0.00         3\n",
      "         116       0.00      0.00      0.00         1\n",
      "         117       0.00      0.00      0.00         4\n",
      "         118       0.00      0.00      0.00         0\n",
      "         119       0.00      0.00      0.00         4\n",
      "         120       0.00      0.00      0.00         4\n",
      "         121       0.00      0.00      0.00         2\n",
      "         122       0.00      0.00      0.00         3\n",
      "         123       0.00      0.00      0.00         5\n",
      "         124       0.00      0.00      0.00         4\n",
      "         125       0.00      0.00      0.00         3\n",
      "         126       0.00      0.00      0.00         3\n",
      "         127       0.00      0.00      0.00         3\n",
      "         128       0.00      0.00      0.00         3\n",
      "         129       0.00      0.00      0.00         8\n",
      "         130       0.00      0.00      0.00         1\n",
      "         131       0.00      0.00      0.00         3\n",
      "         132       0.00      0.00      0.00         1\n",
      "         133       0.00      0.00      0.00         2\n",
      "         134       0.00      0.00      0.00         3\n",
      "         135       0.00      0.00      0.00         4\n",
      "         136       0.00      0.00      0.00         2\n",
      "         137       0.00      0.00      0.00         2\n",
      "         138       0.00      0.00      0.00         1\n",
      "         139       0.00      0.00      0.00         4\n",
      "         140       0.00      0.00      0.00         2\n",
      "         141       0.00      0.00      0.00         1\n",
      "         142       0.00      0.00      0.00         1\n",
      "         143       0.00      0.00      0.00         4\n",
      "         144       0.00      0.00      0.00         3\n",
      "         145       0.00      0.00      0.00         3\n",
      "         146       0.00      0.00      0.00         4\n",
      "         147       0.00      0.00      0.00         3\n",
      "         148       0.00      0.00      0.00         1\n",
      "         150       0.00      0.00      0.00         2\n",
      "         151       0.00      0.00      0.00         2\n",
      "         152       0.00      0.00      0.00         4\n",
      "         154       0.00      0.00      0.00         2\n",
      "         155       0.50      0.50      0.50         2\n",
      "         158       0.00      0.00      0.00         4\n",
      "         159       0.00      0.00      0.00         2\n",
      "         160       0.00      0.00      0.00         1\n",
      "         161       0.00      0.00      0.00         2\n",
      "         162       0.00      0.00      0.00         3\n",
      "         164       0.00      0.00      0.00         1\n",
      "         165       0.00      0.00      0.00         3\n",
      "         167       0.00      0.00      0.00         2\n",
      "         168       0.00      0.00      0.00         2\n",
      "         170       0.00      0.00      0.00         1\n",
      "         171       0.00      0.00      0.00         3\n",
      "         172       0.00      0.00      0.00         1\n",
      "         173       0.00      0.00      0.00         2\n",
      "         175       0.00      0.00      0.00         1\n",
      "         177       0.00      0.00      0.00         1\n",
      "         179       0.00      0.00      0.00         2\n",
      "         180       0.00      0.00      0.00         1\n",
      "         181       0.00      0.00      0.00         1\n",
      "         183       0.00      0.00      0.00         2\n",
      "         184       0.00      0.00      0.00         2\n",
      "         187       0.00      0.00      0.00         2\n",
      "         189       0.00      0.00      0.00         3\n",
      "         191       0.00      0.00      0.00         1\n",
      "         194       0.00      0.00      0.00         1\n",
      "         195       0.00      0.00      0.00         1\n",
      "         196       0.00      0.00      0.00         0\n",
      "         197       0.00      0.00      0.00         1\n",
      "\n",
      "    accuracy                           0.01       308\n",
      "   macro avg       0.01      0.01      0.01       308\n",
      "weighted avg       0.02      0.01      0.01       308\n",
      "\n"
     ]
    },
    {
     "name": "stderr",
     "output_type": "stream",
     "text": [
      "C:\\software\\anaconda3\\lib\\site-packages\\sklearn\\metrics\\_classification.py:1327: UndefinedMetricWarning: Precision and F-score are ill-defined and being set to 0.0 in labels with no predicted samples. Use `zero_division` parameter to control this behavior.\n",
      "  _warn_prf(average, modifier, msg_start, len(result))\n",
      "C:\\software\\anaconda3\\lib\\site-packages\\sklearn\\metrics\\_classification.py:1327: UndefinedMetricWarning: Recall and F-score are ill-defined and being set to 0.0 in labels with no true samples. Use `zero_division` parameter to control this behavior.\n",
      "  _warn_prf(average, modifier, msg_start, len(result))\n",
      "C:\\software\\anaconda3\\lib\\site-packages\\sklearn\\metrics\\_classification.py:1327: UndefinedMetricWarning: Precision and F-score are ill-defined and being set to 0.0 in labels with no predicted samples. Use `zero_division` parameter to control this behavior.\n",
      "  _warn_prf(average, modifier, msg_start, len(result))\n",
      "C:\\software\\anaconda3\\lib\\site-packages\\sklearn\\metrics\\_classification.py:1327: UndefinedMetricWarning: Recall and F-score are ill-defined and being set to 0.0 in labels with no true samples. Use `zero_division` parameter to control this behavior.\n",
      "  _warn_prf(average, modifier, msg_start, len(result))\n",
      "C:\\software\\anaconda3\\lib\\site-packages\\sklearn\\metrics\\_classification.py:1327: UndefinedMetricWarning: Precision and F-score are ill-defined and being set to 0.0 in labels with no predicted samples. Use `zero_division` parameter to control this behavior.\n",
      "  _warn_prf(average, modifier, msg_start, len(result))\n",
      "C:\\software\\anaconda3\\lib\\site-packages\\sklearn\\metrics\\_classification.py:1327: UndefinedMetricWarning: Recall and F-score are ill-defined and being set to 0.0 in labels with no true samples. Use `zero_division` parameter to control this behavior.\n",
      "  _warn_prf(average, modifier, msg_start, len(result))\n"
     ]
    }
   ],
   "source": [
    "# Import confusion matrix\n",
    "from sklearn.metrics import confusion_matrix,classification_report \n",
    "\n",
    "knn = KNeighborsClassifier(n_neighbors=6)\n",
    "\n",
    "# Fit the model to the training data\n",
    "knn.fit(X_train, y_train)\n",
    "\n",
    "# Predict the labels of the test data: y_pred\n",
    "y_pred = knn.predict(X_test)\n",
    "\n",
    "# Generate the confusion matrix and classification report\n",
    "print(confusion_matrix(y_test, y_pred))\n",
    "print(classification_report(y_test, y_pred))"
   ]
  },
  {
   "cell_type": "markdown",
   "id": "f6419d1a",
   "metadata": {},
   "source": [
    "## Logistic regression and the ROC curve"
   ]
  },
  {
   "cell_type": "code",
   "execution_count": 51,
   "id": "59afce02",
   "metadata": {},
   "outputs": [],
   "source": [
    "import pandas as pd\n",
    "import numpy as np\n",
    "churn_df = pd.read_csv('datasets/telecom_churn_clean.csv')\n",
    "from sklearn.model_selection import train_test_split\n",
    "\n",
    "X = churn_df.drop(\"churn\", axis=1).values\n",
    "y = churn_df[\"churn\"].values"
   ]
  },
  {
   "cell_type": "code",
   "execution_count": null,
   "id": "cb7efa1c",
   "metadata": {},
   "outputs": [],
   "source": [
    "# Logistic regression for binary classification\n",
    "# Logistic regression is used for classification problems\n",
    "# Logistic regression outputs probabilities\n",
    "# If the probability, p > 0.5:\n",
    "# The data is labeled 1\n",
    "# If the probability, p < 0.5:\n",
    "# The data is labeled 0"
   ]
  },
  {
   "cell_type": "code",
   "execution_count": null,
   "id": "e78070f8",
   "metadata": {},
   "outputs": [],
   "source": [
    "# Logistic regression in scikit-learn\n",
    "# from sklearn.linear_model import LogisticRegression\n",
    "# logreg = LogisticRegression()\n",
    "# X_train, X_test, y_train, y_test = train_test_split(X, y, test_size=0.3,random_state=42)\n",
    "# logreg.fit(X_train, y_train)\n",
    "# y_pred = logreg.predict(X_test)\n",
    "\n",
    "# Predicting probabilities\n",
    "# y_pred_probs = logreg.predict_proba(X_test)[:, 1]\n",
    "# print(y_pred_probs[0])"
   ]
  },
  {
   "cell_type": "code",
   "execution_count": null,
   "id": "8183deda",
   "metadata": {},
   "outputs": [],
   "source": [
    "# Probability thresholds\n",
    "# By default, logistic regression threshold = 0.5\n",
    "# Not specic to logistic regression\n",
    "# KNN classiers also have thresholds\n",
    "# What happens if we vary the threshold?"
   ]
  },
  {
   "cell_type": "code",
   "execution_count": null,
   "id": "286f4b3e",
   "metadata": {},
   "outputs": [],
   "source": [
    "# Plotting the ROC curve\n",
    "# from sklearn.metrics import roc_curve\n",
    "# fpr, tpr, thresholds = roc_curve(y_test, y_pred_probs)\n",
    "# plt.plot([0, 1], [0, 1],'k--')\n",
    "# plt.plot(fpr, tpr)\n",
    "# plt.xlabel('False Positive Rate')\n",
    "# plt.ylabel('True Positive Rate')\n",
    "# plt.title('Logistic Regression ROC Curve')\n",
    "# plt.show()\n",
    "\n",
    "# ROC AUC in scikit-learn\n",
    "# from sklearn.metrics import roc_auc_score\n",
    "# print(roc_auc_score(y_test, y_pred_probs))"
   ]
  },
  {
   "cell_type": "code",
   "execution_count": 53,
   "id": "8c5063ae",
   "metadata": {},
   "outputs": [
    {
     "name": "stdout",
     "output_type": "stream",
     "text": [
      "[0.16137117 0.04558627 0.11403398 0.27487289 0.09786313 0.04958807\n",
      " 0.02987531 0.09776446 0.21051734 0.11330542]\n"
     ]
    },
    {
     "name": "stderr",
     "output_type": "stream",
     "text": [
      "C:\\software\\anaconda3\\lib\\site-packages\\sklearn\\linear_model\\_logistic.py:444: ConvergenceWarning: lbfgs failed to converge (status=1):\n",
      "STOP: TOTAL NO. of ITERATIONS REACHED LIMIT.\n",
      "\n",
      "Increase the number of iterations (max_iter) or scale the data as shown in:\n",
      "    https://scikit-learn.org/stable/modules/preprocessing.html\n",
      "Please also refer to the documentation for alternative solver options:\n",
      "    https://scikit-learn.org/stable/modules/linear_model.html#logistic-regression\n",
      "  n_iter_i = _check_optimize_result(\n"
     ]
    }
   ],
   "source": [
    "# Import LogisticRegression\n",
    "from sklearn.linear_model import LogisticRegression\n",
    "\n",
    "# Instantiate the model\n",
    "logreg = LogisticRegression()\n",
    "\n",
    "# Fit the model\n",
    "logreg.fit(X_train,y_train)\n",
    "\n",
    "# Predict probabilities\n",
    "y_pred_probs = logreg.predict_proba(X_test)[:, 1]\n",
    "\n",
    "print(y_pred_probs[:10])"
   ]
  },
  {
   "cell_type": "code",
   "execution_count": 54,
   "id": "3a6613e3",
   "metadata": {},
   "outputs": [
    {
     "data": {
      "image/png": "[encoded data removed]",
      "text/plain": [
       "<Figure size 432x288 with 1 Axes>"
      ]
     },
     "metadata": {
      "needs_background": "light"
     },
     "output_type": "display_data"
    }
   ],
   "source": [
    "# Import roc_curve\n",
    "from sklearn.metrics import roc_curve\n",
    "\n",
    "# Generate ROC curve values: fpr, tpr, thresholds\n",
    "fpr, tpr, thresholds = roc_curve(y_test, y_pred_probs)\n",
    "\n",
    "plt.plot([0, 1], [0, 1], 'k--')\n",
    "\n",
    "# Plot tpr against fpr\n",
    "plt.plot(fpr, tpr)\n",
    "plt.xlabel('False Positive Rate')\n",
    "plt.ylabel('True Positive Rate')\n",
    "plt.title('ROC Curve for Diabetes Prediction')\n",
    "plt.show()\n",
    "\n",
    "#the ROC curve to visualize how the true positive rate and false positive rate vary as the decision threshold changes.\n",
    "\n",
    "#The ROC curve is above the dotted line, so the model performs better than randomly guessing the class of each observation."
   ]
  },
  {
   "cell_type": "code",
   "execution_count": 55,
   "id": "8751b8f0",
   "metadata": {},
   "outputs": [
    {
     "name": "stdout",
     "output_type": "stream",
     "text": [
      "0.7320462501325979\n",
      "[[856   1]\n",
      " [139   4]]\n",
      "              precision    recall  f1-score   support\n",
      "\n",
      "           0       0.86      1.00      0.92       857\n",
      "           1       0.80      0.03      0.05       143\n",
      "\n",
      "    accuracy                           0.86      1000\n",
      "   macro avg       0.83      0.51      0.49      1000\n",
      "weighted avg       0.85      0.86      0.80      1000\n",
      "\n"
     ]
    }
   ],
   "source": [
    "# Import roc_auc_score\n",
    "from sklearn.metrics import roc_auc_score\n",
    "\n",
    "# Calculate roc_auc_score\n",
    "print(roc_auc_score(y_test, y_pred_probs))\n",
    "\n",
    "# Calculate the confusion matrix\n",
    "print(confusion_matrix(y_test, y_pred))\n",
    "\n",
    "# Calculate the classification report\n",
    "print(classification_report(y_test, y_pred))\n",
    "\n",
    "#Did you notice that logistic regression performs better than the KNN model across all the metrics you calculated? \n",
    "#A ROC AUC score of 0.8002 means this model is 60% better than a chance model at correctly predicting labels! scikit-learn makes \n",
    "#it easy to produce several classification metrics with only a few lines of code."
   ]
  },
  {
   "cell_type": "markdown",
   "id": "f0f0add6",
   "metadata": {},
   "source": [
    "## Hyperparameter tuning"
   ]
  },
  {
   "cell_type": "code",
   "execution_count": null,
   "id": "43c6deea",
   "metadata": {},
   "outputs": [],
   "source": [
    "# Hyperparameter tuning\n",
    "# Ridge/lasso regression: Choosing alpha\n",
    "# KNN: Choosing n_neighbors\n",
    "# Hyperparameters: Parameters we specify before ing the model\n",
    "# Like alpha and n_neighbors\n",
    "\n",
    "\n",
    "# Choosing the correct hyperparameters\n",
    "# 1. Try lots of different hyperparameter values\n",
    "# 2. Fit all of them separately\n",
    "# 3. See how well they perform\n",
    "# 4. Choose the best performing values\n",
    "\n",
    "# This is called hyperparameter tuning\n",
    "\n",
    "# It is essential to use cross-validation to avoid overing to the test set\n",
    "# We can still split the data and perform cross-validation on the training set\n",
    "# We withhold the test set for final evaluation\n",
    "\n",
    "Grid search cross-validation\n",
    "Grid search cross-validation\n",
    "\n",
    "Limitations and an alternative approach\n",
    "3-fold cross-validation, 1 hyperparameter, 10 total values = 30 ts\n",
    "10 fold cross-validation, 3 hyperparameters, 30 total values = 900 ts\n"
   ]
  },
  {
   "cell_type": "code",
   "execution_count": 56,
   "id": "44f1f5fe",
   "metadata": {
    "scrolled": true
   },
   "outputs": [
    {
     "name": "stderr",
     "output_type": "stream",
     "text": [
      "C:\\software\\anaconda3\\lib\\site-packages\\sklearn\\linear_model\\_coordinate_descent.py:648: ConvergenceWarning: Objective did not converge. You might want to increase the number of iterations, check the scale of the features or consider increasing regularisation. Duality gap: 8.658e+01, tolerance: 2.347e-02\n",
      "  model = cd_fast.enet_coordinate_descent(\n",
      "C:\\software\\anaconda3\\lib\\site-packages\\sklearn\\linear_model\\_coordinate_descent.py:648: ConvergenceWarning: Objective did not converge. You might want to increase the number of iterations, check the scale of the features or consider increasing regularisation. Duality gap: 9.111e+01, tolerance: 2.495e-02\n",
      "  model = cd_fast.enet_coordinate_descent(\n",
      "C:\\software\\anaconda3\\lib\\site-packages\\sklearn\\linear_model\\_coordinate_descent.py:648: ConvergenceWarning: Objective did not converge. You might want to increase the number of iterations, check the scale of the features or consider increasing regularisation. Duality gap: 8.868e+01, tolerance: 2.425e-02\n",
      "  model = cd_fast.enet_coordinate_descent(\n",
      "C:\\software\\anaconda3\\lib\\site-packages\\sklearn\\linear_model\\_coordinate_descent.py:648: ConvergenceWarning: Objective did not converge. You might want to increase the number of iterations, check the scale of the features or consider increasing regularisation. Duality gap: 9.408e+01, tolerance: 2.467e-02\n",
      "  model = cd_fast.enet_coordinate_descent(\n",
      "C:\\software\\anaconda3\\lib\\site-packages\\sklearn\\linear_model\\_coordinate_descent.py:648: ConvergenceWarning: Objective did not converge. You might want to increase the number of iterations, check the scale of the features or consider increasing regularisation. Duality gap: 8.935e+01, tolerance: 2.375e-02\n",
      "  model = cd_fast.enet_coordinate_descent(\n",
      "C:\\software\\anaconda3\\lib\\site-packages\\sklearn\\linear_model\\_coordinate_descent.py:648: ConvergenceWarning: Objective did not converge. You might want to increase the number of iterations, check the scale of the features or consider increasing regularisation. Duality gap: 9.004e+01, tolerance: 2.411e-02\n",
      "  model = cd_fast.enet_coordinate_descent(\n"
     ]
    },
    {
     "name": "stdout",
     "output_type": "stream",
     "text": [
      "Tuned lasso paramaters: {'alpha': 1e-05}\n",
      "Tuned lasso score: 0.16366278572329832\n"
     ]
    },
    {
     "name": "stderr",
     "output_type": "stream",
     "text": [
      "C:\\software\\anaconda3\\lib\\site-packages\\sklearn\\linear_model\\_coordinate_descent.py:648: ConvergenceWarning: Objective did not converge. You might want to increase the number of iterations, check the scale of the features or consider increasing regularisation. Duality gap: 1.077e+02, tolerance: 2.905e-02\n",
      "  model = cd_fast.enet_coordinate_descent(\n"
     ]
    }
   ],
   "source": [
    "# Import GridSearchCV\n",
    "from sklearn.model_selection  import GridSearchCV\n",
    "\n",
    "# Set up the parameter grid\n",
    "param_grid = {\"alpha\": np.linspace(0.00001, 1,20)}\n",
    "\n",
    "# Instantiate lasso_cv\n",
    "lasso_cv = GridSearchCV(lasso, param_grid, cv=kf)\n",
    "\n",
    "# Fit to the training data\n",
    "lasso_cv.fit(X_train, y_train)\n",
    "print(\"Tuned lasso paramaters: {}\".format(lasso_cv.best_params_))\n",
    "print(\"Tuned lasso score: {}\".format(lasso_cv.best_score_))\n",
    "\n",
    "#Unfortunately, the best model only has an R-squared score of 0.33,\n",
    "#highlighting that using the optimal hyperparameters does not guarantee a high performing model!"
   ]
  },
  {
   "cell_type": "code",
   "execution_count": null,
   "id": "6385597b",
   "metadata": {},
   "outputs": [],
   "source": [
    "# # Create the parameter space\n",
    "# params = {\"penalty\": [\"l1\", \"l2\"],\n",
    "#          \"tol\": np.linspace(0.0001, 1.0, 50),\n",
    "#          \"C\": np.linspace(0.1, 1.0, 50),\n",
    "#          \"class_weight\": [\"balanced\", {0:0.8, 1:0.2}]}\n",
    "\n",
    "# # Instantiate the RandomizedSearchCV object\n",
    "# logreg_cv = RandomizedSearchCV(logreg, params, cv=kf)\n",
    "\n",
    "# # Fit the data to the model\n",
    "# logreg_cv.fit(X_train, y_train)\n",
    "\n",
    "# # Print the tuned parameters and score\n",
    "# print(\"Tuned Logistic Regression Parameters: {}\".format(logreg_cv.best_params_))\n",
    "# print(\"Tuned Logistic Regression Best Accuracy Score: {}\".format(logreg_cv.best_score_))"
   ]
  },
  {
   "cell_type": "markdown",
   "id": "64918746",
   "metadata": {},
   "source": [
    "## Preprocession data"
   ]
  },
  {
   "cell_type": "markdown",
   "id": "4896d66c",
   "metadata": {},
   "source": [
    "- scikit-learn requirements\n",
    "    - Numeric data\n",
    "    - No missing values\n",
    "- With real-world data:\n",
    "    - This is rarely the case\n",
    "    - We will oen need to preprocess our data first\n",
    "    \n",
    "- Dealing with categorical features\n",
    "    - scikit-learn will not accept categorical features by default\n",
    "    - Need to convert categorical features into numeric values\n",
    "- Convert to binary features called dummy variables\n",
    "    - 0: Observation was NOT that category\n",
    "    - 1: Observation was that category  \n",
    "    \n",
    "    \n",
    "- Dealing with categorical features in Python\n",
    "    - scikit-learn: OneHotEncoder()\n",
    "    - pandas: get_dummies()    "
   ]
  },
  {
   "cell_type": "code",
   "execution_count": 9,
   "id": "1ff04454",
   "metadata": {},
   "outputs": [],
   "source": [
    "# Music dataset\n",
    "# popularity : Target variable\n",
    "# genre : Categorical feature\n"
   ]
  },
  {
   "cell_type": "code",
   "execution_count": 12,
   "id": "2397a8cc",
   "metadata": {},
   "outputs": [],
   "source": [
    "# Encoding dummy variables\n",
    "\n",
    "# import pandas as pd\n",
    "# music_df = pd.read_csv('datasets/music_clean.csv')\n",
    "# music_dummies = pd.get_dummies(music_df[\"genre\"], drop_first=True)\n",
    "# print(music_dummies.head())\n",
    "\n",
    "# music_dummies = pd.concat([music_df, music_dummies], axis=1)\n",
    "# music_dummies = music_dummies.drop(\"genre\", axis=1)"
   ]
  },
  {
   "cell_type": "code",
   "execution_count": null,
   "id": "bd30e39f",
   "metadata": {},
   "outputs": [],
   "source": [
    "# Encoding dummy variables\n",
    "\n",
    "# music_dummies = pd.get_dummies(music_df, drop_first=True)\n",
    "# print(music_dummies.columns)"
   ]
  },
  {
   "cell_type": "code",
   "execution_count": null,
   "id": "127783f4",
   "metadata": {},
   "outputs": [],
   "source": [
    "# Linear regression with dummy variables\n",
    "\n",
    "# from sklearn.model_selection import cross_val_score, KFold\n",
    "# from sklearn.linear_model import LinearRegression\n",
    "# X = music_dummies.drop(\"popularity\", axis=1).values\n",
    "# y = music_dummies[\"popularity\"].values\n",
    "# X_train, X_test, y_train, y_test = train_test_split(X, y, test_size=0.2,random_state=42)\n",
    "\n",
    "# kf = KFold(n_splits=5, shuffle=True, random_state=42)\n",
    "# linreg = LinearRegression()\n",
    "# linreg_cv = cross_val_score(linreg, X_train, y_train, cv=kf,scoring=\"neg_mean_squared_error\")\n",
    "# print(np.sqrt(-linreg_cv))"
   ]
  },
  {
   "cell_type": "markdown",
   "id": "9d44be4d",
   "metadata": {},
   "source": [
    "## Handling missing data\n",
    "- Missing data\n",
    "- No value for a feature in a particular row\n",
    "- This can occur because:\n",
    "    - There may have been no observation\n",
    "    - The data might be corrupt\n",
    "- We need to deal with missing data"
   ]
  },
  {
   "cell_type": "code",
   "execution_count": null,
   "id": "2f3b227d",
   "metadata": {},
   "outputs": [],
   "source": [
    "print(music_df.isna().sum().sort_values())\n",
    "#Dropping missing data\n",
    "music_df = music_df.dropna(subset=[\"genre\",\"popularity\",\"loudness\",\"liveness\",\"tempo\"])\n",
    "print(music_df.isna().sum().sort_values())"
   ]
  },
  {
   "cell_type": "markdown",
   "id": "bb051715",
   "metadata": {},
   "source": [
    "### Imputing values\n",
    "- Imputation - use subject-matter expertise to replace missing data with educated guesses\n",
    "- Common to use the mean\n",
    "- Can also use the median, or another value\n",
    "- For categorical values, we typically use the most frequent value - the mode\n",
    "- Must split our data first, to avoid data leakage"
   ]
  },
  {
   "cell_type": "code",
   "execution_count": null,
   "id": "53ddada9",
   "metadata": {},
   "outputs": [],
   "source": [
    "# Imputation with scikit-learn\n",
    "from sklearn.impute import SimpleImputer\n",
    "X_cat = music_df[\"genre\"].values.reshape(-1, 1)\n",
    "X_num = music_df.drop([\"genre\",\"popularity\"], axis=1).values\n",
    "y = music_df[\"popularity\"].values\n",
    "X_train_cat, X_test_cat, y_train, y_test = train_test_split(X_cat, y, test_size=0.2,random_state=12)\n",
    "X_train_num, X_test_num, y_train, y_test = train_test_split(X_num, y, test_size=0.2,random_state=12)\n",
    "\n",
    "imp_cat = SimpleImputer(strategy=\"most_frequent\")\n",
    "X_train_cat = imp_cat.fit_transform(X_train_cat)\n",
    "X_test_cat = imp_cat.transform(X_test_cat)\n",
    "\n",
    "# Imputation with scikit-learn\n",
    "imp_num = SimpleImputer()\n",
    "X_train_num = imp_num.fit_transform(X_train_num)\n",
    "X_test_num = imp_num.transform(X_test_num)\n",
    "X_train = np.append(X_train_num, X_train_cat, axis=1)\n",
    "X_test = np.append(X_test_num, X_test_cat, axis=1)\n",
    "# Imputers are known as transformers"
   ]
  },
  {
   "cell_type": "code",
   "execution_count": null,
   "id": "b6417582",
   "metadata": {},
   "outputs": [],
   "source": [
    "# Imputing within a pipeline\n",
    "from sklearn.pipeline import Pipeline\n",
    "music_df = music_df.dropna(subset=[\"genre\",\"popularity\",\"loudness\",\"liveness\",\"tempo\"])\n",
    "music_df[\"genre\"] = np.where(music_df[\"genre\"] == \"Rock\", 1, 0)\n",
    "X = music_df.drop(\"genre\", axis=1).values\n",
    "y = music_df[\"genre\"].values\n",
    "\n",
    "# Imputing within a pipeline\n",
    "steps = [(\"imputation\", SimpleImputer()),(\"logistic_regression\", LogisticRegression())]\n",
    "pipeline = Pipeline(steps)\n",
    "X_train, X_test, y_train, y_test = train_test_split(X, y, test_size=0.3,random_state=42)\n",
    "pipeline.fit(X_train, y_train)\n",
    "pipeline.score(X_test, y_test)"
   ]
  },
  {
   "cell_type": "markdown",
   "id": "5bd91708",
   "metadata": {},
   "source": [
    "## Centering and scaling\n",
    "- Why scale our data?\n",
    "    - Many models use some form of distance to inform them\n",
    "    - Features on larger scales can disproportionately influence the model\n",
    "    - Example: KNN uses distance explicitly when making predictions\n",
    "    - We want features to be on a similar scale\n",
    "    - Normalizing or standardizing (scaling and centering)\n",
    "    \n",
    "- How to scale our data\n",
    "- Subtract the mean and divide by variance\n",
    "    - All features are centered around zero and have a variance of one\n",
    "    - This is called standardization\n",
    "- Can also subtract the minimum and divide by the range\n",
    "    - Minimum zero and maximum one\n",
    "- Can also normalize so the data ranges from -1 to +1\n",
    "- See scikit-learn docs for further details    "
   ]
  },
  {
   "cell_type": "code",
   "execution_count": null,
   "id": "6e4f4188",
   "metadata": {},
   "outputs": [],
   "source": [
    "# Why scale our data?\n",
    "print(music_df[[\"duration_ms\",\"loudness\",\"speechiness\"]].describe())"
   ]
  },
  {
   "cell_type": "code",
   "execution_count": null,
   "id": "d45fa76d",
   "metadata": {},
   "outputs": [],
   "source": [
    "# Scaling in scikit-learn\n",
    "from sklearn.preprocessing import StandardScaler\n",
    "X = music_df.drop(\"genre\", axis=1).values\n",
    "y = music_df[\"genre\"].values\n",
    "X_train, X_test, y_train, y_test = train_test_split(X, y, test_size=0.2,random_state=42)\n",
    "scaler = StandardScaler()\n",
    "X_train_scaled = scaler.fit_transform(X_train)\n",
    "X_test_scaled = scaler.transform(X_test)\n",
    "print(np.mean(X), np.std(X))\n",
    "print(np.mean(X_train_scaled), np.std(X_train_scaled))\n",
    "\n",
    "# Scaling in a pipeline\n",
    "steps = [('scaler', StandardScaler()),('knn', KNeighborsClassifier(n_neighbors=6))]\n",
    "pipeline = Pipeline(steps)\n",
    "X_train, X_test, y_train, y_test = train_test_split(X, y, test_size=0.2,random_state=21)\n",
    "knn_scaled = pipeline.fit(X_train, y_train)\n",
    "y_pred = knn_scaled.predict(X_test)\n",
    "print(knn_scaled.score(X_test, y_test))\n",
    "\n",
    "# Comparing performance using unscaled data\n",
    "X_train, X_test, y_train, y_test = train_test_split(X, y, test_size=0.2,random_state=21)\n",
    "knn_unscaled = KNeighborsClassifier(n_neighbors=6).fit(X_train, y_train)\n",
    "print(knn_unscaled.score(X_test, y_test))\n",
    "\n",
    "\n",
    "# CV and scaling in a pipeline\n",
    "from sklearn.model_selection import GridSearchCV\n",
    "steps = [('scaler', StandardScaler()),('knn', KNeighborsClassifier())]\n",
    "pipeline = Pipeline(steps)\n",
    "parameters = {\"knn__n_neighbors\": np.arange(1, 50)}\n",
    "X_train, X_test, y_train, y_test = train_test_split(X, y, test_size=0.2,random_state=21)\n",
    "cv = GridSearchCV(pipeline, param_grid=parameters)\n",
    "cv.fit(X_train, y_train)\n",
    "y_pred = cv.predict(X_test)\n",
    "\n",
    "# Checking model parameters\n",
    "print(cv.best_score_)\n",
    "print(cv.best_params_)"
   ]
  },
  {
   "cell_type": "code",
   "execution_count": null,
   "id": "e44ed872",
   "metadata": {},
   "outputs": [],
   "source": [
    "# Import StandardScaler\n",
    "from sklearn.preprocessing import StandardScaler\n",
    "\n",
    "# Create pipeline steps\n",
    "steps = [(\"scaler\", StandardScaler()),\n",
    "         (\"lasso\", Lasso(alpha=0.5))]\n",
    "\n",
    "# Instantiate the pipeline\n",
    "pipeline = Pipeline(steps)\n",
    "pipeline.fit(X_train, y_train)\n",
    "\n",
    "# Calculate and print R-squared\n",
    "print(pipeline.score(X_test, y_test))"
   ]
  },
  {
   "cell_type": "code",
   "execution_count": null,
   "id": "d74c2084",
   "metadata": {},
   "outputs": [],
   "source": [
    "# Build the steps\n",
    "steps = [(\"scaler\", StandardScaler()),\n",
    "         (\"logreg\", LogisticRegression())]\n",
    "pipeline = Pipeline(steps)\n",
    "\n",
    "# Create the parameter space\n",
    "parameters = {\"logreg__C\": np.linspace(0.001, 1.0, 20)}\n",
    "X_train, X_test, y_train, y_test = train_test_split(X, y, test_size=0.2, \n",
    "                                                    random_state=21)\n",
    "\n",
    "# Instantiate the grid search object\n",
    "cv = GridSearchCV(pipeline, param_grid=parameters)\n",
    "\n",
    "# Fit to the training data\n",
    "cv.fit(X_train, y_train)\n",
    "print(cv.best_score_, \"\\n\", cv.best_params_)\n",
    "\n",
    "#Using a pipeline shows that a logistic regression model with \"C\" set to approximately\n",
    "#0.1 produces a model with 0.8425 accuracy!"
   ]
  },
  {
   "cell_type": "markdown",
   "id": "3d6cae9c",
   "metadata": {},
   "source": [
    "## Evaluating multiple models\n",
    "\n",
    "- Different models for different problems\n",
    "- Some guiding principles\n",
    "- Size of the dataset\n",
    "    - Fewer features = simpler model, faster training time\n",
    "    - Some models require large amounts of data to perform well\n",
    "- Interpretability\n",
    "    - Some models are easier to explain, which can be important for stakeholders\n",
    "    - Linear regression has high interpretability, as we can understand the coecients\n",
    "- Flexibility\n",
    "    - May improve accuracy, by making fewer assumptions about data\n",
    "    - KNN is a more flexible model, doesn't assume any linear relationships\n",
    "    \n",
    "- It's all in the metrics\n",
    "- Regression model performance:\n",
    "    - RMSE\n",
    "    - R-squared\n",
    "- Classication model performance:\n",
    "    - Accuracy\n",
    "    - Confusion matrix\n",
    "    - Precision, recall, F1-score\n",
    "    - ROC AUC\n",
    "- Train several models and evaluate performance out of the box \n",
    "\n",
    "- A note on scaling\n",
    "- Models affected by scaling:\n",
    "    - KNN\n",
    "    - Linear Regression (plus Ridge, Lasso)\n",
    "    - Logistic Regression\n",
    "    - Articial Neural Network\n",
    "    \n",
    "- Best to scale our data before evaluating models"
   ]
  },
  {
   "cell_type": "code",
   "execution_count": null,
   "id": "55326640",
   "metadata": {},
   "outputs": [],
   "source": [
    "# Evaluating classification models\n",
    "import matplotlib.pyplot as plt\n",
    "from sklearn.preprocessing import StandardScaler\n",
    "from sklearn.model_selection import cross_val_score, KFold, train_test_split\n",
    "from sklearn.neighbors import KNeighborsClassifier\n",
    "from sklearn.linear_model import LogisticRegression\n",
    "from sklearn.tree import DecisionTreeClassifier\n",
    "\n",
    "X = music.drop(\"genre\", axis=1).values\n",
    "y = music[\"genre\"].values\n",
    "X_train, X_test, y_train, y_test = train_test_split(X, y, random_state=42)\n",
    "scaler = StandardScaler()\n",
    "X_train_scaled = scaler.fit_transform(X_train)\n",
    "X_test_scaled = scaler.transform(X_test)\n",
    "\n",
    "# Evaluating classification models\n",
    "models = {\"Logistic Regression\": LogisticRegression(),\"KNN\": KNeighborsClassifier(),\n",
    "          \"Decision Tree\": DecisionTreeClassifier()}\n",
    "results = []\n",
    "\n",
    "for model in models.values():\n",
    " kf = KFold(n_splits=6, random_state=42, shuffle=True)\n",
    " cv_results = cross_val_score(model, X_train_scaled, y_train, cv=kf)\n",
    " results.append(cv_results)\n",
    "\n",
    "plt.boxplot(results, labels=models.keys())\n",
    "plt.show()\n",
    "\n",
    "# Test set performance\n",
    "for name, model in models.items():\n",
    " model.fit(X_train_scaled, y_train)\n",
    " test_score = model.score(X_test_scaled, y_test)\n",
    " print(\"{} Test Set Accuracy: {}\".format(name, test_score))"
   ]
  },
  {
   "cell_type": "code",
   "execution_count": null,
   "id": "d74127dc",
   "metadata": {},
   "outputs": [],
   "source": [
    "models = {\"Linear Regression\": LinearRegression(), \"Ridge\": Ridge(alpha=0.1), \"Lasso\": Lasso(alpha=0.1)}\n",
    "results = []\n",
    "\n",
    "# Loop through the models' values\n",
    "for model in models.values():\n",
    "  kf = KFold(n_splits=6, random_state=42, shuffle=True)\n",
    "  \n",
    "  # Perform cross-validation\n",
    "  cv_scores = cross_val_score(model,X_train, y_train, cv=kf)\n",
    "  \n",
    "  # Append the results\n",
    "  results.append(cv_scores)\n",
    "\n",
    "# Create a box plot of the results\n",
    "plt.boxplot(results, labels=models.keys())\n",
    "plt.show()"
   ]
  },
  {
   "cell_type": "code",
   "execution_count": null,
   "id": "e0a1dfbb",
   "metadata": {},
   "outputs": [],
   "source": [
    "# Import mean_squared_error\n",
    "from sklearn.metrics import mean_squared_error\n",
    "\n",
    "for name, model in models.items():\n",
    "  \n",
    "  # Fit the model to the training data\n",
    "  model.fit(X_train_scaled,y_train)\n",
    "  \n",
    "  # Make predictions on the test set\n",
    "  y_pred = model.predict(X_test_scaled)\n",
    "  \n",
    "  # Calculate the test_rmse\n",
    "  test_rmse = mean_squared_error(y_test, y_pred, squared=False)\n",
    "  print(\"{} Test Set RMSE: {}\".format(name, test_rmse))"
   ]
  },
  {
   "cell_type": "code",
   "execution_count": null,
   "id": "edd70f5d",
   "metadata": {},
   "outputs": [],
   "source": [
    "# Create models dictionary\n",
    "models = {\"Logistic Regression\": LogisticRegression(), \"KNN\": KNeighborsClassifier(), \"Decision Tree Classifier\": DecisionTreeClassifier()}\n",
    "results = []\n",
    "\n",
    "# Loop through the models' values\n",
    "for model in models.values():\n",
    "  \n",
    "  # Instantiate a KFold object\n",
    "  kf = KFold(n_splits=6, random_state=12, shuffle=True)\n",
    "  \n",
    "  # Perform cross-validation\n",
    "  cv_results = cross_val_score(model, X_train_scaled, y_train, cv=kf)\n",
    "  results.append(cv_results)\n",
    "plt.boxplot(results, labels=models.keys())\n",
    "plt.show()"
   ]
  },
  {
   "cell_type": "code",
   "execution_count": null,
   "id": "a4504ff8",
   "metadata": {},
   "outputs": [],
   "source": [
    "# Create steps\n",
    "steps = [(\"imp_mean\", SimpleImputer()), \n",
    "         (\"scaler\", StandardScaler()), \n",
    "         (\"logreg\", LogisticRegression())]\n",
    "\n",
    "# Set up pipeline\n",
    "pipeline = Pipeline(steps)\n",
    "params = {\"logreg__solver\": [\"newton-cg\", \"saga\", \"lbfgs\"],\n",
    "         \"logreg__C\": np.linspace(0.001, 1.0, 10)}\n",
    "\n",
    "# Create the GridSearchCV object\n",
    "tuning = GridSearchCV(pipeline, param_grid=params)\n",
    "tuning.fit(X_train, y_train)\n",
    "y_pred = tuning.predict(X_test)\n",
    "\n",
    "# Compute and print performance\n",
    "print(\"Tuned Logistic Regression Parameters: {}, Accuracy: {}\".format(tuning.best_params_,tuning.score(X_test, y_test)))"
   ]
  },
  {
   "cell_type": "markdown",
   "id": "caf9ebcf",
   "metadata": {},
   "source": [
    "### Summary\n",
    "- Using supervised learning techniques to build predictive models\n",
    "- For both regression and classication problems\n",
    "- Undering and overing\n",
    "- How to split data\n",
    "- Cross-validation\n",
    "\n",
    "- Data preprocessing techniques\n",
    "- Model selection\n",
    "- Hyperparameter tuning\n",
    "- Model performance evaluation\n",
    "- Using pipelines\n",
    "\n",
    "- Where to go from here?\n",
    "- Machine Learning with Tree-Based Models in Python\n",
    "- Preprocessing for Machine Learning in Python\n",
    "- Model Validation in Python\n",
    "- Feature Engineering for Machine Learning in Python\n",
    "- Unsupervised Learning in Python\n",
    "- Machine Learning Projects"
   ]
  }
 ],
 "metadata": {
  "kernelspec": {
   "display_name": "Python 3 (ipykernel)",
   "language": "python",
   "name": "python3"
  },
  "language_info": {
   "codemirror_mode": {
    "name": "ipython",
    "version": 3
   },
   "file_extension": ".py",
   "mimetype": "text/x-python",
   "name": "python",
   "nbconvert_exporter": "python",
   "pygments_lexer": "ipython3",
   "version": "3.9.7"
  }
 },
 "nbformat": 4,
 "nbformat_minor": 5
}
