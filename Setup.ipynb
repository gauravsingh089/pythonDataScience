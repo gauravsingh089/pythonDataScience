{
 "cells": [
  {
   "cell_type": "code",
   "execution_count": null,
   "id": "40a17355",
   "metadata": {},
   "outputs": [],
   "source": [
    "# How to change default folder for Jupter notebook\n",
    "# https://kegui.medium.com/change-jupyter-notebook-startup-folder-windows-608dfcfdc104\n",
    "\n",
    "# Download PyCharm Community edition\n",
    "# https://www.jetbrains.com/pycharm/\n",
    "\n",
    "# Download Anaconda \n",
    "# https://www.anaconda.com/products/distribution/download-success-2"
   ]
  }
 ],
 "metadata": {
  "kernelspec": {
   "display_name": "Python 3 (ipykernel)",
   "language": "python",
   "name": "python3"
  },
  "language_info": {
   "codemirror_mode": {
    "name": "ipython",
    "version": 3
   },
   "file_extension": ".py",
   "mimetype": "text/x-python",
   "name": "python",
   "nbconvert_exporter": "python",
   "pygments_lexer": "ipython3",
   "version": "3.9.7"
  }
 },
 "nbformat": 4,
 "nbformat_minor": 5
}
