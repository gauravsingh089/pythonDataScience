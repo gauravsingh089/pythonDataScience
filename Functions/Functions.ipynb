{
 "cells": [
  {
   "cell_type": "markdown",
   "id": "f0894a47",
   "metadata": {},
   "source": [
    "## Docstring\n",
    "\n",
    "\"\"\" doc string is help description for function \"\"\"\n",
    "\n",
    "### Docstring formats\n",
    "- Google Style\n",
    "- Numpydoc\n",
    "- reStructuredText\n",
    "- EpyText"
   ]
  },
  {
   "cell_type": "code",
   "execution_count": null,
   "id": "f2d0f9dd",
   "metadata": {},
   "outputs": [],
   "source": [
    "# Anatomy of a docstring\n",
    "def function_name(arguments):\n",
    "    \"\"\"\n",
    "    Description of what the function does.\n",
    "    \n",
    "    Description of the arguments, if any.\n",
    "    \n",
    "    Description of the return value(s), if any.\n",
    "    \n",
    "    Description of errors raised, if any.\n",
    "    \n",
    "    Optional extra notes or examples of usage.\n",
    "    \"\"\""
   ]
  },
  {
   "cell_type": "markdown",
   "id": "498e0a0d",
   "metadata": {},
   "source": [
    "### Google Style"
   ]
  },
  {
   "cell_type": "code",
   "execution_count": null,
   "id": "66347fce",
   "metadata": {},
   "outputs": [],
   "source": [
    "def function(arg_1, arg_2=42):\n",
    "    \"\"\"Description of what the function does.\n",
    "    \n",
    "    Args:\n",
    "        arg_1 (str): Description of arg_1 that can break onto the next line\n",
    "        if needed.\n",
    "        arg_2 (int, optional): Write optional when an argument has a default\n",
    "        value.\n",
    "    \n",
    "    Returns:\n",
    "        bool: Optional description of the return value\n",
    "        Extra lines are not indented.\n",
    "    \n",
    "    Raises:\n",
    "        ValueError: Include any error types that the function intentionally\n",
    "        raises.\n",
    "    \n",
    "    Notes:\n",
    "        See https://www.datacamp.com/community/tutorials/docstrings-python\n",
    "        for more info.\n",
    "    \"\"\""
   ]
  },
  {
   "cell_type": "code",
   "execution_count": 1,
   "id": "c94f30d4",
   "metadata": {},
   "outputs": [
    {
     "name": "stdout",
     "output_type": "stream",
     "text": [
      "############################\n",
      "Count the number of times `letter` appears in `content`.\n",
      "\n",
      "  Args:\n",
      "    content (str): The string to search.\n",
      "    letter (str): The letter to search for.\n",
      "\n",
      "  Returns:\n",
      "    int\n",
      "\n",
      "  # Add a section detailing what errors might be raised\n",
      "  Raises:\n",
      "    ValueError: If `letter` is not a one-character string.\n",
      "  \n",
      "############################\n"
     ]
    }
   ],
   "source": [
    "# Example\n",
    "def count_letter(content, letter):\n",
    "  \"\"\"Count the number of times `letter` appears in `content`.\n",
    "\n",
    "  Args:\n",
    "    content (str): The string to search.\n",
    "    letter (str): The letter to search for.\n",
    "\n",
    "  Returns:\n",
    "    int\n",
    "\n",
    "  # Add a section detailing what errors might be raised\n",
    "  Raises:\n",
    "    ValueError: If `letter` is not a one-character string.\n",
    "  \"\"\"\n",
    "  if (not isinstance(letter, str)) or len(letter) != 1:\n",
    "    raise ValueError('`letter` must be a single character string.')\n",
    "  return len([char for char in content if char == letter])\n",
    "\n",
    "# Get the \"count_letter\" docstring by using an attribute of the function\n",
    "docstring = count_letter.__doc__\n",
    "\n",
    "border = '#' * 28\n",
    "print('{}\\n{}\\n{}'.format(border, docstring, border))"
   ]
  },
  {
   "cell_type": "code",
   "execution_count": 2,
   "id": "ba6c877e",
   "metadata": {},
   "outputs": [
    {
     "name": "stdout",
     "output_type": "stream",
     "text": [
      "############################\n",
      "Count the number of times `letter` appears in `content`.\n",
      "\n",
      "Args:\n",
      "  content (str): The string to search.\n",
      "  letter (str): The letter to search for.\n",
      "\n",
      "Returns:\n",
      "  int\n",
      "\n",
      "# Add a section detailing what errors might be raised\n",
      "Raises:\n",
      "  ValueError: If `letter` is not a one-character string.\n",
      "############################\n"
     ]
    }
   ],
   "source": [
    "import inspect\n",
    "\n",
    "# Inspect the count_letter() function to get its docstring\n",
    "docstring = inspect.getdoc(count_letter)\n",
    "\n",
    "border = '#' * 28\n",
    "print('{}\\n{}\\n{}'.format(border, docstring, border))"
   ]
  },
  {
   "cell_type": "code",
   "execution_count": 3,
   "id": "b6b6d5e5",
   "metadata": {},
   "outputs": [
    {
     "name": "stdout",
     "output_type": "stream",
     "text": [
      "############################\n",
      "Count the number of times `letter` appears in `content`.\n",
      "\n",
      "Args:\n",
      "  content (str): The string to search.\n",
      "  letter (str): The letter to search for.\n",
      "\n",
      "Returns:\n",
      "  int\n",
      "\n",
      "# Add a section detailing what errors might be raised\n",
      "Raises:\n",
      "  ValueError: If `letter` is not a one-character string.\n",
      "############################\n",
      "############################\n",
      "range(stop) -> range object\n",
      "range(start, stop[, step]) -> range object\n",
      "\n",
      "Return an object that produces a sequence of integers from start (inclusive)\n",
      "to stop (exclusive) by step.  range(i, j) produces i, i+1, i+2, ..., j-1.\n",
      "start defaults to 0, and stop is omitted!  range(4) produces 0, 1, 2, 3.\n",
      "These are exactly the valid indices for a list of 4 elements.\n",
      "When step is given, it specifies the increment (or decrement).\n",
      "############################\n",
      "############################\n",
      "print(value, ..., sep=' ', end='\\n', file=sys.stdout, flush=False)\n",
      "\n",
      "Prints the values to a stream, or to sys.stdout by default.\n",
      "Optional keyword arguments:\n",
      "file:  a file-like object (stream); defaults to the current sys.stdout.\n",
      "sep:   string inserted between values, default a space.\n",
      "end:   string appended after the last value, default a newline.\n",
      "flush: whether to forcibly flush the stream.\n",
      "############################\n"
     ]
    }
   ],
   "source": [
    "import inspect\n",
    "\n",
    "def build_tooltip(function):\n",
    "  \"\"\"Create a tooltip for any function that shows the\n",
    "  function's docstring.\n",
    "\n",
    "  Args:\n",
    "    function (callable): The function we want a tooltip for.\n",
    "\n",
    "  Returns:\n",
    "    str\n",
    "  \"\"\"\n",
    "  # Get the docstring for the \"function\" argument by using inspect\n",
    "  docstring = inspect.getdoc(function)\n",
    "  border = '#' * 28\n",
    "  return '{}\\n{}\\n{}'.format(border, docstring, border)\n",
    "\n",
    "print(build_tooltip(count_letter))\n",
    "print(build_tooltip(range))\n",
    "print(build_tooltip(print))"
   ]
  },
  {
   "cell_type": "code",
   "execution_count": null,
   "id": "918d37b9",
   "metadata": {},
   "outputs": [],
   "source": [
    "# count_letter.__doc__ version of the docstring had strange whitespace at the beginning of all but the first line. \n",
    "# That's because the docstring is indented to line up visually when reading the code. \n",
    "# But when we want to print the docstring, removing those leading spaces with inspect.getdoc() will look much better"
   ]
  },
  {
   "cell_type": "markdown",
   "id": "614699ad",
   "metadata": {},
   "source": [
    "### Numpydoc"
   ]
  },
  {
   "cell_type": "code",
   "execution_count": null,
   "id": "8a000b2b",
   "metadata": {},
   "outputs": [],
   "source": [
    "def function(arg_1, arg_2=42):\n",
    "    \"\"\"\n",
    "    Description of what the function does.\n",
    "    \n",
    "    Parameters\n",
    "    ----------\n",
    "    arg_1 : expected type of arg_1\n",
    "      Description of arg_1.\n",
    "    arg_2 : int, optional\n",
    "      Write optional when an argument has a default value.\n",
    "      Default=42.\n",
    "    \n",
    "    Returns\n",
    "    -------\n",
    "    The type of the return value\n",
    "      Can include a description of the return value.\n",
    "      Replace \"Returns\" with \"Yields\" if this function is a generator.\n",
    "    \"\"\""
   ]
  },
  {
   "cell_type": "markdown",
   "id": "70c15a99",
   "metadata": {},
   "source": [
    "### Retrieving docstrings"
   ]
  },
  {
   "cell_type": "code",
   "execution_count": 2,
   "id": "205b262e",
   "metadata": {},
   "outputs": [
    {
     "name": "stdout",
     "output_type": "stream",
     "text": [
      "Return the answer to life,\n",
      "    the universe, and everything.\n",
      "    \n",
      "    Returns:\n",
      "      int\n",
      "    \n"
     ]
    }
   ],
   "source": [
    "def the_answer():\n",
    "    \"\"\"Return the answer to life,\n",
    "    the universe, and everything.\n",
    "    \n",
    "    Returns:\n",
    "      int\n",
    "    \"\"\"\n",
    "    return 42\n",
    "\n",
    "print(the_answer.__doc__)"
   ]
  },
  {
   "cell_type": "code",
   "execution_count": 3,
   "id": "e76ba9a1",
   "metadata": {},
   "outputs": [
    {
     "name": "stdout",
     "output_type": "stream",
     "text": [
      "Return the answer to life,\n",
      "the universe, and everything.\n",
      "\n",
      "Returns:\n",
      "  int\n"
     ]
    }
   ],
   "source": [
    "import inspect\n",
    "print(inspect.getdoc(the_answer))"
   ]
  },
  {
   "cell_type": "code",
   "execution_count": 8,
   "id": "3928ab26",
   "metadata": {},
   "outputs": [
    {
     "name": "stdout",
     "output_type": "stream",
     "text": [
      "Compute the histogram of a dataset.\n",
      "\n",
      "Parameters\n",
      "----------\n",
      "a : array_like\n",
      "    Input data. The histogram is computed over the flattened array.\n",
      "bins : int or sequence of scalars or str, optional\n",
      "    If `bins` is an int, it defines the number of equal-width\n",
      "    bins in the given range (10, by default). If `bins` is a\n",
      "    sequence, it defines a monotonically increasing array of bin edges,\n",
      "    including the rightmost edge, allowing for non-uniform bin widths.\n",
      "\n",
      "    .. versionadded:: 1.11.0\n",
      "\n",
      "    If `bins` is a string, it defines the method used to calculate the\n",
      "    optimal bin width, as defined by `histogram_bin_edges`.\n",
      "\n",
      "range : (float, float), optional\n",
      "    The lower and upper range of the bins.  If not provided, range\n",
      "    is simply ``(a.min(), a.max())``.  Values outside the range are\n",
      "    ignored. The first element of the range must be less than or\n",
      "    equal to the second. `range` affects the automatic bin\n",
      "    computation as well. While bin width is computed to be optimal\n",
      "    based on the actual data within `range`, the bin count will fill\n",
      "    the entire range including portions containing no data.\n",
      "normed : bool, optional\n",
      "\n",
      "    .. deprecated:: 1.6.0\n",
      "\n",
      "    This is equivalent to the `density` argument, but produces incorrect\n",
      "    results for unequal bin widths. It should not be used.\n",
      "\n",
      "    .. versionchanged:: 1.15.0\n",
      "        DeprecationWarnings are actually emitted.\n",
      "\n",
      "weights : array_like, optional\n",
      "    An array of weights, of the same shape as `a`.  Each value in\n",
      "    `a` only contributes its associated weight towards the bin count\n",
      "    (instead of 1). If `density` is True, the weights are\n",
      "    normalized, so that the integral of the density over the range\n",
      "    remains 1.\n",
      "density : bool, optional\n",
      "    If ``False``, the result will contain the number of samples in\n",
      "    each bin. If ``True``, the result is the value of the\n",
      "    probability *density* function at the bin, normalized such that\n",
      "    the *integral* over the range is 1. Note that the sum of the\n",
      "    histogram values will not be equal to 1 unless bins of unity\n",
      "    width are chosen; it is not a probability *mass* function.\n",
      "\n",
      "    Overrides the ``normed`` keyword if given.\n",
      "\n",
      "Returns\n",
      "-------\n",
      "hist : array\n",
      "    The values of the histogram. See `density` and `weights` for a\n",
      "    description of the possible semantics.\n",
      "bin_edges : array of dtype float\n",
      "    Return the bin edges ``(length(hist)+1)``.\n",
      "\n",
      "\n",
      "See Also\n",
      "--------\n",
      "histogramdd, bincount, searchsorted, digitize, histogram_bin_edges\n",
      "\n",
      "Notes\n",
      "-----\n",
      "All but the last (righthand-most) bin is half-open.  In other words,\n",
      "if `bins` is::\n",
      "\n",
      "  [1, 2, 3, 4]\n",
      "\n",
      "then the first bin is ``[1, 2)`` (including 1, but excluding 2) and\n",
      "the second ``[2, 3)``.  The last bin, however, is ``[3, 4]``, which\n",
      "*includes* 4.\n",
      "\n",
      "\n",
      "Examples\n",
      "--------\n",
      ">>> np.histogram([1, 2, 1], bins=[0, 1, 2, 3])\n",
      "(array([0, 2, 1]), array([0, 1, 2, 3]))\n",
      ">>> np.histogram(np.arange(4), bins=np.arange(5), density=True)\n",
      "(array([0.25, 0.25, 0.25, 0.25]), array([0, 1, 2, 3, 4]))\n",
      ">>> np.histogram([[1, 2, 1], [1, 0, 1]], bins=[0,1,2,3])\n",
      "(array([1, 4, 1]), array([0, 1, 2, 3]))\n",
      "\n",
      ">>> a = np.arange(5)\n",
      ">>> hist, bin_edges = np.histogram(a, density=True)\n",
      ">>> hist\n",
      "array([0.5, 0. , 0.5, 0. , 0. , 0.5, 0. , 0.5, 0. , 0.5])\n",
      ">>> hist.sum()\n",
      "2.4999999999999996\n",
      ">>> np.sum(hist * np.diff(bin_edges))\n",
      "1.0\n",
      "\n",
      ".. versionadded:: 1.11.0\n",
      "\n",
      "Automated Bin Selection Methods example, using 2 peak random data\n",
      "with 2000 points:\n",
      "\n",
      ">>> import matplotlib.pyplot as plt\n",
      ">>> rng = np.random.RandomState(10)  # deterministic random data\n",
      ">>> a = np.hstack((rng.normal(size=1000),\n",
      "...                rng.normal(loc=5, scale=2, size=1000)))\n",
      ">>> _ = plt.hist(a, bins='auto')  # arguments are passed to np.histogram\n",
      ">>> plt.title(\"Histogram with 'auto' bins\")\n",
      "Text(0.5, 1.0, \"Histogram with 'auto' bins\")\n",
      ">>> plt.show()\n"
     ]
    }
   ],
   "source": [
    "import numpy\n",
    "import inspect \n",
    "\n",
    "# Two ways to get docs\n",
    "#print(numpy.histogram.__doc__)\n",
    "print(inspect.getdoc(numpy.histogram))"
   ]
  },
  {
   "cell_type": "markdown",
   "id": "2cd3b5b7",
   "metadata": {},
   "source": [
    "## DRY ( Don't repeat yourself) and DOT ( Do One Thing) \n",
    "- Advantages of DRY\n",
    "- The code becomes:\n",
    "    - Less change of error\n",
    "    - More easy to change later\n",
    "\n",
    "- Advantages of DOT\n",
    "- The code becomes:\n",
    "    - More flexible\n",
    "    - More easily understood\n",
    "    - Simpler to test\n",
    "    - Simpler to debug\n",
    "    - Easier to change\n",
    "    \n",
    "Refactoring: Improving the Design of Existing Code (Addison-Wesley Signature Series (Fowler))    "
   ]
  },
  {
   "cell_type": "markdown",
   "id": "8bfdcde3",
   "metadata": {},
   "source": [
    "## Paas by assignment "
   ]
  },
  {
   "cell_type": "code",
   "execution_count": 9,
   "id": "9853be95",
   "metadata": {},
   "outputs": [
    {
     "name": "stdout",
     "output_type": "stream",
     "text": [
      "[99, 2, 3]\n"
     ]
    }
   ],
   "source": [
    "# List is mutable and when we call function we passed referecne of list. \n",
    "# change inside function reflect in list outside\n",
    "def foo(x):\n",
    "    x[0] = 99\n",
    "\n",
    "my_list = [1, 2, 3]\n",
    "foo(my_list)\n",
    "print(my_list)"
   ]
  },
  {
   "cell_type": "code",
   "execution_count": 10,
   "id": "f79cca81",
   "metadata": {},
   "outputs": [
    {
     "name": "stdout",
     "output_type": "stream",
     "text": [
      "3\n"
     ]
    }
   ],
   "source": [
    "# integer variable is immutable and when we call function we passed as value. \n",
    "# change inside function will not reflect on my_var variable\n",
    "def bar(x):\n",
    "    x = x + 90\n",
    "\n",
    "my_var = 3\n",
    "bar(my_var)\n",
    "print(my_var)"
   ]
  },
  {
   "cell_type": "markdown",
   "id": "9ac0e852",
   "metadata": {},
   "source": [
    "### Immutable\n",
    "    int\n",
    "    float\n",
    "    bool\n",
    "    string\n",
    "    bytes\n",
    "    tuple\n",
    "    frozenset\n",
    "    None\n",
    "\n",
    "### Mutable\n",
    "    list\n",
    "    dict\n",
    "    set\n",
    "    bytearray\n",
    "    objects\n",
    "    functions\n",
    "    almost everything else"
   ]
  },
  {
   "cell_type": "code",
   "execution_count": 11,
   "id": "8475703d",
   "metadata": {},
   "outputs": [],
   "source": [
    "# When you need to set a mutable variable as a default argument, \n",
    "# always use None and then set the value in the body of the function. \n",
    "# This prevents unexpected behavior like adding multiple columns if you call the function more than once.\n",
    "# Use an immutable variable for the default argument\n",
    "def better_add_column(values, df=None):\n",
    "  \"\"\"Add a column of `values` to a DataFrame `df`.\n",
    "  The column will be named \"col_<n>\" where \"n\" is\n",
    "  the numerical index of the column.\n",
    "\n",
    "  Args:\n",
    "    values (iterable): The values of the new column\n",
    "    df (DataFrame, optional): The DataFrame to update.\n",
    "      If no DataFrame is passed, one is created by default.\n",
    "\n",
    "  Returns:\n",
    "    DataFrame\n",
    "  \"\"\"\n",
    "  # Update the function to create a default DataFrame\n",
    "  if df is None:\n",
    "    df = pandas.DataFrame()\n",
    "  df['col_{}'.format(len(df.columns))] = values\n",
    "  return df"
   ]
  },
  {
   "cell_type": "markdown",
   "id": "7690fe4d",
   "metadata": {},
   "source": [
    "# Context Manager\n",
    "\n",
    "- A context manager:\n",
    "    Sets up a context\n",
    "    Runs your code\n",
    "    Removes the context\n",
    "    \n",
    "- Two ways to define a context manager\n",
    "    - Class-based\n",
    "    - Function-based    \n",
    "\n",
    "Context manage use for generator sometime to yield single value.\n",
    "\n",
    "Example of caterered party.\n",
    "Catered are context\n",
    "Caterers:\n",
    "    Set up the tables with food and drink\n",
    "    Let you and your friends have a party\n",
    "    Cleaned up and removed the tables    "
   ]
  },
  {
   "cell_type": "code",
   "execution_count": 2,
   "id": "b793e49c",
   "metadata": {},
   "outputs": [
    {
     "name": "stdout",
     "output_type": "stream",
     "text": [
      "The file is 7 characters long\n"
     ]
    }
   ],
   "source": [
    "with open('datasets/my_file.txt') as my_file:\n",
    "    text = my_file.read()\n",
    "    length = len(text)\n",
    "\n",
    "print('The file is {} characters long'.format(length))\n",
    "\n",
    "# open() does three things:  \n",
    "#     Sets up a context by opening a FIle\n",
    "#     Lets you run any code you want on that FIle\n",
    "#     Removes the context by closing the FIle\n",
    "\n",
    "\n",
    "#with <context-manager>(<args>) as <variable-name:\n",
    "    # Run your code here\n",
    "    # This code is running \"inside the context\"\n",
    "    \n",
    "# This code runs after the context is removed    "
   ]
  },
  {
   "cell_type": "markdown",
   "id": "3039fed8",
   "metadata": {},
   "source": [
    "## function based context manager\n",
    "1. Define a function.\n",
    "2. (optional) Add any set up code your context needs.\n",
    "3. Use the \"yield\" keyword.\n",
    "4. (optional) Add any teardown code your context needs\n",
    "5. Add the `@contextlib.contextmanager` decorator.\n",
    "\n",
    "@contextlib.contextmanager\n",
    "def my_context():\n",
    "    # Add any set up code you need\n",
    "    yield\n",
    "    # Add any teardown code you need"
   ]
  },
  {
   "cell_type": "code",
   "execution_count": 5,
   "id": "811743b4",
   "metadata": {},
   "outputs": [
    {
     "name": "stdout",
     "output_type": "stream",
     "text": [
      "hello\n",
      "foo is 42\n",
      "goodbye\n"
     ]
    }
   ],
   "source": [
    "import contextlib\n",
    "\n",
    "@contextlib.contextmanager\n",
    "def my_context():\n",
    "    print('hello')\n",
    "    \n",
    "    yield 42\n",
    "    print('goodbye')\n",
    "\n",
    "with my_context() as foo:\n",
    "    print('foo is {}'.format(foo)) "
   ]
  },
  {
   "cell_type": "code",
   "execution_count": null,
   "id": "31997a19",
   "metadata": {},
   "outputs": [],
   "source": [
    "# Example of database \n",
    "\n",
    "# @contextlib.contextmanager\n",
    "#     def database(url):\n",
    "#     # set up database connection\n",
    "#     db = postgres.connect(url)\n",
    "#     yield db\n",
    "#     # tear down database connection\n",
    "#     db.disconnect()\n",
    "    \n",
    "# url = 'http://datacamp.com/data'\n",
    "\n",
    "# with database(url) as my_db:\n",
    "#     course_list = my_db.execute(\n",
    "#     'SELECT * FROM courses'\n",
    "#     )"
   ]
  },
  {
   "cell_type": "code",
   "execution_count": null,
   "id": "cbf37ff2",
   "metadata": {},
   "outputs": [],
   "source": [
    "# Another example \n",
    "# @contextlib.contextmanager\n",
    "# def in_dir(path):\n",
    "#     # save current working directory\n",
    "#     old_dir = os.getcwd()\n",
    "    \n",
    "#     # switch to new working directory\n",
    "#     os.chdir(path)\n",
    "    \n",
    "#     yield\n",
    "#     # change back to previous\n",
    "#     # working directory\n",
    "#     os.chdir(old_dir)\n",
    "\n",
    "# with in_dir('/data/project_1/'):\n",
    "#     project_files = os.listdir()"
   ]
  },
  {
   "cell_type": "code",
   "execution_count": 9,
   "id": "86c1973a",
   "metadata": {},
   "outputs": [
    {
     "name": "stdout",
     "output_type": "stream",
     "text": [
      "This should take approximately 0.25 seconds\n",
      "Elapsed: 0.25s\n"
     ]
    }
   ],
   "source": [
    "import time\n",
    "# Add a decorator that will make timer() a context manager\n",
    "@contextlib.contextmanager\n",
    "def timer():\n",
    "  \"\"\"Time the execution of a context block.\n",
    "\n",
    "  Yields:\n",
    "    None\n",
    "  \"\"\"\n",
    "  start = time.time()\n",
    "  # Send control back to the context block\n",
    "  yield \n",
    "  end = time.time()\n",
    "  print('Elapsed: {:.2f}s'.format(end - start))\n",
    "\n",
    "with timer():\n",
    "  print('This should take approximately 0.25 seconds')\n",
    "  time.sleep(0.25)"
   ]
  },
  {
   "cell_type": "code",
   "execution_count": 2,
   "id": "039c6239",
   "metadata": {},
   "outputs": [
    {
     "name": "stdout",
     "output_type": "stream",
     "text": [
      "abc\n",
      "xyz\n"
     ]
    }
   ],
   "source": [
    "import contextlib\n",
    "\n",
    "@contextlib.contextmanager\n",
    "def open_read_only(filename):\n",
    "  \"\"\"Open a file in read-only mode.\n",
    "\n",
    "  Args:\n",
    "    filename (str): The location of the file to read\n",
    "\n",
    "  Yields:\n",
    "    file object\n",
    "  \"\"\"\n",
    "  read_only_file = open(filename, mode='r')\n",
    "  # Yield read_only_file so it can be assigned to my_file\n",
    "  yield read_only_file\n",
    "  # Close read_only_file\n",
    "  read_only_file.close()\n",
    "\n",
    "with open_read_only('datasets/my_file.txt') as my_file:\n",
    "  print(my_file.read())\n",
    "\n",
    "# That is a radical read-only context manager! Now you can relax, knowing that every time you use with open_read_only() \n",
    "# your files are safe from being accidentally overwritten. \n",
    "# This function is an example of a context manager that does return a value,\n",
    "# so we write yield read_only_file instead of just yield. Then the read_only_file object gets assigned to my_file in \n",
    "# the with statement so that whoever is using your context can call its .read() method in the context block"
   ]
  },
  {
   "cell_type": "markdown",
   "id": "82a91e1e",
   "metadata": {},
   "source": [
    "## Advanced topics "
   ]
  },
  {
   "cell_type": "markdown",
   "id": "4cf630fd",
   "metadata": {},
   "source": [
    "### Nested contexts"
   ]
  },
  {
   "cell_type": "code",
   "execution_count": 3,
   "id": "eb129b19",
   "metadata": {},
   "outputs": [],
   "source": [
    "def copy(src, dst):\n",
    "    \"\"\"Copy the contents of one file to another.\n",
    "    \n",
    "    Args:\n",
    "    src (str): File name of the file to be copied.\n",
    "    dst (str): Where to write the new file.\n",
    "    \"\"\"\n",
    "    # Open the source file and read in the contents\n",
    "    with open(src) as f_src:\n",
    "        contents = f_src.read()\n",
    "    \n",
    "    # Open the destination file and write out the contents\n",
    "    with open(dst, 'w') as f_dst:\n",
    "        f_dst.write(contents)"
   ]
  },
  {
   "cell_type": "code",
   "execution_count": null,
   "id": "99ad3301",
   "metadata": {},
   "outputs": [],
   "source": [
    "# Nested contexts \n",
    "def copy(src, dst):\n",
    "    \"\"\"Copy the contents of one file to another.\n",
    "    \n",
    "    Args:\n",
    "    src (str): File name of the file to be copied.\n",
    "    dst (str): Where to write the new file.\n",
    "    \"\"\"\n",
    "    \n",
    "    # Open both files\n",
    "    with open(src) as f_src:\n",
    "        with open(dst, 'w') as f_dst:\n",
    "            # Read and write each line, one at a time\n",
    "            for line in f_src:\n",
    "                f_dst.write(line)"
   ]
  },
  {
   "cell_type": "markdown",
   "id": "6127c5e1",
   "metadata": {},
   "source": [
    "### Handling errors"
   ]
  },
  {
   "cell_type": "code",
   "execution_count": null,
   "id": "a30d649c",
   "metadata": {},
   "outputs": [],
   "source": [
    "try:\n",
    "    # code that might raise an error\n",
    "except:\n",
    "    # do something about the error\n",
    "finally:\n",
    "    # this code runs no matter what"
   ]
  },
  {
   "cell_type": "code",
   "execution_count": null,
   "id": "98128f19",
   "metadata": {},
   "outputs": [],
   "source": [
    "# def get_printer(ip):\n",
    "#     p = connect_to_printer(ip)\n",
    "    \n",
    "#     yield\n",
    "    \n",
    "#     # This MUST be called or no one else will\n",
    "#     # be able to connect to the printer\n",
    "#     p.disconnect()\n",
    "#     print('disconnected from printer')\n",
    "    \n",
    "# doc = {'text': 'This is my text.'}\n",
    "    \n",
    "# with get_printer('10.0.34.111') as printer:\n",
    "#     printer.print_page(doc['txt'])"
   ]
  },
  {
   "cell_type": "code",
   "execution_count": null,
   "id": "7bc7e24e",
   "metadata": {},
   "outputs": [],
   "source": [
    "# def get_printer(ip):\n",
    "#     p = connect_to_printer(ip)\n",
    "    \n",
    "#     try:\n",
    "#         yield\n",
    "#     finally:\n",
    "#         p.disconnect()\n",
    "#         print('disconnected from printer')\n",
    "\n",
    "# doc = {'text': 'This is my text.'}\n",
    "\n",
    "# with get_printer('10.0.34.111') as printer:\n",
    "#     printer.print_page(doc['txt'])"
   ]
  },
  {
   "cell_type": "markdown",
   "id": "0ad81f81",
   "metadata": {},
   "source": [
    "### Context manager patterns\n",
    "    Open Close\n",
    "    Lock Release\n",
    "    Change Reset\n",
    "    Enter Exit\n",
    "    Start Stop\n",
    "    Setup Teardown\n",
    "    Connect Disconnect"
   ]
  },
  {
   "cell_type": "code",
   "execution_count": null,
   "id": "e570172c",
   "metadata": {},
   "outputs": [],
   "source": [
    "# - dummy operator in for loop\n",
    "# You will notice the use of an underscore when iterating over the for loop. \n",
    "# If this is confusing to you, don't worry. I\n",
    "# t could easily be replaced with i, if we planned to do something with it, like use it as an index.\n",
    "# Since we won't be using it, we can use a dummy operator, _, which doesn't use any additional memory.\n",
    "\n",
    "# Use the \"stock('NVDA')\" context manager\n",
    "# and assign the result to the variable \"nvda\"\n",
    "\n",
    "# with stock('NVDA') as nvda:\n",
    "#   # Open \"NVDA.txt\" for writing as f_out\n",
    "#   with open('NVDA.txt', 'w') as f_out:\n",
    "#     for _ in range(10):\n",
    "#       value = nvda.price()\n",
    "#       print('Logging ${:.2f} for NVDA'.format(value))\n",
    "#       f_out.write('{:.2f}\\n'.format(value))"
   ]
  },
  {
   "cell_type": "markdown",
   "id": "430ffd93",
   "metadata": {},
   "source": [
    "## Functions as objects\n",
    "Decorators are an extremely powerful concept in Python. They allow you to modify the behavior of a function without changing the code of the function itself. \n",
    "decorators (functions as objects, scope, and closures)"
   ]
  },
  {
   "cell_type": "code",
   "execution_count": null,
   "id": "42a7fec6",
   "metadata": {},
   "outputs": [],
   "source": [
    "# Functions are just another type of object\n",
    "#Python objects:\n",
    "\n",
    "# import pandas as pd\n",
    "\n",
    "# def x():\n",
    "#  pass\n",
    "\n",
    "# x = [1, 2, 3]\n",
    "# x = {'foo': 42}\n",
    "# x = pd.DataFrame()\n",
    "# x = 'This is a sentence.'\n",
    "# x = 3\n",
    "# x = 71.2\n",
    "\n",
    "# import x"
   ]
  },
  {
   "cell_type": "code",
   "execution_count": 10,
   "id": "c48eea68",
   "metadata": {},
   "outputs": [
    {
     "data": {
      "text/plain": [
       "function"
      ]
     },
     "execution_count": 10,
     "metadata": {},
     "output_type": "execute_result"
    }
   ],
   "source": [
    "# Functions as variables\n",
    "def my_function():\n",
    " print('Hello')\n",
    "x = my_function\n",
    "type(x)"
   ]
  },
  {
   "cell_type": "code",
   "execution_count": 11,
   "id": "ba3bd225",
   "metadata": {},
   "outputs": [
    {
     "name": "stdout",
     "output_type": "stream",
     "text": [
      "Hello\n"
     ]
    }
   ],
   "source": [
    "x()"
   ]
  },
  {
   "cell_type": "code",
   "execution_count": 12,
   "id": "7566a669",
   "metadata": {},
   "outputs": [
    {
     "name": "stdout",
     "output_type": "stream",
     "text": [
      "Python is awesome!\n"
     ]
    }
   ],
   "source": [
    "PrintyMcPrintface = print\n",
    "PrintyMcPrintface('Python is awesome!')"
   ]
  },
  {
   "cell_type": "code",
   "execution_count": 13,
   "id": "b8f09532",
   "metadata": {},
   "outputs": [
    {
     "name": "stdout",
     "output_type": "stream",
     "text": [
      "I am printing with an element of a list!\n"
     ]
    }
   ],
   "source": [
    "# Lists and dictionaries of functions\n",
    "list_of_functions = [my_function, open, print]\n",
    "list_of_functions[2]('I am printing with an element of a list!')"
   ]
  },
  {
   "cell_type": "code",
   "execution_count": 14,
   "id": "7dbfbdd2",
   "metadata": {},
   "outputs": [
    {
     "name": "stdout",
     "output_type": "stream",
     "text": [
      "I am printing with a value of a dict!\n"
     ]
    }
   ],
   "source": [
    "dict_of_functions = {'func1': my_function,'func2': open,'func3': print}\n",
    "dict_of_functions['func3']('I am printing with a value of a dict!')"
   ]
  },
  {
   "cell_type": "code",
   "execution_count": 15,
   "id": "f5080c2d",
   "metadata": {},
   "outputs": [
    {
     "data": {
      "text/plain": [
       "42"
      ]
     },
     "execution_count": 15,
     "metadata": {},
     "output_type": "execute_result"
    }
   ],
   "source": [
    "# Referencing a function\n",
    "def my_function():\n",
    " return 42\n",
    "\n",
    "x = my_function\n",
    "my_function()"
   ]
  },
  {
   "cell_type": "code",
   "execution_count": 16,
   "id": "1e90a2c8",
   "metadata": {},
   "outputs": [
    {
     "data": {
      "text/plain": [
       "<function __main__.my_function()>"
      ]
     },
     "execution_count": 16,
     "metadata": {},
     "output_type": "execute_result"
    }
   ],
   "source": [
    "my_function"
   ]
  },
  {
   "cell_type": "code",
   "execution_count": 18,
   "id": "e61a7f40",
   "metadata": {},
   "outputs": [],
   "source": [
    "# Functions as arguments\n",
    "\n",
    "def has_docstring(func):\n",
    " \"\"\"Check to see if the function\n",
    " `func\n",
    " ` has a docstring.\n",
    " \n",
    " Args:\n",
    " func (callable): A function.\n",
    " Returns:\n",
    "  bool\n",
    " \"\"\"\n",
    " return func.__doc__ is not None\n",
    "\n",
    "def no():\n",
    " return 42\n",
    "\n",
    "def yes():\n",
    " \"\"\"Return the value 42\n",
    " \"\"\"\n",
    " return 42"
   ]
  },
  {
   "cell_type": "code",
   "execution_count": 19,
   "id": "cc32a339",
   "metadata": {},
   "outputs": [
    {
     "data": {
      "text/plain": [
       "False"
      ]
     },
     "execution_count": 19,
     "metadata": {},
     "output_type": "execute_result"
    }
   ],
   "source": [
    "has_docstring(no)"
   ]
  },
  {
   "cell_type": "code",
   "execution_count": 20,
   "id": "c0ace481",
   "metadata": {},
   "outputs": [
    {
     "data": {
      "text/plain": [
       "True"
      ]
     },
     "execution_count": 20,
     "metadata": {},
     "output_type": "execute_result"
    }
   ],
   "source": [
    "has_docstring(yes)"
   ]
  },
  {
   "cell_type": "code",
   "execution_count": 22,
   "id": "adfa9cbd",
   "metadata": {},
   "outputs": [],
   "source": [
    "# Defining a function inside another function\n",
    "def foo():\n",
    " x = [3, 6, 9]\n",
    "\n",
    " def bar(y):\n",
    "  print(y)\n",
    "\n",
    " for value in x:\n",
    "  bar(x)"
   ]
  },
  {
   "cell_type": "code",
   "execution_count": 23,
   "id": "7acacda4",
   "metadata": {},
   "outputs": [],
   "source": [
    "def foo(x, y):\n",
    " if x > 4 and x < 10 and y > 4 and y < 10:\n",
    "  print(x * y)\n",
    "\n",
    " def foo(x, y):\n",
    "  def in_range(v):\n",
    "   return v > 4 and v < 10\n",
    "\n",
    " if in_range(x) and in_range(y):\n",
    "  print(x * y)"
   ]
  },
  {
   "cell_type": "code",
   "execution_count": 24,
   "id": "ead4a268",
   "metadata": {},
   "outputs": [
    {
     "name": "stdout",
     "output_type": "stream",
     "text": [
      "This is a sentence.\n"
     ]
    }
   ],
   "source": [
    "# Functions as return values\n",
    "def get_function():\n",
    " def print_me(s):\n",
    "  print(s)\n",
    " return print_me\n",
    "\n",
    "new_func = get_function()\n",
    "new_func('This is a sentence.')"
   ]
  },
  {
   "cell_type": "code",
   "execution_count": 25,
   "id": "d1c1e798",
   "metadata": {},
   "outputs": [
    {
     "name": "stdout",
     "output_type": "stream",
     "text": [
      "5 + 2 = 7\n",
      "5 - 2 = 3\n"
     ]
    }
   ],
   "source": [
    "# Examples\n",
    "def create_math_function(func_name):\n",
    "  if func_name == 'add':\n",
    "    def add(a, b):\n",
    "      return a + b\n",
    "    return add\n",
    "  elif func_name == 'subtract':\n",
    "    # Define the subtract() function\n",
    "    def subtract(a, b):\n",
    "      return a - b\n",
    "    return subtract\n",
    "  else:\n",
    "    print(\"I don't know that one\")\n",
    "    \n",
    "add = create_math_function('add')\n",
    "print('5 + 2 = {}'.format(add(5, 2)))\n",
    "\n",
    "subtract = create_math_function('subtract')\n",
    "print('5 - 2 = {}'.format(subtract(5, 2)))"
   ]
  },
  {
   "cell_type": "markdown",
   "id": "02619902",
   "metadata": {},
   "source": [
    "### Scope\n",
    "\n",
    "1 - local scope\n",
    "2 - nonlocal scope\n",
    "3 - global scope\n",
    "4 - builtin scope ( for example print is in built in scope)"
   ]
  },
  {
   "cell_type": "code",
   "execution_count": 26,
   "id": "62798764",
   "metadata": {},
   "outputs": [
    {
     "name": "stdout",
     "output_type": "stream",
     "text": [
      "7\n",
      "42\n",
      "200\n",
      "7\n"
     ]
    }
   ],
   "source": [
    "x = 7  #  X is in local scope\n",
    "\n",
    "y = 200\n",
    "print(x)\n",
    "\n",
    "def foo():\n",
    "    x = 42\n",
    "    print(x)\n",
    "    print(y)\n",
    "    \n",
    "foo()\n",
    "\n",
    "print(x)"
   ]
  },
  {
   "cell_type": "code",
   "execution_count": 27,
   "id": "c1054a74",
   "metadata": {},
   "outputs": [
    {
     "name": "stdout",
     "output_type": "stream",
     "text": [
      "7\n",
      "42\n",
      "200\n",
      "42\n"
     ]
    }
   ],
   "source": [
    "x = 7 \n",
    "\n",
    "y = 200\n",
    "print(x)\n",
    "\n",
    "def foo():\n",
    "    global x  ## This will make x global and use outer reference\n",
    "    x = 42\n",
    "    print(x)\n",
    "    print(y)\n",
    "    \n",
    "foo()\n",
    "\n",
    "print(x)"
   ]
  },
  {
   "cell_type": "code",
   "execution_count": 29,
   "id": "02c5a19a",
   "metadata": {},
   "outputs": [
    {
     "name": "stdout",
     "output_type": "stream",
     "text": [
      "200\n",
      "10\n"
     ]
    }
   ],
   "source": [
    "# The nonlocal keyword\n",
    "def foo():\n",
    " x = 10\n",
    " \n",
    " def bar():\n",
    "  x = 200\n",
    "  print(x)\n",
    " \n",
    " bar()\n",
    " print(x)\n",
    "\n",
    "foo()"
   ]
  },
  {
   "cell_type": "code",
   "execution_count": 30,
   "id": "0017524a",
   "metadata": {},
   "outputs": [
    {
     "name": "stdout",
     "output_type": "stream",
     "text": [
      "200\n",
      "200\n"
     ]
    }
   ],
   "source": [
    "# The nonlocal keyword\n",
    "def foo():\n",
    " x = 10\n",
    " \n",
    " def bar():\n",
    "  nonlocal x  ########## using nonlocal to use outer variable\n",
    "  x = 200\n",
    "  print(x)\n",
    " \n",
    " bar()\n",
    " print(x)\n",
    "\n",
    "foo()"
   ]
  },
  {
   "cell_type": "code",
   "execution_count": 28,
   "id": "2c66ab9d",
   "metadata": {},
   "outputs": [
    {
     "name": "stdout",
     "output_type": "stream",
     "text": [
      "50\n",
      "30\n",
      "100\n",
      "30\n"
     ]
    }
   ],
   "source": [
    "x = 50\n",
    "\n",
    "def one():\n",
    "  x = 10\n",
    "\n",
    "def two():\n",
    "  global x\n",
    "  x = 30\n",
    "\n",
    "def three():\n",
    "  x = 100\n",
    "  print(x)\n",
    "\n",
    "for func in [one, two, three]:\n",
    "  func()\n",
    "  print(x)"
   ]
  },
  {
   "cell_type": "markdown",
   "id": "e9ff782c",
   "metadata": {},
   "source": [
    "## Closures\n",
    "\n",
    "Tuple of variables they are no longer in scope but function need them to run"
   ]
  },
  {
   "cell_type": "code",
   "execution_count": 31,
   "id": "17834d3f",
   "metadata": {},
   "outputs": [
    {
     "name": "stdout",
     "output_type": "stream",
     "text": [
      "5\n"
     ]
    }
   ],
   "source": [
    "# Attaching nonlocal variables to nested functions\n",
    "def foo():\n",
    " a = 5\n",
    " def bar():\n",
    "  print(a)\n",
    " return bar\n",
    "\n",
    "func = foo()\n",
    "\n",
    "func()"
   ]
  },
  {
   "cell_type": "code",
   "execution_count": 32,
   "id": "a305c2bb",
   "metadata": {},
   "outputs": [
    {
     "data": {
      "text/plain": [
       "tuple"
      ]
     },
     "execution_count": 32,
     "metadata": {},
     "output_type": "execute_result"
    }
   ],
   "source": [
    "type(func.__closure__)"
   ]
  },
  {
   "cell_type": "code",
   "execution_count": 33,
   "id": "0731592b",
   "metadata": {},
   "outputs": [
    {
     "data": {
      "text/plain": [
       "1"
      ]
     },
     "execution_count": 33,
     "metadata": {},
     "output_type": "execute_result"
    }
   ],
   "source": [
    "len(func.__closure__)"
   ]
  },
  {
   "cell_type": "code",
   "execution_count": 34,
   "id": "c30536cc",
   "metadata": {},
   "outputs": [
    {
     "data": {
      "text/plain": [
       "5"
      ]
     },
     "execution_count": 34,
     "metadata": {},
     "output_type": "execute_result"
    }
   ],
   "source": [
    "func.__closure__[0].cell_contents"
   ]
  },
  {
   "cell_type": "code",
   "execution_count": 35,
   "id": "e000611e",
   "metadata": {},
   "outputs": [
    {
     "name": "stdout",
     "output_type": "stream",
     "text": [
      "25\n"
     ]
    }
   ],
   "source": [
    "# Closures and deletion\n",
    "x = 25\n",
    "\n",
    "def foo(value):\n",
    " def bar():\n",
    "  print(value)\n",
    " return bar\n",
    "\n",
    "my_func = foo(x)\n",
    "my_func()"
   ]
  },
  {
   "cell_type": "code",
   "execution_count": 36,
   "id": "ff89aa26",
   "metadata": {},
   "outputs": [
    {
     "name": "stdout",
     "output_type": "stream",
     "text": [
      "25\n"
     ]
    }
   ],
   "source": [
    "del(x)\n",
    "my_func()"
   ]
  },
  {
   "cell_type": "code",
   "execution_count": 37,
   "id": "8450ad5d",
   "metadata": {},
   "outputs": [
    {
     "data": {
      "text/plain": [
       "1"
      ]
     },
     "execution_count": 37,
     "metadata": {},
     "output_type": "execute_result"
    }
   ],
   "source": [
    "len(my_func.__closure__)"
   ]
  },
  {
   "cell_type": "code",
   "execution_count": 38,
   "id": "fbfbfd39",
   "metadata": {},
   "outputs": [
    {
     "data": {
      "text/plain": [
       "25"
      ]
     },
     "execution_count": 38,
     "metadata": {},
     "output_type": "execute_result"
    }
   ],
   "source": [
    "my_func.__closure__[0].cell_contents"
   ]
  },
  {
   "cell_type": "code",
   "execution_count": 39,
   "id": "28f7fef6",
   "metadata": {},
   "outputs": [
    {
     "name": "stdout",
     "output_type": "stream",
     "text": [
      "25\n"
     ]
    }
   ],
   "source": [
    "# Closures and overwriting\n",
    "x = 25\n",
    "\n",
    "def foo(value):\n",
    " def bar():\n",
    "  print(value)\n",
    " return bar\n",
    "\n",
    "x = foo(x)\n",
    "x()"
   ]
  },
  {
   "cell_type": "code",
   "execution_count": 40,
   "id": "1eef671e",
   "metadata": {},
   "outputs": [
    {
     "data": {
      "text/plain": [
       "1"
      ]
     },
     "execution_count": 40,
     "metadata": {},
     "output_type": "execute_result"
    }
   ],
   "source": [
    "len(my_func.__closure__)"
   ]
  },
  {
   "cell_type": "code",
   "execution_count": 41,
   "id": "50cecee1",
   "metadata": {},
   "outputs": [
    {
     "data": {
      "text/plain": [
       "25"
      ]
     },
     "execution_count": 41,
     "metadata": {},
     "output_type": "execute_result"
    }
   ],
   "source": [
    "my_func.__closure__[0].cell_contents"
   ]
  },
  {
   "cell_type": "code",
   "execution_count": 44,
   "id": "54b67bf3",
   "metadata": {},
   "outputs": [
    {
     "name": "stdout",
     "output_type": "stream",
     "text": [
      "<class 'function'>\n"
     ]
    }
   ],
   "source": [
    "print(type(x))"
   ]
  },
  {
   "cell_type": "code",
   "execution_count": 45,
   "id": "747d0249",
   "metadata": {},
   "outputs": [
    {
     "name": "stdout",
     "output_type": "stream",
     "text": [
      "<function foo.<locals>.bar at 0x0000012566637A60>\n"
     ]
    }
   ],
   "source": [
    "print(x)"
   ]
  },
  {
   "cell_type": "code",
   "execution_count": null,
   "id": "f85a8fbc",
   "metadata": {},
   "outputs": [],
   "source": [
    "# Definitions - nested function\n",
    "# Nested function: A function dened inside another function.\n",
    "\n",
    "# # outer function\n",
    "# def parent():\n",
    "#     # nested function\n",
    "#     def child():\n",
    "#         pass\n",
    "#     return child"
   ]
  },
  {
   "cell_type": "code",
   "execution_count": null,
   "id": "a9527451",
   "metadata": {},
   "outputs": [],
   "source": [
    "# Definitions - nonlocal variables\n",
    "# Nonlocal variables: Variables dened in the parent function that are used by the child\n",
    "# function.\n",
    "\n",
    "# def parent(arg_1, arg_2):\n",
    "#     # From child()'s point of view,\n",
    "#     # `value` and `my_dict`are nonlocal variables,\n",
    "#     # as are `arg_1` and `arg_2`.\n",
    "#     value = 22\n",
    "#     my_dict = {'chocolate': 'yummy'}\n",
    "    \n",
    "#     def child():\n",
    "#         print(2 * value)\n",
    "#         print(my_dict['chocolate'])\n",
    "#         print(arg_1 + arg_2)\n",
    "    \n",
    "#     return child"
   ]
  },
  {
   "cell_type": "code",
   "execution_count": 46,
   "id": "5bac3df4",
   "metadata": {},
   "outputs": [
    {
     "name": "stdout",
     "output_type": "stream",
     "text": [
      "[3, 4, {'chocolate': 'yummy'}, 22]\n"
     ]
    }
   ],
   "source": [
    "# Closure: Nonlocal variables attached to a returned function.\n",
    "\n",
    "def parent(arg_1, arg_2):\n",
    "    value = 22\n",
    "    my_dict = {'chocolate': 'yummy'}\n",
    "    \n",
    "    def child():\n",
    "        print(2 * value)\n",
    "        print(my_dict['chocolate'])\n",
    "        print(arg_1 + arg_2)\n",
    "    \n",
    "    return child\n",
    "\n",
    "new_function = parent(3, 4)\n",
    "\n",
    "print([cell.cell_contents for cell in new_function.__closure__])"
   ]
  },
  {
   "cell_type": "code",
   "execution_count": 49,
   "id": "0502087a",
   "metadata": {},
   "outputs": [
    {
     "name": "stdout",
     "output_type": "stream",
     "text": [
      "True\n",
      "True\n",
      "True\n"
     ]
    }
   ],
   "source": [
    "def return_a_func(arg1, arg2):\n",
    "  def new_func():\n",
    "    print('arg1 was {}'.format(arg1))\n",
    "    print('arg2 was {}'.format(arg2))\n",
    "  return new_func\n",
    "    \n",
    "my_func = return_a_func(2, 17)\n",
    "\n",
    "# Show that my_func()'s closure is not None\n",
    "print(my_func.__closure__ is not None)\n",
    "\n",
    "# Show that there are two variables in the closure\n",
    "print(len(my_func.__closure__) == 2)\n",
    "\n",
    "# Get the values of the variables in the closure\n",
    "closure_values = [\n",
    "  my_func.__closure__[i].cell_contents for i in range(2)\n",
    "]\n",
    "print(closure_values == [2, 17])"
   ]
  },
  {
   "cell_type": "markdown",
   "id": "16e2496a",
   "metadata": {},
   "source": [
    "# Decorators use:\n",
    "    Functions as objects\n",
    "    Nested functions\n",
    "    Nonlocal scope\n",
    "    Closures\n",
    "    \n",
    "    \n",
    "function take input and return output\n",
    "Decorator is wrapper around function that change input and output for functions."
   ]
  },
  {
   "cell_type": "code",
   "execution_count": 51,
   "id": "c9ea1d63",
   "metadata": {},
   "outputs": [
    {
     "data": {
      "text/plain": [
       "20"
      ]
     },
     "execution_count": 51,
     "metadata": {},
     "output_type": "execute_result"
    }
   ],
   "source": [
    "def double_args(func):\n",
    " def wrapper(a, b):\n",
    "  return func(a * 2, b * 2)\n",
    " return wrapper\n",
    "\n",
    "def multiply(a, b):\n",
    " return a * b\n",
    "\n",
    "multiply = double_args(multiply)  ## equivalent of @double_args decorator\n",
    "\n",
    "multiply(1, 5)"
   ]
  },
  {
   "cell_type": "code",
   "execution_count": 52,
   "id": "3eecbe97",
   "metadata": {},
   "outputs": [
    {
     "data": {
      "text/plain": [
       "20"
      ]
     },
     "execution_count": 52,
     "metadata": {},
     "output_type": "execute_result"
    }
   ],
   "source": [
    "# Using decorator syntax\n",
    "def double_args(func):\n",
    " def wrapper(a, b):\n",
    "  return func(a * 2, b * 2)\n",
    " return wrapper\n",
    "\n",
    "@double_args\n",
    "def multiply(a, b):\n",
    " return a * b\n",
    "\n",
    "multiply(1, 5)"
   ]
  },
  {
   "cell_type": "code",
   "execution_count": 1,
   "id": "b62b7c84",
   "metadata": {},
   "outputs": [
    {
     "name": "stdout",
     "output_type": "stream",
     "text": [
      "Before multiply\n",
      "50\n",
      "After multiply\n"
     ]
    }
   ],
   "source": [
    "# Example\n",
    "\n",
    "def print_before_and_after(func):\n",
    "  def wrapper(*args):\n",
    "    print('Before {}'.format(func.__name__))\n",
    "    # Call the function being decorated with *args\n",
    "    func(*args)\n",
    "    print('After {}'.format(func.__name__))\n",
    "  # Return the nested function\n",
    "  return wrapper\n",
    "\n",
    "@print_before_and_after\n",
    "def multiply(a, b):\n",
    "  print(a * b)\n",
    "\n",
    "multiply(5, 10)"
   ]
  },
  {
   "cell_type": "markdown",
   "id": "817628bc",
   "metadata": {},
   "source": [
    "## Real world examples\n",
    "- When to use decorators\n",
    "- Add common behavior to multiple functions"
   ]
  },
  {
   "cell_type": "code",
   "execution_count": null,
   "id": "b9c5fbbb",
   "metadata": {},
   "outputs": [],
   "source": [
    "# Time a function\n",
    "import time\n",
    "\n",
    "def timer(func):\n",
    " \"\"\"A decorator that prints how long a function took to run.\n",
    "\n",
    " Args:\n",
    "  func (callable): The function being decorated.\n",
    " \n",
    " Returns:\n",
    "  callable: The decorated function.\n",
    " \"\"\""
   ]
  },
  {
   "cell_type": "code",
   "execution_count": 2,
   "id": "7c97de10",
   "metadata": {},
   "outputs": [],
   "source": [
    "import time\n",
    "def timer(func):\n",
    "    \"\"\"A decorator that prints how long a function took to run.\n",
    "    \"\"\"\n",
    "    # Define the wrapper function to return.\n",
    "    def wrapper(*args, **kwargs):\n",
    "        # When wrapper() is called, get the current time.\n",
    "        t_start = time.time()\n",
    "        # Call the decorated function and store the result.\n",
    "        result = func(*args, **kwargs)\n",
    "        # Get the total time it took to run, and print it.\n",
    "        t_total = time.time() - t_start\n",
    "        print('{} took {}s'.format(func.__name__, t_total))\n",
    "        return result\n",
    "    return wrapper"
   ]
  },
  {
   "cell_type": "code",
   "execution_count": 3,
   "id": "43c92b87",
   "metadata": {},
   "outputs": [],
   "source": [
    "@timer\n",
    "def sleep_n_seconds(n):\n",
    "    time.sleep(n)"
   ]
  },
  {
   "cell_type": "code",
   "execution_count": 4,
   "id": "191061a4",
   "metadata": {},
   "outputs": [
    {
     "name": "stdout",
     "output_type": "stream",
     "text": [
      "sleep_n_seconds took 5.0173540115356445s\n"
     ]
    }
   ],
   "source": [
    "sleep_n_seconds(5)"
   ]
  },
  {
   "cell_type": "code",
   "execution_count": 5,
   "id": "66e2f2f5",
   "metadata": {},
   "outputs": [
    {
     "name": "stdout",
     "output_type": "stream",
     "text": [
      "sleep_n_seconds took 10.006830930709839s\n"
     ]
    }
   ],
   "source": [
    "sleep_n_seconds(10)"
   ]
  },
  {
   "cell_type": "code",
   "execution_count": 11,
   "id": "71c3ba2a",
   "metadata": {},
   "outputs": [],
   "source": [
    "def memoize(func):\n",
    "    \"\"\"Store the results of the decorated function for fast lookup\n",
    "    \"\"\"\n",
    "    # Store results in a dict that maps arguments to results\n",
    "    cache = {}\n",
    "    # Define the wrapper function to return.\n",
    "    def wrapper(*args, **kwargs):\n",
    "        # If these arguments haven't been seen before,\n",
    "        if (args, kwargs) not in cache:\n",
    "            # Call func() and store the result.\n",
    "            cache[(args, kwargs)] = func(*args, **kwargs)\n",
    "        return cache[(args, kwargs)]\n",
    "    return wrapper"
   ]
  },
  {
   "cell_type": "code",
   "execution_count": 12,
   "id": "e19cbde6",
   "metadata": {},
   "outputs": [],
   "source": [
    "@memoize\n",
    "def slow_function(a, b):\n",
    "    print('Sleeping...')\n",
    "    time.sleep(5)\n",
    "    return a + b"
   ]
  },
  {
   "cell_type": "code",
   "execution_count": null,
   "id": "4d02e115",
   "metadata": {},
   "outputs": [],
   "source": [
    "slow_function(3, 4)"
   ]
  },
  {
   "cell_type": "code",
   "execution_count": 14,
   "id": "afb89a22",
   "metadata": {},
   "outputs": [
    {
     "name": "stdout",
     "output_type": "stream",
     "text": [
      "foo() returned type <class 'int'>\n",
      "42\n",
      "foo() returned type <class 'list'>\n",
      "[1, 2, 3]\n",
      "foo() returned type <class 'dict'>\n",
      "{'a': 42}\n"
     ]
    }
   ],
   "source": [
    "def print_return_type(func):\n",
    "  # Define wrapper(), the decorated function\n",
    "  def wrapper(*args, **kwargs):\n",
    "    # Call the function being decorated\n",
    "    result = func(*args, **kwargs)\n",
    "    print('{}() returned type {}'.format(\n",
    "      func.__name__, type(result)\n",
    "    ))\n",
    "    return result\n",
    "  # Return the decorated function\n",
    "  return wrapper\n",
    "  \n",
    "@print_return_type\n",
    "def foo(value):\n",
    "  return value\n",
    "  \n",
    "print(foo(42))\n",
    "print(foo([1, 2, 3]))\n",
    "print(foo({'a': 42}))"
   ]
  },
  {
   "cell_type": "code",
   "execution_count": null,
   "id": "66ee84c3",
   "metadata": {},
   "outputs": [],
   "source": [
    "# In Python, we can pass a variable number of arguments to a function using special symbols. There are two special symbols:\n",
    "# https://www.programiz.com/python-programming/args-and-kwargs#:~:text=*args%20passes%20variable%20number%20of,a%20dictionary%20can%20be%20performed.\n",
    "# *args (Non Keyword Arguments)\n",
    "# As in the above example we are not sure about the number of arguments that can be passed to a function.\n",
    "# Python has *args which allow us to pass the variable number of non keyword arguments to function.\n",
    "\n",
    "# **kwargs (Keyword Arguments)\n",
    "# Python passes variable length non keyword argument to function using *args but we cannot use this to pass keyword argument.\n",
    "# For this problem Python has got a solution called **kwargs, \n",
    "# it allows us to pass the variable length of keyword arguments to the function."
   ]
  },
  {
   "cell_type": "code",
   "execution_count": 15,
   "id": "bc8acaca",
   "metadata": {},
   "outputs": [
    {
     "name": "stdout",
     "output_type": "stream",
     "text": [
      "foo() was called 2 times.\n"
     ]
    }
   ],
   "source": [
    "def counter(func):\n",
    "  def wrapper(*args, **kwargs):\n",
    "    wrapper.count += 1\n",
    "    # Call the function being decorated and return the result\n",
    "    return func\n",
    "  wrapper.count = 0\n",
    "  # Return the new decorated function\n",
    "  return wrapper\n",
    "\n",
    "# Decorate foo() with the counter() decorator\n",
    "@counter\n",
    "def foo():\n",
    "  print('calling foo()')\n",
    "  \n",
    "foo()\n",
    "foo()\n",
    "\n",
    "print('foo() was called {} times.'.format(foo.count))"
   ]
  },
  {
   "cell_type": "markdown",
   "id": "6a2701d6",
   "metadata": {},
   "source": [
    "## Decorators and metadata"
   ]
  },
  {
   "cell_type": "code",
   "execution_count": 32,
   "id": "1aea7ea9",
   "metadata": {},
   "outputs": [
    {
     "name": "stdout",
     "output_type": "stream",
     "text": [
      "Pause processing for n seconds.\n",
      "    Args:\n",
      "    n (int): The number of seconds to pause for.\n",
      "    \n"
     ]
    }
   ],
   "source": [
    "# Normal function without any decorator.\n",
    "def sleep_n_seconds(n=10):\n",
    "    \"\"\"Pause processing for n seconds.\n",
    "    Args:\n",
    "    n (int): The number of seconds to pause for.\n",
    "    \"\"\"\n",
    "    time.sleep(n)\n",
    "\n",
    "# to get docs metadata\n",
    "print(sleep_n_seconds.__doc__)"
   ]
  },
  {
   "cell_type": "code",
   "execution_count": 17,
   "id": "abf1d899",
   "metadata": {},
   "outputs": [
    {
     "name": "stdout",
     "output_type": "stream",
     "text": [
      "sleep_n_seconds\n"
     ]
    }
   ],
   "source": [
    "# to get function name metadata\n",
    "print(sleep_n_seconds.__name__)"
   ]
  },
  {
   "cell_type": "code",
   "execution_count": 33,
   "id": "848d8595",
   "metadata": {},
   "outputs": [
    {
     "name": "stdout",
     "output_type": "stream",
     "text": [
      "(10,)\n"
     ]
    }
   ],
   "source": [
    "# to get function defaults metadata\n",
    "print(sleep_n_seconds.__defaults__)"
   ]
  },
  {
   "cell_type": "code",
   "execution_count": 22,
   "id": "9e7ab4a8",
   "metadata": {},
   "outputs": [
    {
     "name": "stdout",
     "output_type": "stream",
     "text": [
      "None\n"
     ]
    }
   ],
   "source": [
    "# Using decorator\n",
    "def timer(func):\n",
    "    \"\"\"A decorator that prints how long a function took to run.\n",
    "    \"\"\"\n",
    "    \n",
    "    def wrapper(*args, **kwargs):\n",
    "        t_start = time.time()\n",
    "        result = func(*args, **kwargs)\n",
    "        t_total = time.time() - t_start\n",
    "        print('{} took {}s'.format(func.__name__, t_total))\n",
    "        return result\n",
    "\n",
    "    return wrapper\n",
    "\n",
    "@timer\n",
    "def sleep_n_seconds(n=10):\n",
    "    \"\"\"Pause processing for n seconds.\n",
    "    Args:\n",
    "    n (int): The number of seconds to pause for.\n",
    "    \"\"\"\n",
    "    time.sleep(n)\n",
    "    \n",
    "# to get docs metadata\n",
    "print(sleep_n_seconds.__doc__)"
   ]
  },
  {
   "cell_type": "code",
   "execution_count": 20,
   "id": "aba00cc2",
   "metadata": {},
   "outputs": [
    {
     "name": "stdout",
     "output_type": "stream",
     "text": [
      "wrapper\n"
     ]
    }
   ],
   "source": [
    "# to get function name metadata\n",
    "print(sleep_n_seconds.__name__)"
   ]
  },
  {
   "cell_type": "code",
   "execution_count": 21,
   "id": "8aff24e9",
   "metadata": {},
   "outputs": [
    {
     "name": "stdout",
     "output_type": "stream",
     "text": [
      "None\n"
     ]
    }
   ],
   "source": [
    "# to get function defaults metadata\n",
    "print(sleep_n_seconds.__defaults__)"
   ]
  },
  {
   "cell_type": "code",
   "execution_count": 34,
   "id": "55b8b9de",
   "metadata": {},
   "outputs": [
    {
     "name": "stdout",
     "output_type": "stream",
     "text": [
      "Pause processing for n seconds.\n",
      "    Args:\n",
      "    n (int): The number of seconds to pause for.\n",
      "    \n"
     ]
    }
   ],
   "source": [
    "# Using decorator and wraps to associate function metadata with decorator wrapper\n",
    "from functools import wraps\n",
    "def timer(func):\n",
    "    \"\"\"A decorator that prints how long a function took to run.\n",
    "    \"\"\"\n",
    "    \n",
    "    @wraps(func)\n",
    "    def wrapper(*args, **kwargs):\n",
    "        t_start = time.time()\n",
    "        result = func(*args, **kwargs)\n",
    "        t_total = time.time() - t_start\n",
    "        print('{} took {}s'.format(func.__name__, t_total))\n",
    "        return result\n",
    "\n",
    "    return wrapper\n",
    "\n",
    "@timer\n",
    "def sleep_n_seconds(n=10):\n",
    "    \"\"\"Pause processing for n seconds.\n",
    "    Args:\n",
    "    n (int): The number of seconds to pause for.\n",
    "    \"\"\"\n",
    "    time.sleep(n)\n",
    "    \n",
    "# to get docs metadata\n",
    "print(sleep_n_seconds.__doc__)"
   ]
  },
  {
   "cell_type": "code",
   "execution_count": 35,
   "id": "6258078e",
   "metadata": {},
   "outputs": [
    {
     "name": "stdout",
     "output_type": "stream",
     "text": [
      "sleep_n_seconds\n"
     ]
    }
   ],
   "source": [
    "# to get function name metadata\n",
    "print(sleep_n_seconds.__name__)"
   ]
  },
  {
   "cell_type": "code",
   "execution_count": 36,
   "id": "81719cde",
   "metadata": {},
   "outputs": [
    {
     "name": "stdout",
     "output_type": "stream",
     "text": [
      "None\n"
     ]
    }
   ],
   "source": [
    "# to get function defaults metadata\n",
    "print(sleep_n_seconds.__defaults__)"
   ]
  },
  {
   "cell_type": "code",
   "execution_count": 37,
   "id": "a9718276",
   "metadata": {},
   "outputs": [
    {
     "data": {
      "text/plain": [
       "<function __main__.sleep_n_seconds(n=10)>"
      ]
     },
     "execution_count": 37,
     "metadata": {},
     "output_type": "execute_result"
    }
   ],
   "source": [
    "sleep_n_seconds.__wrapped__"
   ]
  },
  {
   "cell_type": "code",
   "execution_count": 40,
   "id": "89742601",
   "metadata": {},
   "outputs": [
    {
     "name": "stdout",
     "output_type": "stream",
     "text": [
      "Hello\n",
      "30\n",
      "Adds two numbers and prints the sum\n"
     ]
    }
   ],
   "source": [
    "# Example\n",
    "from functools import wraps\n",
    "\n",
    "def add_hello(func):\n",
    "  # Decorate wrapper() so that it keeps func()'s metadata\n",
    "  @wraps(func)\n",
    "  def wrapper(*args, **kwargs):\n",
    "    \"\"\"Print 'hello' and then call the decorated function.\"\"\"\n",
    "    print('Hello')\n",
    "    return func(*args, **kwargs)\n",
    "  return wrapper\n",
    "  \n",
    "@add_hello\n",
    "def print_sum(a, b):\n",
    "  \"\"\"Adds two numbers and prints the sum\"\"\"\n",
    "  print(a + b)\n",
    "  \n",
    "print_sum(10, 20)\n",
    "print_sum_docstring = print_sum.__doc__\n",
    "print(print_sum_docstring)"
   ]
  },
  {
   "cell_type": "markdown",
   "id": "c3871cd6",
   "metadata": {},
   "source": [
    "## Decorators that take arguments"
   ]
  },
  {
   "cell_type": "code",
   "execution_count": 39,
   "id": "239abe2c",
   "metadata": {},
   "outputs": [
    {
     "name": "stdout",
     "output_type": "stream",
     "text": [
      "8\n",
      "8\n",
      "8\n"
     ]
    }
   ],
   "source": [
    "def run_three_times(func):\n",
    "    def wrapper(*args, **kwargs):\n",
    "        for i in range(3):\n",
    "            func(*args, **kwargs)\n",
    "    return wrapper\n",
    "    \n",
    "@run_three_times\n",
    "def print_sum(a, b):\n",
    "    print(a + b)\n",
    "\n",
    "print_sum(3, 5)"
   ]
  },
  {
   "cell_type": "code",
   "execution_count": 48,
   "id": "0989ea62",
   "metadata": {},
   "outputs": [],
   "source": [
    "# Run n times\n",
    "def run_n_times(n):\n",
    "    \"\"\"Define and return a decorator\"\"\"\n",
    "    def decorator(func):\n",
    "        def wrapper(*args, **kwargs):\n",
    "            for i in range(n):\n",
    "                func(*args, **kwargs)\n",
    "        return wrapper\n",
    "    return decorator\n",
    "\n",
    "# run_three_times = run_n_times(3)  ###This is equivalend of @run_n_times(3)\n",
    "# @run_three_times\n",
    "@run_n_times(3)\n",
    "def print_sum(a, b):\n",
    "    print(a + b)\n",
    "    \n",
    "@run_n_times(5)\n",
    "def print_hello():\n",
    "    print('Hello!')  "
   ]
  },
  {
   "cell_type": "code",
   "execution_count": 46,
   "id": "078e2680",
   "metadata": {},
   "outputs": [
    {
     "name": "stdout",
     "output_type": "stream",
     "text": [
      "8\n",
      "8\n",
      "8\n"
     ]
    }
   ],
   "source": [
    "print_sum(3, 5)"
   ]
  },
  {
   "cell_type": "code",
   "execution_count": 49,
   "id": "9f0c117f",
   "metadata": {},
   "outputs": [
    {
     "name": "stdout",
     "output_type": "stream",
     "text": [
      "Hello!\n",
      "Hello!\n",
      "Hello!\n",
      "Hello!\n",
      "Hello!\n"
     ]
    }
   ],
   "source": [
    "print_hello()"
   ]
  },
  {
   "cell_type": "code",
   "execution_count": 50,
   "id": "209fff96",
   "metadata": {},
   "outputs": [
    {
     "name": "stdout",
     "output_type": "stream",
     "text": [
      "What is happening?!?!\n",
      "What is happening?!?!\n",
      "What is happening?!?!\n",
      "What is happening?!?!\n",
      "What is happening?!?!\n"
     ]
    }
   ],
   "source": [
    "# Modify the print() function to always run 5 times\n",
    "print = run_n_times(5)(print)\n",
    "\n",
    "print('What is happening?!?!')"
   ]
  },
  {
   "cell_type": "markdown",
   "id": "db3b2511",
   "metadata": {},
   "source": [
    "## Timeout() : a real world example"
   ]
  },
  {
   "cell_type": "code",
   "execution_count": 92,
   "id": "54209e15",
   "metadata": {},
   "outputs": [],
   "source": [
    "import signal\n",
    "def raise_timeout(*args, **kwargs):\n",
    "    raise TimeoutError()\n",
    "    # When an \"alarm\" signal goes off, call raise_timeout()\n",
    "    signal.signal(signalnum=signal.SIGALRM, handler=raise_timeout)\n",
    "    # Set off an alarm in 5 seconds\n",
    "    signal.alarm(5)\n",
    "    # Cancel the alarm\n",
    "    signal.alarm(0)"
   ]
  },
  {
   "cell_type": "code",
   "execution_count": 93,
   "id": "9bffc014",
   "metadata": {},
   "outputs": [],
   "source": [
    "import time\n",
    "def timeout(n_seconds):\n",
    "    def decorator(func):\n",
    "        @wraps(func)\n",
    "        def wrapper(*args, **kwargs):\n",
    "            # Set an alarm for n seconds\n",
    "            signal.alarm(n_seconds)\n",
    "            try:\n",
    "                # Call the decorated func\n",
    "                return func(*args, **kwargs)\n",
    "            finally:\n",
    "                # Cancel alarm\n",
    "                signal.alarm(0)\n",
    "        return wrapper\n",
    "    return decorator"
   ]
  },
  {
   "cell_type": "code",
   "execution_count": 94,
   "id": "12b1bbe7",
   "metadata": {},
   "outputs": [
    {
     "ename": "AttributeError",
     "evalue": "module 'signal' has no attribute 'alarm'",
     "output_type": "error",
     "traceback": [
      "\u001b[1;31m---------------------------------------------------------------------------\u001b[0m",
      "\u001b[1;31mAttributeError\u001b[0m                            Traceback (most recent call last)",
      "Input \u001b[1;32mIn [94]\u001b[0m, in \u001b[0;36m<cell line: 11>\u001b[1;34m()\u001b[0m\n\u001b[0;32m      8\u001b[0m  time\u001b[38;5;241m.\u001b[39msleep(\u001b[38;5;241m10\u001b[39m)\n\u001b[0;32m      9\u001b[0m  \u001b[38;5;28mprint\u001b[39m(\u001b[38;5;124m'\u001b[39m\u001b[38;5;124mbar!\u001b[39m\u001b[38;5;124m'\u001b[39m)\n\u001b[1;32m---> 11\u001b[0m \u001b[43mfoo\u001b[49m\u001b[43m(\u001b[49m\u001b[43m)\u001b[49m\n",
      "Input \u001b[1;32mIn [93]\u001b[0m, in \u001b[0;36mtimeout.<locals>.decorator.<locals>.wrapper\u001b[1;34m(*args, **kwargs)\u001b[0m\n\u001b[0;32m      4\u001b[0m \u001b[38;5;129m@wraps\u001b[39m(func)\n\u001b[0;32m      5\u001b[0m \u001b[38;5;28;01mdef\u001b[39;00m \u001b[38;5;21mwrapper\u001b[39m(\u001b[38;5;241m*\u001b[39margs, \u001b[38;5;241m*\u001b[39m\u001b[38;5;241m*\u001b[39mkwargs):\n\u001b[0;32m      6\u001b[0m     \u001b[38;5;66;03m# Set an alarm for n seconds\u001b[39;00m\n\u001b[1;32m----> 7\u001b[0m     \u001b[43msignal\u001b[49m\u001b[38;5;241;43m.\u001b[39;49m\u001b[43malarm\u001b[49m(n_seconds)\n\u001b[0;32m      8\u001b[0m     \u001b[38;5;28;01mtry\u001b[39;00m:\n\u001b[0;32m      9\u001b[0m         \u001b[38;5;66;03m# Call the decorated func\u001b[39;00m\n\u001b[0;32m     10\u001b[0m         \u001b[38;5;28;01mreturn\u001b[39;00m func(\u001b[38;5;241m*\u001b[39margs, \u001b[38;5;241m*\u001b[39m\u001b[38;5;241m*\u001b[39mkwargs)\n",
      "\u001b[1;31mAttributeError\u001b[0m: module 'signal' has no attribute 'alarm'"
     ]
    }
   ],
   "source": [
    "@timeout(5)\n",
    "def foo():\n",
    " time.sleep(10)\n",
    " print('foo!')\n",
    "\n",
    "@timeout(20)\n",
    "def bar():\n",
    " time.sleep(10)\n",
    " print('bar!')\n",
    "    \n",
    "foo()"
   ]
  },
  {
   "cell_type": "code",
   "execution_count": 73,
   "id": "ef87f158",
   "metadata": {},
   "outputs": [
    {
     "ename": "TypeError",
     "evalue": "'NoneType' object is not callable",
     "output_type": "error",
     "traceback": [
      "\u001b[1;31m---------------------------------------------------------------------------\u001b[0m",
      "\u001b[1;31mTypeError\u001b[0m                                 Traceback (most recent call last)",
      "Input \u001b[1;32mIn [73]\u001b[0m, in \u001b[0;36m<cell line: 1>\u001b[1;34m()\u001b[0m\n\u001b[1;32m----> 1\u001b[0m \u001b[43mbar\u001b[49m\u001b[43m(\u001b[49m\u001b[43m)\u001b[49m\n",
      "\u001b[1;31mTypeError\u001b[0m: 'NoneType' object is not callable"
     ]
    }
   ],
   "source": [
    "bar()"
   ]
  },
  {
   "cell_type": "code",
   "execution_count": 66,
   "id": "2e9b3f70",
   "metadata": {},
   "outputs": [
    {
     "name": "stdout",
     "output_type": "stream",
     "text": [
      "('test', 'this is a tag')\n",
      "('test', 'this is a tag')\n",
      "('test', 'this is a tag')\n",
      "('test', 'this is a tag')\n",
      "('test', 'this is a tag')\n"
     ]
    }
   ],
   "source": [
    "def tag(*tags):\n",
    "  # Define a new decorator, named \"decorator\", to return\n",
    "  def decorator(func):\n",
    "    # Ensure the decorated function keeps its metadata\n",
    "    @wraps(func)\n",
    "    def wrapper(*args, **kwargs):\n",
    "      # Call the function being decorated and return the result\n",
    "      return func(*args, **kwargs)\n",
    "    wrapper.tags = tags\n",
    "    return wrapper\n",
    "  # Return the new decorator\n",
    "  return decorator\n",
    "\n",
    "@tag('test', 'this is a tag')\n",
    "def foo():\n",
    "  pass\n",
    "\n",
    "print(foo.tags)"
   ]
  },
  {
   "cell_type": "code",
   "execution_count": 71,
   "id": "d491c092",
   "metadata": {},
   "outputs": [
    {
     "name": "stdout",
     "output_type": "stream",
     "text": [
      "foo() did not return a dict!\n",
      "foo() did not return a dict!\n",
      "foo() did not return a dict!\n",
      "foo() did not return a dict!\n",
      "foo() did not return a dict!\n"
     ]
    }
   ],
   "source": [
    "def returns(return_type):\n",
    "  # Complete the returns() decorator\n",
    "  def decorator(func):\n",
    "    def wrapper(*args,**kwargs):\n",
    "      result = func(*args,**kwargs)\n",
    "      assert type(result) == return_type\n",
    "      return result\n",
    "    return wrapper\n",
    "  return decorator\n",
    "  \n",
    "@returns(dict)\n",
    "def foo(value):\n",
    "  return value\n",
    "\n",
    "try:\n",
    "  print(foo([1,2,3]))\n",
    "except AssertionError:\n",
    "  print('foo() did not return a dict!')"
   ]
  }
 ],
 "metadata": {
  "kernelspec": {
   "display_name": "Python 3 (ipykernel)",
   "language": "python",
   "name": "python3"
  },
  "language_info": {
   "codemirror_mode": {
    "name": "ipython",
    "version": 3
   },
   "file_extension": ".py",
   "mimetype": "text/x-python",
   "name": "python",
   "nbconvert_exporter": "python",
   "pygments_lexer": "ipython3",
   "version": "3.9.7"
  }
 },
 "nbformat": 4,
 "nbformat_minor": 5
}
