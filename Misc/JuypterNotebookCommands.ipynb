{
 "cells": [
  {
   "cell_type": "code",
   "execution_count": 1,
   "id": "021fa284",
   "metadata": {},
   "outputs": [
    {
     "data": {
      "text/plain": [
       "['.ipynb_checkpoints', 'Untitled.ipynb']"
      ]
     },
     "execution_count": 1,
     "metadata": {},
     "output_type": "execute_result"
    }
   ],
   "source": [
    "# How to check files in OS directory\n",
    "import os\n",
    "wd = os.getcwd()\n",
    "os.listdir(wd)"
   ]
  },
  {
   "cell_type": "code",
   "execution_count": null,
   "id": "8104491d",
   "metadata": {},
   "outputs": [],
   "source": [
    "# Install any python module in Jupyter notebook\n",
    "!pip install <modulename>"
   ]
  },
  {
   "cell_type": "code",
   "execution_count": 2,
   "id": "d9283e23",
   "metadata": {},
   "outputs": [
    {
     "name": "stdout",
     "output_type": "stream",
     "text": [
      "Requirement already satisfied: pip in c:\\software\\anaconda3\\lib\\site-packages (22.1.2)\n",
      "Collecting pip\n",
      "  Downloading pip-22.2-py3-none-any.whl (2.0 MB)\n",
      "     ---------------------------------------- 2.0/2.0 MB 5.4 MB/s eta 0:00:00\n",
      "Installing collected packages: pip\n",
      "  Attempting uninstall: pip\n",
      "    Found existing installation: pip 22.1.2\n",
      "    Uninstalling pip-22.1.2:\n",
      "      Successfully uninstalled pip-22.1.2\n",
      "Successfully installed pip-22.2\n"
     ]
    }
   ],
   "source": [
    "!python.exe -m pip install --upgrade pip"
   ]
  },
  {
   "cell_type": "code",
   "execution_count": 3,
   "id": "acbe0db6",
   "metadata": {},
   "outputs": [
    {
     "name": "stdout",
     "output_type": "stream",
     "text": [
      "Collecting fuzzywuzzy\n",
      "  Downloading fuzzywuzzy-0.18.0-py2.py3-none-any.whl (18 kB)\n",
      "Installing collected packages: fuzzywuzzy\n",
      "Successfully installed fuzzywuzzy-0.18.0\n"
     ]
    }
   ],
   "source": [
    "!pip install fuzzywuzzy"
   ]
  },
  {
   "cell_type": "code",
   "execution_count": null,
   "id": "8b4eef18",
   "metadata": {},
   "outputs": [],
   "source": [
    "!pip install python-Levenshtein"
   ]
  },
  {
   "cell_type": "code",
   "execution_count": 7,
   "id": "c19596f4",
   "metadata": {},
   "outputs": [
    {
     "name": "stdout",
     "output_type": "stream",
     "text": [
      "Requirement already satisfied: recordlinkage in c:\\software\\anaconda3\\lib\\site-packages (0.15)\n",
      "Requirement already satisfied: jellyfish>=0.8.0 in c:\\software\\anaconda3\\lib\\site-packages (from recordlinkage) (0.9.0)\n",
      "Requirement already satisfied: scipy>=1 in c:\\software\\anaconda3\\lib\\site-packages (from recordlinkage) (1.7.1)\n",
      "Requirement already satisfied: numpy>=1.13.0 in c:\\software\\anaconda3\\lib\\site-packages (from recordlinkage) (1.20.3)\n",
      "Requirement already satisfied: scikit-learn>=0.19.0 in c:\\software\\anaconda3\\lib\\site-packages (from recordlinkage) (0.24.2)\n",
      "Requirement already satisfied: pandas<2,>=1 in c:\\software\\anaconda3\\lib\\site-packages (from recordlinkage) (1.3.4)\n",
      "Requirement already satisfied: joblib in c:\\software\\anaconda3\\lib\\site-packages (from recordlinkage) (1.1.0)\n",
      "Requirement already satisfied: python-dateutil>=2.7.3 in c:\\software\\anaconda3\\lib\\site-packages (from pandas<2,>=1->recordlinkage) (2.8.2)\n",
      "Requirement already satisfied: pytz>=2017.3 in c:\\software\\anaconda3\\lib\\site-packages (from pandas<2,>=1->recordlinkage) (2021.3)\n",
      "Requirement already satisfied: threadpoolctl>=2.0.0 in c:\\software\\anaconda3\\lib\\site-packages (from scikit-learn>=0.19.0->recordlinkage) (2.2.0)\n",
      "Requirement already satisfied: six>=1.5 in c:\\software\\anaconda3\\lib\\site-packages (from python-dateutil>=2.7.3->pandas<2,>=1->recordlinkage) (1.16.0)\n"
     ]
    }
   ],
   "source": [
    "!pip install recordlinkage"
   ]
  },
  {
   "cell_type": "code",
   "execution_count": 4,
   "id": "60a4ae84",
   "metadata": {},
   "outputs": [
    {
     "name": "stdout",
     "output_type": "stream",
     "text": [
      "Requirement already satisfied: scikit-learn in c:\\software\\anaconda3\\lib\\site-packages (1.1.1)\n",
      "Requirement already satisfied: numpy>=1.17.3 in c:\\software\\anaconda3\\lib\\site-packages (from scikit-learn) (1.20.3)\n",
      "Requirement already satisfied: joblib>=1.0.0 in c:\\software\\anaconda3\\lib\\site-packages (from scikit-learn) (1.1.0)\n",
      "Requirement already satisfied: scipy>=1.3.2 in c:\\software\\anaconda3\\lib\\site-packages (from scikit-learn) (1.7.1)\n",
      "Requirement already satisfied: threadpoolctl>=2.0.0 in c:\\software\\anaconda3\\lib\\site-packages (from scikit-learn) (2.2.0)\n"
     ]
    }
   ],
   "source": [
    "!pip install scikit-learn"
   ]
  },
  {
   "cell_type": "code",
   "execution_count": 1,
   "id": "f42e4879",
   "metadata": {},
   "outputs": [
    {
     "name": "stdout",
     "output_type": "stream",
     "text": [
      "pip 22.2 from C:\\software\\anaconda3\\lib\\site-packages\\pip (python 3.9)\n",
      "\n",
      "Note: you may need to restart the kernel to use updated packages.\n"
     ]
    }
   ],
   "source": [
    "pip --version"
   ]
  },
  {
   "cell_type": "code",
   "execution_count": null,
   "id": "abdee6f9",
   "metadata": {},
   "outputs": [],
   "source": []
  }
 ],
 "metadata": {
  "kernelspec": {
   "display_name": "Python 3 (ipykernel)",
   "language": "python",
   "name": "python3"
  },
  "language_info": {
   "codemirror_mode": {
    "name": "ipython",
    "version": 3
   },
   "file_extension": ".py",
   "mimetype": "text/x-python",
   "name": "python",
   "nbconvert_exporter": "python",
   "pygments_lexer": "ipython3",
   "version": "3.9.7"
  }
 },
 "nbformat": 4,
 "nbformat_minor": 5
}
