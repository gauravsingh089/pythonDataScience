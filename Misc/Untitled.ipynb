{
 "cells": [
  {
   "cell_type": "code",
   "execution_count": 6,
   "id": "e7185a0c",
   "metadata": {},
   "outputs": [
    {
     "name": "stdout",
     "output_type": "stream",
     "text": [
      "4\n",
      "<class 'set'>\n",
      "{1, 2, 3, 4}\n"
     ]
    }
   ],
   "source": [
    "ints = set([1,1,2,3,3,3,4])\n",
    "print(len(ints))\n",
    "print(type(ints))\n",
    "print(ints)"
   ]
  },
  {
   "cell_type": "code",
   "execution_count": 7,
   "id": "6ef2852d",
   "metadata": {},
   "outputs": [
    {
     "name": "stdout",
     "output_type": "stream",
     "text": [
      "7\n",
      "<class 'list'>\n",
      "[1, 1, 2, 3, 3, 3, 4]\n"
     ]
    }
   ],
   "source": [
    "ints = [1,1,2,3,3,3,4]\n",
    "print(len(ints))\n",
    "print(type(ints))\n",
    "print(ints)"
   ]
  },
  {
   "cell_type": "code",
   "execution_count": 8,
   "id": "ba03af5c",
   "metadata": {},
   "outputs": [
    {
     "name": "stdout",
     "output_type": "stream",
     "text": [
      "4\n",
      "<class 'set'>\n",
      "{1, 2, 3, 4}\n"
     ]
    }
   ],
   "source": [
    "ints = {1,1,2,3,3,3,4}\n",
    "print(len(ints))\n",
    "print(type(ints))\n",
    "print(ints)"
   ]
  },
  {
   "cell_type": "code",
   "execution_count": 9,
   "id": "b3cc9dae",
   "metadata": {},
   "outputs": [
    {
     "data": {
      "text/plain": [
       "['HELLO', 'WORLD']"
      ]
     },
     "execution_count": 9,
     "metadata": {},
     "output_type": "execute_result"
    }
   ],
   "source": [
    "#list comprehension\n",
    "[s.upper() for s in ['hello', 'world']]"
   ]
  },
  {
   "cell_type": "code",
   "execution_count": 10,
   "id": "830a5414",
   "metadata": {},
   "outputs": [
    {
     "data": {
      "text/plain": [
       "'returns n!'"
      ]
     },
     "execution_count": 10,
     "metadata": {},
     "output_type": "execute_result"
    }
   ],
   "source": [
    "# to get methond description statement\n",
    "def factorial(n):\n",
    "    \"\"\"returns n!\"\"\"\n",
    "    return 1 if n < 2 else n * factorial(n-1)\n",
    "\n",
    "factorial.__doc__"
   ]
  },
  {
   "cell_type": "code",
   "execution_count": 18,
   "id": "fe26ab08",
   "metadata": {},
   "outputs": [
    {
     "name": "stdout",
     "output_type": "stream",
     "text": [
      "[[1.75 1.65 1.8  1.5 ]\n",
      " [1.56 1.7  1.4  1.29]\n",
      " [1.49 1.68 1.3  1.8 ]]\n",
      "[1.75 1.56 1.49]\n"
     ]
    }
   ],
   "source": [
    "import numpy as np\n",
    "np_heights = np.array([[1.75,1.65,1.8,1.5],[1.56,1.70,1.4,1.29],[1.49,1.68,1.3,1.8]])\n",
    "print(np_heights)\n",
    "np.sort(np_heights[0])\n",
    "print((np_heights[:,0]))"
   ]
  },
  {
   "cell_type": "code",
   "execution_count": null,
   "id": "d6635d46",
   "metadata": {},
   "outputs": [],
   "source": []
  }
 ],
 "metadata": {
  "kernelspec": {
   "display_name": "Python 3 (ipykernel)",
   "language": "python",
   "name": "python3"
  },
  "language_info": {
   "codemirror_mode": {
    "name": "ipython",
    "version": 3
   },
   "file_extension": ".py",
   "mimetype": "text/x-python",
   "name": "python",
   "nbconvert_exporter": "python",
   "pygments_lexer": "ipython3",
   "version": "3.9.7"
  }
 },
 "nbformat": 4,
 "nbformat_minor": 5
}
