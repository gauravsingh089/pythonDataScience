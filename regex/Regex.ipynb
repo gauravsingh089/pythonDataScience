{
 "cells": [
  {
   "cell_type": "markdown",
   "id": "abb8f643",
   "metadata": {},
   "source": [
    "# Regular expression\n",
    "### String manipulation\n",
    "- e.g. replace and nd specic substrings\n",
    "### String formaing\n",
    "- e.g. interpolating a string in a template\n",
    "### Basic and advanced regular expressions\n",
    "- e.g. finding complex paerns in a string"
   ]
  }
 ],
 "metadata": {
  "kernelspec": {
   "display_name": "Python 3 (ipykernel)",
   "language": "python",
   "name": "python3"
  },
  "language_info": {
   "codemirror_mode": {
    "name": "ipython",
    "version": 3
   },
   "file_extension": ".py",
   "mimetype": "text/x-python",
   "name": "python",
   "nbconvert_exporter": "python",
   "pygments_lexer": "ipython3",
   "version": "3.9.7"
  }
 },
 "nbformat": 4,
 "nbformat_minor": 5
}
