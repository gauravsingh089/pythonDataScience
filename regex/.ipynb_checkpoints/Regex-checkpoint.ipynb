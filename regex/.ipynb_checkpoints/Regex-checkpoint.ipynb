{
 "cells": [
  {
   "cell_type": "markdown",
   "id": "50b73640",
   "metadata": {},
   "source": [
    "- String manipulation\n",
    "    - e.g. replace and find specic substrings\n",
    "- String formaing\n",
    "    - e.g. interpolating a string in a template\n",
    "- Basic and advanced regular expressions\n",
    "    - e.g. finding complex pattern in a string\n",
    "    \n",
    "- Why it is important\n",
    "    - Clean dataset to prepare it for text mining or sentiment analysis\n",
    "    - Process email content to feed a machine learning algorithm that decides whether an email is spam\n",
    "    - Parse and extract speci,c data from a website to build a database    \n",
    "    \n",
    "[Regex Website](https://regex101.com/ )   "
   ]
  },
  {
   "cell_type": "markdown",
   "id": "c9e9bee6",
   "metadata": {},
   "source": [
    "### Strings\n",
    "- Sequence of characters\n",
    "- Quotes\n",
    "- Immutable\n",
    "\n",
    "- String Operation\n",
    "    - String manipulation:\n",
    "    - Slice and concatenate\n",
    "    - Adjust cases\n",
    "    - Split and join\n",
    "    - Remove characters from beginning and end\n",
    "    - Finding substrings\n",
    "    - Counting occurrences\n",
    "    - Replacing substrings   \n",
    "\n",
    "### Import string methond in python\n",
    "`\n",
    "len(my_string)\n",
    "str(123)\n",
    "my_string1+my_string2\n",
    "my_string[index]\n",
    "my_string[indexstart:indexend] indexend not included\n",
    "my_string.upper()\n",
    "my_string.lower()\n",
    "my_string.split(sep=\" \", maxsplit=2)\n",
    "my_string.rsplit(sep=\" \", maxsplit=2)\n",
    "my_string.splitlines()\n",
    "\" \".join(my_list)\n",
    "my_string.strip()\n",
    "my_string.rstrip()\n",
    "my_string.lstrip()\n",
    "string.find(substring,start,end) # Start and end is optional parameter\n",
    "string.index(substring,start,end) # Start and end is optional parameter\n",
    "string.count(substring,start,end) # Start and end is optional parameter\n",
    "string.replace(old,new,count) # count is optional parameter, You can specify a number of occurrences to replace by adding a third argument\n",
    "`\n"
   ]
  },
  {
   "cell_type": "code",
   "execution_count": 7,
   "id": "a6417410",
   "metadata": {},
   "outputs": [
    {
     "data": {
      "text/plain": [
       "'123'"
      ]
     },
     "execution_count": 7,
     "metadata": {},
     "output_type": "execute_result"
    }
   ],
   "source": [
    "my_string = \"Awesome day\"\n",
    "# Find lenght of string\n",
    "print(len(my_string))"
   ]
  },
  {
   "cell_type": "code",
   "execution_count": 9,
   "id": "9566a4b9",
   "metadata": {},
   "outputs": [
    {
     "data": {
      "text/plain": [
       "'123'"
      ]
     },
     "execution_count": 9,
     "metadata": {},
     "output_type": "execute_result"
    }
   ],
   "source": [
    "# Convert integer to string\n",
    "str(123)"
   ]
  },
  {
   "cell_type": "code",
   "execution_count": 3,
   "id": "3f0c58e9",
   "metadata": {},
   "outputs": [
    {
     "name": "stdout",
     "output_type": "stream",
     "text": [
      "Awesome dayfor biking\n"
     ]
    }
   ],
   "source": [
    "my_string1 = \"Awesome day\"\n",
    "my_string2 = \"for biking\"\n",
    "# Concatenate string using + operator\n",
    "print(my_string1+my_string2)"
   ]
  },
  {
   "cell_type": "code",
   "execution_count": 38,
   "id": "bc1ee48f",
   "metadata": {},
   "outputs": [
    {
     "name": "stdout",
     "output_type": "stream",
     "text": [
      "Awesome day\n",
      "s\n",
      "y\n",
      "Awe\n",
      "Aweso\n",
      "me day\n",
      "me day\n",
      "Aeo\n",
      "yad emosewA\n"
     ]
    }
   ],
   "source": [
    "# String index start with 0 and from end it start with -1\n",
    "my_string = \"Awesome day\"\n",
    "print(my_string)\n",
    "# Print specific index charactor from string\n",
    "print(my_string[3])\n",
    "print(my_string[-1])\n",
    "\n",
    "#Getting substrings from string\n",
    "print(my_string[0:3])\n",
    "print(my_string[:5])\n",
    "print(my_string[5:])\n",
    "print(my_string[5:])\n",
    "print(my_string[0:6:2])\n",
    "\n",
    "# Reverse string\n",
    "print(my_string[::-1])"
   ]
  },
  {
   "cell_type": "code",
   "execution_count": 11,
   "id": "73977472",
   "metadata": {},
   "outputs": [
    {
     "name": "stdout",
     "output_type": "stream",
     "text": [
      "this is a nice string\n",
      "THIS IS A NICE STRING\n",
      "This is a nice string\n"
     ]
    }
   ],
   "source": [
    "my_string = \"tHis Is a niCe StriNg\"\n",
    "# Convert to lower case\n",
    "print(my_string.lower())\n",
    "# Convert to upper case\n",
    "print(my_string.upper())\n",
    "# Capitalizing the first character\n",
    "print(my_string.capitalize())"
   ]
  },
  {
   "cell_type": "code",
   "execution_count": 15,
   "id": "3c9d1918",
   "metadata": {},
   "outputs": [
    {
     "data": {
      "text/plain": [
       "['This', 'string', 'will be split']"
      ]
     },
     "execution_count": 15,
     "metadata": {},
     "output_type": "execute_result"
    }
   ],
   "source": [
    "my_string = \"This string will be split\"\n",
    "# Splitting a string into a list of substring into 3 parts\n",
    "my_string.split(sep=\" \", maxsplit=2)"
   ]
  },
  {
   "cell_type": "code",
   "execution_count": 13,
   "id": "0f33b751",
   "metadata": {},
   "outputs": [
    {
     "data": {
      "text/plain": [
       "['This string will', 'be', 'split']"
      ]
     },
     "execution_count": 13,
     "metadata": {},
     "output_type": "execute_result"
    }
   ],
   "source": [
    "# Right side split\n",
    "my_string.rsplit(sep=\" \", maxsplit=2)"
   ]
  },
  {
   "cell_type": "code",
   "execution_count": 16,
   "id": "a72b282e",
   "metadata": {},
   "outputs": [
    {
     "name": "stdout",
     "output_type": "stream",
     "text": [
      "This string will be split\n",
      "in two\n"
     ]
    }
   ],
   "source": [
    "# \\n New line character in string will print string in 2 lines\n",
    "my_string = \"This string will be split\\nin two\"\n",
    "print(my_string)"
   ]
  },
  {
   "cell_type": "markdown",
   "id": "d4d09f45",
   "metadata": {},
   "source": [
    "### CRLF\n",
    "- CR = Carriage Return ( \\r , 0x0D in hexadecimal, 13 in decimal) \n",
    "    moves the cursor to the beginning of the line without advancing to the next line.\n",
    "- LF = Line Feed ( \\n , 0x0A in hexadecimal, 10 in decimal) \n",
    "    moves the cursor down to the next line without returning to the beginning of the line."
   ]
  },
  {
   "cell_type": "code",
   "execution_count": 18,
   "id": "40badd0f",
   "metadata": {},
   "outputs": [
    {
     "data": {
      "text/plain": [
       "['This string will be split', 'in two']"
      ]
     },
     "execution_count": 18,
     "metadata": {},
     "output_type": "execute_result"
    }
   ],
   "source": [
    "# Breaking at line boundaries\n",
    "my_string = \"This string will be split\\nin two\"\n",
    "my_string.splitlines()"
   ]
  },
  {
   "cell_type": "code",
   "execution_count": 19,
   "id": "a88fb71c",
   "metadata": {},
   "outputs": [
    {
     "name": "stdout",
     "output_type": "stream",
     "text": [
      "this would be a string\n"
     ]
    }
   ],
   "source": [
    "# Joining\n",
    "# Concatenate strings from list or another iterable\n",
    "my_list = [\"this\",\"would\",\"be\",\"a\",\"string\"]\n",
    "print(\" \".join(my_list))"
   ]
  },
  {
   "cell_type": "code",
   "execution_count": 20,
   "id": "9ac3d584",
   "metadata": {},
   "outputs": [
    {
     "data": {
      "text/plain": [
       "'This string will be stripped'"
      ]
     },
     "execution_count": 20,
     "metadata": {},
     "output_type": "execute_result"
    }
   ],
   "source": [
    "# Stripping characters\n",
    "# Strips characters( spaces, new line) from lef to right: .strip()\n",
    "my_string = \" This string will be stripped\\n\"\n",
    "my_string.strip()"
   ]
  },
  {
   "cell_type": "code",
   "execution_count": 39,
   "id": "aad9e01b",
   "metadata": {},
   "outputs": [
    {
     "name": "stdout",
     "output_type": "stream",
     "text": [
      "i supposed that coming from mtv films i should expect no less\n"
     ]
    }
   ],
   "source": [
    "my_string=\"$i supposed that coming from mtv films i should expect no less$\"\n",
    "print(my_string.strip(\"$\")) "
   ]
  },
  {
   "cell_type": "code",
   "execution_count": 24,
   "id": "5897f469",
   "metadata": {},
   "outputs": [
    {
     "name": "stdout",
     "output_type": "stream",
     "text": [
      " This string will be stripped\n",
      "\n",
      " This string will be stripped\n",
      "This string will be stripped\n",
      "\n"
     ]
    }
   ],
   "source": [
    "my_string = \" This string will be stripped\\n\"\n",
    "print(my_string)\n",
    "# Remove characters from the right end\n",
    "print(my_string.rstrip())\n",
    "# Remove characters from the left end\n",
    "print(my_string.lstrip())"
   ]
  },
  {
   "cell_type": "code",
   "execution_count": 25,
   "id": "79091aa1",
   "metadata": {},
   "outputs": [
    {
     "data": {
      "text/plain": [
       "8"
      ]
     },
     "execution_count": 25,
     "metadata": {},
     "output_type": "execute_result"
    }
   ],
   "source": [
    "# Finding substrings \n",
    "#string.find(substring,start,end) # Start and end is optional parameter\n",
    "# Search target string for a specied substring\n",
    "my_string = \"Where's Waldo?\"\n",
    "# find index of Waldo string in my_string. NOTE - String index start from 0\n",
    "print(my_string.find(\"Waldo\"))"
   ]
  },
  {
   "cell_type": "code",
   "execution_count": 26,
   "id": "db70bc66",
   "metadata": {},
   "outputs": [
    {
     "data": {
      "text/plain": [
       "-1"
      ]
     },
     "execution_count": 26,
     "metadata": {},
     "output_type": "execute_result"
    }
   ],
   "source": [
    "my_string.find(\"Wenda\")\n",
    "# Return -1 as string not found in my_string"
   ]
  },
  {
   "cell_type": "code",
   "execution_count": 27,
   "id": "e5dbde99",
   "metadata": {},
   "outputs": [
    {
     "data": {
      "text/plain": [
       "-1"
      ]
     },
     "execution_count": 27,
     "metadata": {},
     "output_type": "execute_result"
    }
   ],
   "source": [
    "#Finding substrings\n",
    "# Search target string for a specied substring.\n",
    "my_string = \"Where's Waldo?\"\n",
    "my_string.find(\"Waldo\", 0, 6)"
   ]
  },
  {
   "cell_type": "code",
   "execution_count": 28,
   "id": "82a2f375",
   "metadata": {},
   "outputs": [
    {
     "data": {
      "text/plain": [
       "8"
      ]
     },
     "execution_count": 28,
     "metadata": {},
     "output_type": "execute_result"
    }
   ],
   "source": [
    "# Index function\n",
    "#string.index(substring,start,end) # Start and end is optional parameter\n",
    "#Similar to .find() , search target string for a specied substring.\n",
    "my_string = \"Where's Waldo?\"\n",
    "my_string.index(\"Waldo\")"
   ]
  },
  {
   "cell_type": "code",
   "execution_count": 29,
   "id": "ff6e7ce3",
   "metadata": {},
   "outputs": [
    {
     "ename": "ValueError",
     "evalue": "substring not found",
     "output_type": "error",
     "traceback": [
      "\u001b[1;31m---------------------------------------------------------------------------\u001b[0m",
      "\u001b[1;31mValueError\u001b[0m                                Traceback (most recent call last)",
      "Input \u001b[1;32mIn [29]\u001b[0m, in \u001b[0;36m<cell line: 1>\u001b[1;34m()\u001b[0m\n\u001b[1;32m----> 1\u001b[0m \u001b[43mmy_string\u001b[49m\u001b[38;5;241;43m.\u001b[39;49m\u001b[43mindex\u001b[49m\u001b[43m(\u001b[49m\u001b[38;5;124;43m\"\u001b[39;49m\u001b[38;5;124;43mWenda\u001b[39;49m\u001b[38;5;124;43m\"\u001b[39;49m\u001b[43m)\u001b[49m\n",
      "\u001b[1;31mValueError\u001b[0m: substring not found"
     ]
    }
   ],
   "source": [
    "my_string.index(\"Wenda\")\n",
    "# Index function return ValueError if substing not found."
   ]
  },
  {
   "cell_type": "code",
   "execution_count": 30,
   "id": "2501866c",
   "metadata": {},
   "outputs": [
    {
     "name": "stdout",
     "output_type": "stream",
     "text": [
      "Not found\n"
     ]
    }
   ],
   "source": [
    "# Better to use Index function with try except block and handle ValueError\n",
    "try:\n",
    "    my_string.index(\"Wenda\")\n",
    "except ValueError:\n",
    "    print(\"Not found\")"
   ]
  },
  {
   "cell_type": "code",
   "execution_count": 31,
   "id": "ecb85a80",
   "metadata": {},
   "outputs": [
    {
     "data": {
      "text/plain": [
       "2"
      ]
     },
     "execution_count": 31,
     "metadata": {},
     "output_type": "execute_result"
    }
   ],
   "source": [
    "#Counting occurrences\n",
    "# Return number of occurrences for a specied substring.\n",
    "# string.count(substring,start,end) # Start and end is optional parameter\n",
    "my_string = \"How many fruits do you have in your fruit basket?\"\n",
    "my_string.count(\"fruit\")"
   ]
  },
  {
   "cell_type": "code",
   "execution_count": 32,
   "id": "fcfaf20b",
   "metadata": {},
   "outputs": [
    {
     "data": {
      "text/plain": [
       "1"
      ]
     },
     "execution_count": 32,
     "metadata": {},
     "output_type": "execute_result"
    }
   ],
   "source": [
    "my_string.count(\"fruit\", 0, 16)"
   ]
  },
  {
   "cell_type": "code",
   "execution_count": 35,
   "id": "df14faa9",
   "metadata": {},
   "outputs": [
    {
     "name": "stdout",
     "output_type": "stream",
     "text": [
      "The red car is between the blue car and the old car\n"
     ]
    }
   ],
   "source": [
    "# Replacing substrings\n",
    "# Replace occurrences of substring with new substring.\n",
    "#string.replace(old,new,count) # count is optional parameter\n",
    "my_string = \"The red house is between the blue house and the old house\"\n",
    "print(my_string.replace(\"house\",\"car\"))"
   ]
  },
  {
   "cell_type": "code",
   "execution_count": 40,
   "id": "3241484a",
   "metadata": {},
   "outputs": [
    {
     "name": "stdout",
     "output_type": "stream",
     "text": [
      "String formatting is a powerful technique\n"
     ]
    }
   ],
   "source": [
    "# Positional formatting\n",
    "# String interpolation\n",
    "# Insert a custom string or variable in prede,ned text:\n",
    "custom_string = \"String formatting\"\n",
    "print(f\"{custom_string} is a powerful technique\")\n"
   ]
  },
  {
   "cell_type": "code",
   "execution_count": 48,
   "id": "af09deaf",
   "metadata": {},
   "outputs": [
    {
     "name": "stdout",
     "output_type": "stream",
     "text": [
      "Machine learning provides systems the ability to learn automatically\n",
      "Supervised algorithms rely on labeled datasets\n",
      "Betty has a friend called Linda and a sister called Daisy\n",
      "Daisy has a friend called Betty and a sister called Linda\n",
      "Unsupervised algorithms try to find patterns in the dataset\n",
      "Unsupervised algorithms try to find patterns in the dataset\n"
     ]
    }
   ],
   "source": [
    "# Methods for formatting\n",
    "# Positional formatting\n",
    "# string.format(value)\n",
    "print(\"Machine learning provides {} the ability to learn {}\".format(\"systems\", \"automatically\"))\n",
    "\n",
    "# Use variables for both the initial string and the values passed into the method\n",
    "my_string = \"{} rely on {} datasets\"\n",
    "method = \"Supervised algorithms\"\n",
    "condition = \"labeled\"\n",
    "print(my_string.format(method, condition))\n",
    "\n",
    "# Reordering values\n",
    "# Include an index number into the placeholders to reorder values\n",
    "print(\"{} has a friend called {} and a sister called {}\".format(\"Betty\", \"Linda\", \"Daisy\"))\n",
    "\n",
    "print(\"{2} has a friend called {0} and a sister called {1}\".format(\"Betty\", \"Linda\", \"Daisy\"))\n",
    "\n",
    "# Named placeholders\n",
    "# Specify a name for the placeholders\n",
    "tool=\"Unsupervised algorithms\"\n",
    "goal=\"patterns\"\n",
    "print(\"{title} try to find {aim} in the dataset\".format(title=tool, aim=goal))\n",
    "\n",
    "my_methods = {\"tool\": \"Unsupervised algorithms\", \"goal\": \"patterns\"}\n",
    "print('{data[tool]} try to find {data[goal]} in the dataset'.format(data=my_methods))\n"
   ]
  },
  {
   "cell_type": "code",
   "execution_count": 50,
   "id": "c65e2ff2",
   "metadata": {},
   "outputs": [
    {
     "name": "stdout",
     "output_type": "stream",
     "text": [
      "Only 0.515567% of the data produced worldwide is analyzed!\n",
      "Only 0.52% of the data produced worldwide is analyzed!\n"
     ]
    }
   ],
   "source": [
    "# Specify data type to be used: {index:specifier}\n",
    "print(\"Only {0:f}% of the {1} produced worldwide is {2}!\".format(0.5155675, \"data\", \"analyzed\"))\n",
    "\n",
    "print(\"Only {0:.2f}% of the {1} produced worldwide is {2}!\".format(0.5155675, \"data\", \"analyzed\"))\n",
    "# Template method"
   ]
  },
  {
   "cell_type": "code",
   "execution_count": 52,
   "id": "657a413f",
   "metadata": {},
   "outputs": [
    {
     "name": "stdout",
     "output_type": "stream",
     "text": [
      "2022-07-26 17:32:49.083844\n",
      "Today's date is 2022-07-26 17:32\n"
     ]
    }
   ],
   "source": [
    "# Formatting datetime\n",
    "from datetime import datetime\n",
    "print(datetime.now())\n",
    "print(\"Today's date is {:%Y-%m-%d %H:%M}\".format(datetime.now()))"
   ]
  },
  {
   "cell_type": "code",
   "execution_count": 54,
   "id": "5083ed4e",
   "metadata": {
    "scrolled": true
   },
   "outputs": [
    {
     "name": "stdout",
     "output_type": "stream",
     "text": [
      "Practicing how to code is the best method for learning Python faster\n"
     ]
    }
   ],
   "source": [
    "# Formatted string literals\n",
    "# f-strings f\"literal string {experssion}\"\"\n",
    "# Minimal syntax\n",
    "# Add prefix f to string\n",
    "way =\"code\"\n",
    "method =\"learning Python faster\"\n",
    "print(f\"Practicing how to {way} is the best method for {method}\")"
   ]
  },
  {
   "cell_type": "markdown",
   "id": "a8216338",
   "metadata": {},
   "source": [
    "# Type conversion\n",
    "- Allowed conversions:\n",
    "    - !s (string version)\n",
    "    - !r (string containing a printable representation, i.e. with quotes)\n",
    "    - !a (same as !r but escape the non-ASCII characters)\n",
    "    - :e Exponential notation\n",
    "    - :.2f rounded with two decimal place"
   ]
  },
  {
   "cell_type": "code",
   "execution_count": 56,
   "id": "01539452",
   "metadata": {},
   "outputs": [
    {
     "name": "stdout",
     "output_type": "stream",
     "text": [
      "Python is called 'Python' 'Python' Python due to a comedy series\n"
     ]
    }
   ],
   "source": [
    "name = \"Python\"\n",
    "print(f\"Python is called {name!r} due to a comedy series\")"
   ]
  },
  {
   "cell_type": "code",
   "execution_count": 57,
   "id": "e1ace99a",
   "metadata": {},
   "outputs": [
    {
     "name": "stdout",
     "output_type": "stream",
     "text": [
      "In the last 2 years, 90.42% of the data was produced worldwide!\n"
     ]
    }
   ],
   "source": [
    "# Format specifiers\n",
    "# Standard format speci,er:\n",
    "# e (scientificc notation, e.g. 5 10^3)\n",
    "# d (digit, e.g. 4)\n",
    "# f (.oat, e.g. 4.5353)\n",
    "number = 90.41890417471841\n",
    "print(f\"In the last 2 years, {number:.2f}% of the data was produced worldwide!\")"
   ]
  },
  {
   "cell_type": "code",
   "execution_count": 58,
   "id": "880c48fe",
   "metadata": {},
   "outputs": [
    {
     "name": "stdout",
     "output_type": "stream",
     "text": [
      "Today's date is July 26, 2022\n"
     ]
    }
   ],
   "source": [
    "# Format specifiers\n",
    "# datetime\n",
    "from datetime import datetime\n",
    "my_today = datetime.now()\n",
    "print(f\"Today's date is {my_today:%B %d, %Y}\")"
   ]
  },
  {
   "cell_type": "code",
   "execution_count": 1,
   "id": "5f14869c",
   "metadata": {},
   "outputs": [
    {
     "name": "stdout",
     "output_type": "stream",
     "text": [
      "Good morning. Today is July 27, 2022. It's 10:45 ... time to work!\n"
     ]
    }
   ],
   "source": [
    "# Import datetime \n",
    "from datetime import datetime\n",
    "\n",
    "# Assign date to get_date\n",
    "get_date = datetime.now()\n",
    "\n",
    "# Add named placeholders with format specifiers\n",
    "message = \"Good morning. Today is {today:%B %d, %Y}. It's {today:%H:%M} ... time to work!\"\n",
    "\n",
    "# Use the format method replacing the placeholder with get_date\n",
    "print(message.format(today=get_date))"
   ]
  },
  {
   "cell_type": "code",
   "execution_count": 59,
   "id": "994e34c6",
   "metadata": {},
   "outputs": [
    {
     "name": "stdout",
     "output_type": "stream",
     "text": [
      "Is your dad called John?\n"
     ]
    }
   ],
   "source": [
    "# Index lookups\n",
    "family = {\"dad\": \"John\", \"siblings\": \"Peter\"}\n",
    "print(\"Is your dad called {family[dad]}?\".format(family=family))"
   ]
  },
  {
   "cell_type": "code",
   "execution_count": 61,
   "id": "87c98eee",
   "metadata": {},
   "outputs": [
    {
     "ename": "NameError",
     "evalue": "name 'dad' is not defined",
     "output_type": "error",
     "traceback": [
      "\u001b[1;31m---------------------------------------------------------------------------\u001b[0m",
      "\u001b[1;31mNameError\u001b[0m                                 Traceback (most recent call last)",
      "Input \u001b[1;32mIn [61]\u001b[0m, in \u001b[0;36m<cell line: 2>\u001b[1;34m()\u001b[0m\n\u001b[0;32m      1\u001b[0m \u001b[38;5;66;03m# Use quotes for index lookups: family[\"dad\"]\u001b[39;00m\n\u001b[1;32m----> 2\u001b[0m \u001b[38;5;28mprint\u001b[39m(\u001b[38;5;124mf\u001b[39m\u001b[38;5;124m\"\u001b[39m\u001b[38;5;124mIs your dad called \u001b[39m\u001b[38;5;132;01m{\u001b[39;00mfamily[dad]\u001b[38;5;132;01m}\u001b[39;00m\u001b[38;5;124m?\u001b[39m\u001b[38;5;124m\"\u001b[39m)\n",
      "\u001b[1;31mNameError\u001b[0m: name 'dad' is not defined"
     ]
    }
   ],
   "source": [
    "# Use quotes for index lookups: family[\"dad\"]\n",
    "print(f\"Is your dad called {family[dad]}?\")"
   ]
  },
  {
   "cell_type": "code",
   "execution_count": 63,
   "id": "7b3f550e",
   "metadata": {},
   "outputs": [
    {
     "name": "stdout",
     "output_type": "stream",
     "text": [
      "Is your dad called John?\n"
     ]
    }
   ],
   "source": [
    "print(f\"Is your dad called {family['dad']}?\")"
   ]
  },
  {
   "cell_type": "code",
   "execution_count": 64,
   "id": "ff8186fe",
   "metadata": {},
   "outputs": [
    {
     "ename": "SyntaxError",
     "evalue": "invalid syntax (2935238067.py, line 3)",
     "output_type": "error",
     "traceback": [
      "\u001b[1;36m  Input \u001b[1;32mIn [64]\u001b[1;36m\u001b[0m\n\u001b[1;33m    print(\"My dad is called \"John\"\")\u001b[0m\n\u001b[1;37m                             ^\u001b[0m\n\u001b[1;31mSyntaxError\u001b[0m\u001b[1;31m:\u001b[0m invalid syntax\n"
     ]
    }
   ],
   "source": [
    "# Escape sequences\n",
    "# Escape sequences: backslashes\\\n",
    "print(\"My dad is called \"John\"\")"
   ]
  },
  {
   "cell_type": "code",
   "execution_count": 66,
   "id": "b19b3711",
   "metadata": {},
   "outputs": [
    {
     "name": "stdout",
     "output_type": "stream",
     "text": [
      "My dad is called \"John\"\n"
     ]
    }
   ],
   "source": [
    "my_string = \"My dad is called \\\"John\\\"\"\n",
    "print(my_string)"
   ]
  },
  {
   "cell_type": "code",
   "execution_count": 67,
   "id": "54a7605b",
   "metadata": {},
   "outputs": [
    {
     "ename": "SyntaxError",
     "evalue": "f-string expression part cannot include a backslash (246385965.py, line 4)",
     "output_type": "error",
     "traceback": [
      "\u001b[1;36m  Input \u001b[1;32mIn [67]\u001b[1;36m\u001b[0m\n\u001b[1;33m    print(f\"Is your dad called {family[\\\"dad\\\"]}?\")\u001b[0m\n\u001b[1;37m                                                  ^\u001b[0m\n\u001b[1;31mSyntaxError\u001b[0m\u001b[1;31m:\u001b[0m f-string expression part cannot include a backslash\n"
     ]
    }
   ],
   "source": [
    "# Escape sequences\n",
    "family = {\"dad\": \"John\", \"siblings\": \"Peter\"}\n",
    "# Backslashes are not allowed in f-strings\n",
    "print(f\"Is your dad called {family[\\\"dad\\\"]}?\")"
   ]
  },
  {
   "cell_type": "code",
   "execution_count": 68,
   "id": "d48ad3b3",
   "metadata": {},
   "outputs": [
    {
     "name": "stdout",
     "output_type": "stream",
     "text": [
      "Is your dad called John?\n"
     ]
    }
   ],
   "source": [
    "print(f\"Is your dad called {family['dad']}?\")"
   ]
  },
  {
   "cell_type": "code",
   "execution_count": 69,
   "id": "cef7b208",
   "metadata": {},
   "outputs": [
    {
     "name": "stdout",
     "output_type": "stream",
     "text": [
      "4 multiplied by 7 is 28\n"
     ]
    }
   ],
   "source": [
    "# Inline operations\n",
    "# Advantage: evaluate expressions and call functions inline\n",
    "my_number = 4\n",
    "my_multiplier = 7\n",
    "print(f'{my_number} multiplied by {my_multiplier} is {my_number * my_multiplier}')"
   ]
  },
  {
   "cell_type": "code",
   "execution_count": 70,
   "id": "d5ec0ed0",
   "metadata": {},
   "outputs": [
    {
     "name": "stdout",
     "output_type": "stream",
     "text": [
      "If you sum up 10 and 20 the result is 30\n"
     ]
    }
   ],
   "source": [
    "# Calling functions\n",
    "def my_function(a, b):\n",
    "    return a + b\n",
    "\n",
    "print(f\"If you sum up 10 and 20 the result is {my_function(10, 20)}\")"
   ]
  },
  {
   "cell_type": "markdown",
   "id": "4e5b734e",
   "metadata": {},
   "source": [
    "## Template method\n",
    "- Template strings\n",
    "- Simpler syntax\n",
    "- Slower than f-strings\n",
    "- Limited: don't allow format specifiers\n",
    "- Good when working with externally formatted strings"
   ]
  },
  {
   "cell_type": "code",
   "execution_count": 71,
   "id": "0254dcac",
   "metadata": {},
   "outputs": [
    {
     "data": {
      "text/plain": [
       "'Data science has been called sexiest job of the 21st century'"
      ]
     },
     "execution_count": 71,
     "metadata": {},
     "output_type": "execute_result"
    }
   ],
   "source": [
    "# Basic syntax\n",
    "from string import Template\n",
    "my_string = Template('Data science has been called $identifier')\n",
    "my_string.substitute(identifier=\"sexiest job of the 21st century\")"
   ]
  },
  {
   "cell_type": "code",
   "execution_count": 5,
   "id": "66020729",
   "metadata": {},
   "outputs": [
    {
     "data": {
      "text/plain": [
       "'Data science has been called sexiest job of the 21st century'"
      ]
     },
     "execution_count": 5,
     "metadata": {},
     "output_type": "execute_result"
    }
   ],
   "source": [
    "# Substitution\n",
    "# Use many $identifier\n",
    "# Use variables\n",
    "from string import Template\n",
    "job = \"Data science\"\n",
    "name = \"sexiest job of the 21st century\"\n",
    "my_string = Template('$title has been called $description')\n",
    "my_string.substitute(title=job, description=name)"
   ]
  },
  {
   "cell_type": "code",
   "execution_count": 6,
   "id": "3eec0727",
   "metadata": {},
   "outputs": [
    {
     "data": {
      "text/plain": [
       "'I find Python very interesting but my sister has lost interest'"
      ]
     },
     "execution_count": 6,
     "metadata": {},
     "output_type": "execute_result"
    }
   ],
   "source": [
    "# Substitution\n",
    "# Use ${identifier} when valid characters follow identifier\n",
    "my_string = Template('I find Python very ${noun}ing but my sister has lost $noun')\n",
    "my_string.substitute(noun=\"interest\")"
   ]
  },
  {
   "cell_type": "code",
   "execution_count": 74,
   "id": "e83aaca8",
   "metadata": {},
   "outputs": [
    {
     "data": {
      "text/plain": [
       "'I paid for the Python course only $ 12.50, amazing!'"
      ]
     },
     "execution_count": 74,
     "metadata": {},
     "output_type": "execute_result"
    }
   ],
   "source": [
    "# Substitution\n",
    "# Use $$ to escape the dollar sign\n",
    "my_string = Template('I paid for the Python course only $$ $price, amazing!')\n",
    "my_string.substitute(price=\"12.50\")"
   ]
  },
  {
   "cell_type": "code",
   "execution_count": 7,
   "id": "607b837e",
   "metadata": {
    "scrolled": true
   },
   "outputs": [
    {
     "ename": "KeyError",
     "evalue": "'cake'",
     "output_type": "error",
     "traceback": [
      "\u001b[1;31m---------------------------------------------------------------------------\u001b[0m",
      "\u001b[1;31mKeyError\u001b[0m                                  Traceback (most recent call last)",
      "Input \u001b[1;32mIn [7]\u001b[0m, in \u001b[0;36m<cell line: 5>\u001b[1;34m()\u001b[0m\n\u001b[0;32m      3\u001b[0m favorite \u001b[38;5;241m=\u001b[39m \u001b[38;5;28mdict\u001b[39m(flavor\u001b[38;5;241m=\u001b[39m\u001b[38;5;124m\"\u001b[39m\u001b[38;5;124mchocolate\u001b[39m\u001b[38;5;124m\"\u001b[39m)\n\u001b[0;32m      4\u001b[0m my_string \u001b[38;5;241m=\u001b[39m Template(\u001b[38;5;124m'\u001b[39m\u001b[38;5;124mI love $flavor $cake very much\u001b[39m\u001b[38;5;124m'\u001b[39m)\n\u001b[1;32m----> 5\u001b[0m \u001b[43mmy_string\u001b[49m\u001b[38;5;241;43m.\u001b[39;49m\u001b[43msubstitute\u001b[49m\u001b[43m(\u001b[49m\u001b[43mfavorite\u001b[49m\u001b[43m)\u001b[49m\n",
      "File \u001b[1;32mC:\\software\\anaconda3\\lib\\string.py:121\u001b[0m, in \u001b[0;36mTemplate.substitute\u001b[1;34m(self, mapping, **kws)\u001b[0m\n\u001b[0;32m    118\u001b[0m         \u001b[38;5;28mself\u001b[39m\u001b[38;5;241m.\u001b[39m_invalid(mo)\n\u001b[0;32m    119\u001b[0m     \u001b[38;5;28;01mraise\u001b[39;00m \u001b[38;5;167;01mValueError\u001b[39;00m(\u001b[38;5;124m'\u001b[39m\u001b[38;5;124mUnrecognized named group in pattern\u001b[39m\u001b[38;5;124m'\u001b[39m,\n\u001b[0;32m    120\u001b[0m                      \u001b[38;5;28mself\u001b[39m\u001b[38;5;241m.\u001b[39mpattern)\n\u001b[1;32m--> 121\u001b[0m \u001b[38;5;28;01mreturn\u001b[39;00m \u001b[38;5;28;43mself\u001b[39;49m\u001b[38;5;241;43m.\u001b[39;49m\u001b[43mpattern\u001b[49m\u001b[38;5;241;43m.\u001b[39;49m\u001b[43msub\u001b[49m\u001b[43m(\u001b[49m\u001b[43mconvert\u001b[49m\u001b[43m,\u001b[49m\u001b[43m \u001b[49m\u001b[38;5;28;43mself\u001b[39;49m\u001b[38;5;241;43m.\u001b[39;49m\u001b[43mtemplate\u001b[49m\u001b[43m)\u001b[49m\n",
      "File \u001b[1;32mC:\\software\\anaconda3\\lib\\string.py:114\u001b[0m, in \u001b[0;36mTemplate.substitute.<locals>.convert\u001b[1;34m(mo)\u001b[0m\n\u001b[0;32m    112\u001b[0m named \u001b[38;5;241m=\u001b[39m mo\u001b[38;5;241m.\u001b[39mgroup(\u001b[38;5;124m'\u001b[39m\u001b[38;5;124mnamed\u001b[39m\u001b[38;5;124m'\u001b[39m) \u001b[38;5;129;01mor\u001b[39;00m mo\u001b[38;5;241m.\u001b[39mgroup(\u001b[38;5;124m'\u001b[39m\u001b[38;5;124mbraced\u001b[39m\u001b[38;5;124m'\u001b[39m)\n\u001b[0;32m    113\u001b[0m \u001b[38;5;28;01mif\u001b[39;00m named \u001b[38;5;129;01mis\u001b[39;00m \u001b[38;5;129;01mnot\u001b[39;00m \u001b[38;5;28;01mNone\u001b[39;00m:\n\u001b[1;32m--> 114\u001b[0m     \u001b[38;5;28;01mreturn\u001b[39;00m \u001b[38;5;28mstr\u001b[39m(\u001b[43mmapping\u001b[49m\u001b[43m[\u001b[49m\u001b[43mnamed\u001b[49m\u001b[43m]\u001b[49m)\n\u001b[0;32m    115\u001b[0m \u001b[38;5;28;01mif\u001b[39;00m mo\u001b[38;5;241m.\u001b[39mgroup(\u001b[38;5;124m'\u001b[39m\u001b[38;5;124mescaped\u001b[39m\u001b[38;5;124m'\u001b[39m) \u001b[38;5;129;01mis\u001b[39;00m \u001b[38;5;129;01mnot\u001b[39;00m \u001b[38;5;28;01mNone\u001b[39;00m:\n\u001b[0;32m    116\u001b[0m     \u001b[38;5;28;01mreturn\u001b[39;00m \u001b[38;5;28mself\u001b[39m\u001b[38;5;241m.\u001b[39mdelimiter\n",
      "\u001b[1;31mKeyError\u001b[0m: 'cake'"
     ]
    }
   ],
   "source": [
    "# Substitution\n",
    "# Raise error when placeholder is missing\n",
    "favorite = dict(flavor=\"chocolate\")\n",
    "my_string = Template('I love $flavor $cake very much')\n",
    "my_string.substitute(favorite)"
   ]
  },
  {
   "cell_type": "code",
   "execution_count": 8,
   "id": "d6f6f77e",
   "metadata": {},
   "outputs": [
    {
     "data": {
      "text/plain": [
       "'I love chocolate $cake very much'"
      ]
     },
     "execution_count": 8,
     "metadata": {},
     "output_type": "execute_result"
    }
   ],
   "source": [
    "# Safe substitution\n",
    "# Always tries to return a usable string\n",
    "# Missing placeholders will appear in resulting string\n",
    "favorite = dict(flavor=\"chocolate\")\n",
    "my_string = Template('I love $flavor $cake very much')\n",
    "my_string.safe_substitute(favorite)"
   ]
  },
  {
   "cell_type": "markdown",
   "id": "130972c9",
   "metadata": {},
   "source": [
    "## Which should I use?\n",
    "- str.format() :\n",
    "    - Good to start with. Concepts apply to f-strings.\n",
    "    - Compatible with all versions of Python.\n",
    "- f-strings:\n",
    "    - Always advisable above all methods.\n",
    "    - Only suitable when working with modern versions of Python (3.6+).\n",
    "- Template strings:\n",
    "    - When working with external or user-provided strings"
   ]
  },
  {
   "cell_type": "markdown",
   "id": "deaa863b",
   "metadata": {},
   "source": [
    "## REGular EXpression or regex\n",
    "\n",
    "String containing a combination of normal characters and special metacharacters that describes patterns to find text or positions within a text.\n",
    "- r'st\\d\\s\\w{3,10}'\n",
    "    - Normal character match themselves (st)\n",
    "    - Metacharacters represent types of characters ( \\d , \\s , \\w ) or ideas ( {3,10} )\n",
    "    - Pattern: a sequence of characters that maps to words or punctuation\n",
    "\n",
    "- Pattern matching usage:\n",
    "    - Find and replace text\n",
    "    - Validate strings\n",
    "- Very powerful and fast\n",
    "\n",
    "- \\d: digit 0-9\n",
    "- \\D : Matches any non-digits.\n",
    "- \\w: word character Equivalent to a-zA-Z0-9_\n",
    "- \\W: non-word character\n",
    "- \\s: whitespace"
   ]
  },
  {
   "cell_type": "code",
   "execution_count": 9,
   "id": "2c7ba541",
   "metadata": {},
   "outputs": [],
   "source": [
    "import re"
   ]
  },
  {
   "cell_type": "code",
   "execution_count": 10,
   "id": "14a44266",
   "metadata": {},
   "outputs": [
    {
     "data": {
      "text/plain": [
       "['#movies', '#movies']"
      ]
     },
     "execution_count": 10,
     "metadata": {},
     "output_type": "execute_result"
    }
   ],
   "source": [
    "#Find all matches of a pattern:\n",
    "# re.findall(r\"regex\",string)\n",
    "re.findall(r\"#movies\",\"Love #movies! I had fun yesterday going to the #movies\")"
   ]
  },
  {
   "cell_type": "code",
   "execution_count": 11,
   "id": "30d9fb44",
   "metadata": {},
   "outputs": [
    {
     "data": {
      "text/plain": [
       "['Nice Place to eat', \" I'll come back\", ' Excellent meat', '']"
      ]
     },
     "execution_count": 11,
     "metadata": {},
     "output_type": "execute_result"
    }
   ],
   "source": [
    "#Split string at each match:\n",
    "# re.split(r\"regex\",string)\n",
    "re.split(r\"!\",\"Nice Place to eat! I'll come back! Excellent meat!\")"
   ]
  },
  {
   "cell_type": "code",
   "execution_count": 12,
   "id": "9fd60836",
   "metadata": {},
   "outputs": [
    {
     "data": {
      "text/plain": [
       "'I have a nice car and a nice house in a nice neighborhood'"
      ]
     },
     "execution_count": 12,
     "metadata": {},
     "output_type": "execute_result"
    }
   ],
   "source": [
    "#Replace one or many matches with a string:\n",
    "# re.sub(r\"regex\",new,string)\n",
    "re.sub(r\"yellow\",\"nice\",\"I have a yellow car and a yellow house in a yellow neighborhood\")"
   ]
  },
  {
   "cell_type": "code",
   "execution_count": 13,
   "id": "3cf499ad",
   "metadata": {},
   "outputs": [
    {
     "data": {
      "text/plain": [
       "['User9', 'User8']"
      ]
     },
     "execution_count": 13,
     "metadata": {},
     "output_type": "execute_result"
    }
   ],
   "source": [
    "#Supported metacharacters\n",
    "# \\d Digit\n",
    "re.findall(r\"User\\d\",\"The winners are: User9, UserN, User8\")"
   ]
  },
  {
   "cell_type": "code",
   "execution_count": 14,
   "id": "1442553c",
   "metadata": {},
   "outputs": [
    {
     "data": {
      "text/plain": [
       "['UserN']"
      ]
     },
     "execution_count": 14,
     "metadata": {},
     "output_type": "execute_result"
    }
   ],
   "source": [
    "# \\D Non-digit\n",
    "re.findall(r\"User\\D\",\"The winners are: User9, UserN, User8\")"
   ]
  },
  {
   "cell_type": "code",
   "execution_count": 15,
   "id": "c3435e4f",
   "metadata": {},
   "outputs": [
    {
     "data": {
      "text/plain": [
       "['User9', 'UserN', 'User8']"
      ]
     },
     "execution_count": 15,
     "metadata": {},
     "output_type": "execute_result"
    }
   ],
   "source": [
    "# \\w Word\n",
    "re.findall(r\"User\\w\",\"The winners are: User9, UserN, User8\")"
   ]
  },
  {
   "cell_type": "code",
   "execution_count": 16,
   "id": "744a6422",
   "metadata": {},
   "outputs": [
    {
     "data": {
      "text/plain": [
       "['$5']"
      ]
     },
     "execution_count": 16,
     "metadata": {},
     "output_type": "execute_result"
    }
   ],
   "source": [
    "# \\W Non-word\n",
    "re.findall(r\"\\W\\d\",\"This skirt is on sale, only $5 today!\")"
   ]
  },
  {
   "cell_type": "code",
   "execution_count": 17,
   "id": "b6b99a0a",
   "metadata": {},
   "outputs": [
    {
     "data": {
      "text/plain": [
       "['Data Science']"
      ]
     },
     "execution_count": 17,
     "metadata": {},
     "output_type": "execute_result"
    }
   ],
   "source": [
    "# \\s Whitespace\n",
    "re.findall(r\"Data\\sScience\",\"I enjoy learning Data Science\")"
   ]
  },
  {
   "cell_type": "code",
   "execution_count": 18,
   "id": "1b6cb247",
   "metadata": {},
   "outputs": [
    {
     "data": {
      "text/plain": [
       "'I really like ice cream'"
      ]
     },
     "execution_count": 18,
     "metadata": {},
     "output_type": "execute_result"
    }
   ],
   "source": [
    "# \\S Non-Whitespace\n",
    "re.sub(r\"ice\\Scream\",\"ice cream\",\"I really like ice-cream\")"
   ]
  },
  {
   "cell_type": "code",
   "execution_count": 2,
   "id": "9aee3972",
   "metadata": {},
   "outputs": [
    {
     "data": {
      "text/plain": [
       "<re.Match object; span=(0, 12), match='password1234'>"
      ]
     },
     "execution_count": 2,
     "metadata": {},
     "output_type": "execute_result"
    }
   ],
   "source": [
    "# Repeated characters\n",
    "import re\n",
    "password = \"password1234\"\n",
    "re.search(r\"\\w\\w\\w\\w\\w\\w\\w\\w\\d\\d\\d\\d\", password)"
   ]
  },
  {
   "cell_type": "code",
   "execution_count": 20,
   "id": "bacf0cbd",
   "metadata": {},
   "outputs": [
    {
     "data": {
      "text/plain": [
       "<re.Match object; span=(0, 12), match='password1234'>"
      ]
     },
     "execution_count": 20,
     "metadata": {},
     "output_type": "execute_result"
    }
   ],
   "source": [
    "# Quantiers:\n",
    "# * zero or more times, + once or more, ? zero or once, {n, m} minimum n, maximum m.\n",
    "\n",
    "# A metacharacter that tells the regex engine how many times to match a character immediately to its left.\n",
    "re.search(r\"\\w{8}\\d{4}\", password)"
   ]
  },
  {
   "cell_type": "code",
   "execution_count": 30,
   "id": "97d848a3",
   "metadata": {},
   "outputs": [
    {
     "data": {
      "text/plain": [
       "['4-3', '10-04']"
      ]
     },
     "execution_count": 30,
     "metadata": {},
     "output_type": "execute_result"
    }
   ],
   "source": [
    "# Quantifiers Once or more: +\n",
    "text = \"Date of start: 4-3. Date of registration: 10-04.\"\n",
    "re.findall(r\"\\d+-\\d+\", text)"
   ]
  },
  {
   "cell_type": "code",
   "execution_count": 24,
   "id": "671bb2bb",
   "metadata": {},
   "outputs": [
    {
     "data": {
      "text/plain": [
       "['@ameli!a', '@joh&&n', '@mary90']"
      ]
     },
     "execution_count": 24,
     "metadata": {},
     "output_type": "execute_result"
    }
   ],
   "source": [
    "# Quantifiers Zero times or more: *\n",
    "my_string = \"The concert was amazing! @ameli!a @joh&&n @mary90\"\n",
    "re.findall(r\"@\\w+\\W*\\w+\", my_string)"
   ]
  },
  {
   "cell_type": "code",
   "execution_count": 25,
   "id": "6d49410a",
   "metadata": {},
   "outputs": [
    {
     "data": {
      "text/plain": [
       "['color', 'colour']"
      ]
     },
     "execution_count": 25,
     "metadata": {},
     "output_type": "execute_result"
    }
   ],
   "source": [
    "# Quantifiers Zero times or once: ?\n",
    "text = \"The color of this image is amazing. However, the colour blue could be brighter.\"\n",
    "re.findall(r\"colou?r\", text)"
   ]
  },
  {
   "cell_type": "code",
   "execution_count": 29,
   "id": "2924816c",
   "metadata": {},
   "outputs": [
    {
     "data": {
      "text/plain": [
       "['1-966-847-3131', '54-908-42-42424']"
      ]
     },
     "execution_count": 29,
     "metadata": {},
     "output_type": "execute_result"
    }
   ],
   "source": [
    "# Quantifiers n times at least, m times at most : {n, m}\n",
    "phone_number = \"John: 1-966-847-3131 Michelle: 54-908-42-42424\"\n",
    "re.findall(r\"\\d{1,2}-\\d{3}-\\d{2,3}-\\d{4,}\", phone_number)"
   ]
  },
  {
   "cell_type": "code",
   "execution_count": null,
   "id": "ac6fdbde",
   "metadata": {},
   "outputs": [],
   "source": [
    "# Quantifiers Immediately to the left\n",
    "# r\"apple+\" : + applies to e and not to apple"
   ]
  },
  {
   "cell_type": "code",
   "execution_count": null,
   "id": "22b22ae2",
   "metadata": {},
   "outputs": [],
   "source": [
    "# Regex Metacharacters"
   ]
  },
  {
   "cell_type": "code",
   "execution_count": 31,
   "id": "cade639e",
   "metadata": {},
   "outputs": [
    {
     "data": {
      "text/plain": [
       "<re.Match object; span=(0, 4), match='4506'>"
      ]
     },
     "execution_count": 31,
     "metadata": {},
     "output_type": "execute_result"
    }
   ],
   "source": [
    "# Two different operations to find a match\n",
    "re.search(r\"\\d{4}\",\"4506 people attend the show\")"
   ]
  },
  {
   "cell_type": "code",
   "execution_count": 32,
   "id": "24f93b18",
   "metadata": {},
   "outputs": [
    {
     "data": {
      "text/plain": [
       "<re.Match object; span=(0, 4), match='4506'>"
      ]
     },
     "execution_count": 32,
     "metadata": {},
     "output_type": "execute_result"
    }
   ],
   "source": [
    "re.match(r\"\\d{4}\",\"4506 people attend the show\")"
   ]
  },
  {
   "cell_type": "code",
   "execution_count": 33,
   "id": "fd1ccdc8",
   "metadata": {},
   "outputs": [
    {
     "data": {
      "text/plain": [
       "<re.Match object; span=(17, 18), match='3'>"
      ]
     },
     "execution_count": 33,
     "metadata": {},
     "output_type": "execute_result"
    }
   ],
   "source": [
    "re.search(r\"\\d+\",\"Yesterday, I saw 3 shows\")"
   ]
  },
  {
   "cell_type": "code",
   "execution_count": 3,
   "id": "9f53002a",
   "metadata": {},
   "outputs": [],
   "source": [
    "re.match(r\"\\d+\",\"Yesterday, I saw 3 shows\") \n",
    "# MATCH not able to find match as first character not the match"
   ]
  },
  {
   "cell_type": "code",
   "execution_count": 37,
   "id": "935f492e",
   "metadata": {},
   "outputs": [
    {
     "data": {
      "text/plain": [
       "['www.amazingpics.com']"
      ]
     },
     "execution_count": 37,
     "metadata": {},
     "output_type": "execute_result"
    }
   ],
   "source": [
    "# Special characters\n",
    "# Match any character (except newline): .\n",
    "my_links = \"Just check out this link: www.amazingpics.com. It has amazing photos!\"\n",
    "re.findall(r\"www.+com\", my_links)"
   ]
  },
  {
   "cell_type": "code",
   "execution_count": 38,
   "id": "da3853ea",
   "metadata": {},
   "outputs": [
    {
     "data": {
      "text/plain": [
       "['the 80s', 'the 90s']"
      ]
     },
     "execution_count": 38,
     "metadata": {},
     "output_type": "execute_result"
    }
   ],
   "source": [
    "# Special characters\n",
    "# Start of the string: ^\n",
    "my_string = \"the 80s music was much better that the 90s\"\n",
    "re.findall(r\"the\\s\\d+s\", my_string)"
   ]
  },
  {
   "cell_type": "code",
   "execution_count": 39,
   "id": "9eda8d43",
   "metadata": {},
   "outputs": [
    {
     "data": {
      "text/plain": [
       "['the 80s']"
      ]
     },
     "execution_count": 39,
     "metadata": {},
     "output_type": "execute_result"
    }
   ],
   "source": [
    "re.findall(r\"^the\\s\\d+s\", my_string)"
   ]
  },
  {
   "cell_type": "code",
   "execution_count": 43,
   "id": "dec7fa18",
   "metadata": {},
   "outputs": [
    {
     "data": {
      "text/plain": [
       "['the 90s']"
      ]
     },
     "execution_count": 43,
     "metadata": {},
     "output_type": "execute_result"
    }
   ],
   "source": [
    "# Special characters\n",
    "# End of the string: $\n",
    "my_string = \"the 80s music hits were much better that the 90s\"\n",
    "re.findall(r\"the\\s\\d+s$\", my_string)"
   ]
  },
  {
   "cell_type": "code",
   "execution_count": 44,
   "id": "867def12",
   "metadata": {},
   "outputs": [
    {
     "name": "stdout",
     "output_type": "stream",
     "text": [
      "['', 'lov', 'th', 'musi', 'o', 'Mr.Go', 'However', 'th', 'soun', 'wa', 'to', 'loud.']\n"
     ]
    }
   ],
   "source": [
    "# Special characters\n",
    "# Escape special characters: \\\n",
    "my_string = \"I love the music of Mr.Go. However, the sound was too loud.\"\n",
    "print(re.split(r\".\\s\", my_string))"
   ]
  },
  {
   "cell_type": "code",
   "execution_count": 45,
   "id": "12a1fe08",
   "metadata": {},
   "outputs": [
    {
     "name": "stdout",
     "output_type": "stream",
     "text": [
      "['I love the music of Mr.Go', 'However, the sound was too loud.']\n"
     ]
    }
   ],
   "source": [
    "print(re.split(r\"\\.\\s\", my_string))"
   ]
  },
  {
   "cell_type": "code",
   "execution_count": 46,
   "id": "15076f93",
   "metadata": {},
   "outputs": [
    {
     "data": {
      "text/plain": [
       "['Elephant', 'elephant']"
      ]
     },
     "execution_count": 46,
     "metadata": {},
     "output_type": "execute_result"
    }
   ],
   "source": [
    "# OR operator\n",
    "# Character: |\n",
    "my_string = \"Elephants are the world's largest land animal! I would love to see an elephant one day\"\n",
    "re.findall(r\"Elephant|elephant\", my_string)"
   ]
  },
  {
   "cell_type": "code",
   "execution_count": 47,
   "id": "886b08d7",
   "metadata": {},
   "outputs": [
    {
     "data": {
      "text/plain": [
       "['MaryJohn2', 'Clary3']"
      ]
     },
     "execution_count": 47,
     "metadata": {},
     "output_type": "execute_result"
    }
   ],
   "source": [
    "# OR operator\n",
    "# Set of characters: [ ]\n",
    "my_string = \"Yesterday I spent my afternoon with my friends: MaryJohn2 Clary3\"\n",
    "re.findall(r\"[a-zA-Z]+\\d\", my_string)"
   ]
  },
  {
   "cell_type": "code",
   "execution_count": 48,
   "id": "c3649f52",
   "metadata": {},
   "outputs": [
    {
     "data": {
      "text/plain": [
       "'My name is John Smith. I live in London.'"
      ]
     },
     "execution_count": 48,
     "metadata": {},
     "output_type": "execute_result"
    }
   ],
   "source": [
    "my_string = \"My&name&is#John Smith. I%live$in#London.\"\n",
    "re.sub(r\"[#$%&]\",\" \", my_string)"
   ]
  },
  {
   "cell_type": "code",
   "execution_count": 49,
   "id": "38fcc4b3",
   "metadata": {},
   "outputs": [
    {
     "data": {
      "text/plain": [
       "['www.hola.com']"
      ]
     },
     "execution_count": 49,
     "metadata": {},
     "output_type": "execute_result"
    }
   ],
   "source": [
    "# OR operand\n",
    "# Set of characters: [ ]\n",
    "# ^ transforms the expression to negative\n",
    "my_links = \"Bad website: www.99.com. Favorite site: www.hola.com\"\n",
    "re.findall(r\"www[^0-9]+com\", my_links)"
   ]
  },
  {
   "cell_type": "markdown",
   "id": "b36ef15c",
   "metadata": {},
   "source": [
    "## Greedy vs. non-greedy matching\n",
    "- Two types of matching methods:\n",
    "    - Greedy\n",
    "    - Non-greedy or lazy\n",
    "- Standard quantiers are greedy by default: * , + , ? , {num, num}"
   ]
  },
  {
   "cell_type": "code",
   "execution_count": 50,
   "id": "f35994ff",
   "metadata": {},
   "outputs": [
    {
     "data": {
      "text/plain": [
       "<re.Match object; span=(0, 5), match='12345'>"
      ]
     },
     "execution_count": 50,
     "metadata": {},
     "output_type": "execute_result"
    }
   ],
   "source": [
    "# Greedy matching\n",
    "# Greedy: match as many characters as possible\n",
    "# Return the longest match\n",
    "import re\n",
    "re.match(r\"\\d+\",\"12345bcada\")"
   ]
  },
  {
   "cell_type": "code",
   "execution_count": 51,
   "id": "3b7a2d3b",
   "metadata": {},
   "outputs": [
    {
     "data": {
      "text/plain": [
       "<re.Match object; span=(0, 6), match='xhello'>"
      ]
     },
     "execution_count": 51,
     "metadata": {},
     "output_type": "execute_result"
    }
   ],
   "source": [
    "# Greedy matching\n",
    "# Backtracks when too many character matched\n",
    "# Gives up characters one at a time\n",
    "import re\n",
    "re.match(r\".*hello\",\"xhelloxxxxxx\")"
   ]
  },
  {
   "cell_type": "code",
   "execution_count": 52,
   "id": "b1251faa",
   "metadata": {},
   "outputs": [
    {
     "data": {
      "text/plain": [
       "<re.Match object; span=(0, 1), match='1'>"
      ]
     },
     "execution_count": 52,
     "metadata": {},
     "output_type": "execute_result"
    }
   ],
   "source": [
    "# Non-greedy matching\n",
    "# Lazy: match as few characters as needed\n",
    "# Returns the shortest match\n",
    "# Append ? to greedy quantiers\n",
    "import re\n",
    "re.match(r\"\\d+?\",\"12345bcada\")"
   ]
  },
  {
   "cell_type": "code",
   "execution_count": 53,
   "id": "b23d2d63",
   "metadata": {},
   "outputs": [
    {
     "data": {
      "text/plain": [
       "<re.Match object; span=(0, 6), match='xhello'>"
      ]
     },
     "execution_count": 53,
     "metadata": {},
     "output_type": "execute_result"
    }
   ],
   "source": [
    "# Non-greedy matching\n",
    "# Backtracks when too few characters matched\n",
    "# Expands characters one a time\n",
    "import re\n",
    "re.match(r\".*?hello\",\"xhelloxxxxxx\")"
   ]
  },
  {
   "cell_type": "code",
   "execution_count": 5,
   "id": "fac8f849",
   "metadata": {},
   "outputs": [
    {
     "name": "stdout",
     "output_type": "stream",
     "text": [
      "I want to see that  again!.\n",
      "I want to see that amazing show again!.\n"
     ]
    }
   ],
   "source": [
    "string=\"I want to see that <strong>amazing show</strong> again!.\"\n",
    "# Import re\n",
    "import re\n",
    "\n",
    "# Write a regex to eliminate tags\n",
    "# non lazy\n",
    "string_notags_non_lazy = re.sub(r\"<.+>\", \"\", string)\n",
    "# lazy\n",
    "string_notags = re.sub(r\"<.+?>\", \"\", string)\n",
    "\n",
    "# Print out the result\n",
    "print(string_notags_non_lazy)\n",
    "print(string_notags)\n",
    "#Remember that a greedy quantifier will try to match as much as possible while a non-greedy quantifier"
   ]
  },
  {
   "cell_type": "markdown",
   "id": "d0c8a722",
   "metadata": {},
   "source": [
    "## Grouping and Capturing\n"
   ]
  },
  {
   "cell_type": "code",
   "execution_count": 6,
   "id": "1f121bac",
   "metadata": {},
   "outputs": [
    {
     "data": {
      "text/plain": [
       "['Clary has 2 friends', 'Susan has 3 brothers', 'John has 4 sisters']"
      ]
     },
     "execution_count": 6,
     "metadata": {},
     "output_type": "execute_result"
    }
   ],
   "source": [
    "# Objective is to get 3 groups name, quanity and relationship  \n",
    "text = \"Clary has 2 friends who spends a lot time with.Susan has 3 brothers while John has 4 sisters\"\n",
    "re.findall(r'[A-Za-z]+\\s\\w+\\s\\d+\\s\\w+', text)"
   ]
  },
  {
   "cell_type": "code",
   "execution_count": 7,
   "id": "c7b7deb8",
   "metadata": {},
   "outputs": [
    {
     "data": {
      "text/plain": [
       "['Clary', 'Susan', 'John']"
      ]
     },
     "execution_count": 7,
     "metadata": {},
     "output_type": "execute_result"
    }
   ],
   "source": [
    "#Use parentheses to group and capture characters together\n",
    "re.findall(r'([A-Za-z]+)\\s\\w+\\s\\d+\\s\\w+', text)"
   ]
  },
  {
   "cell_type": "code",
   "execution_count": 8,
   "id": "aeb95bc2",
   "metadata": {},
   "outputs": [
    {
     "data": {
      "text/plain": [
       "[('Clary', '2', 'friends'),\n",
       " ('Susan', '3', 'brothers'),\n",
       " ('John', '4', 'sisters')]"
      ]
     },
     "execution_count": 8,
     "metadata": {},
     "output_type": "execute_result"
    }
   ],
   "source": [
    "re.findall(r'([A-Za-z]+)\\s\\w+\\s(\\d+)\\s(\\w+)', text)"
   ]
  },
  {
   "cell_type": "code",
   "execution_count": 9,
   "id": "65569d8c",
   "metadata": {},
   "outputs": [
    {
     "data": {
      "text/plain": [
       "'Clary'"
      ]
     },
     "execution_count": 9,
     "metadata": {},
     "output_type": "execute_result"
    }
   ],
   "source": [
    "# Capturing groups\n",
    "# Match a specic subpaern in a pattern\n",
    "# Use it for further processing\n",
    "pets = re.findall(r'([A-Za-z]+)\\s\\w+\\s(\\d+)\\s(\\w+)',\"Clary has 2 dogs but John has 3 cats\")\n",
    "pets[0][0]"
   ]
  },
  {
   "cell_type": "code",
   "execution_count": 10,
   "id": "8eeb1973",
   "metadata": {},
   "outputs": [
    {
     "data": {
      "text/plain": [
       "<re.Match object; span=(16, 22), match='3e4r5f'>"
      ]
     },
     "execution_count": 10,
     "metadata": {},
     "output_type": "execute_result"
    }
   ],
   "source": [
    "# Immediately to the left\n",
    "# r\"apple+\" : + applies to e and not to apple\n",
    "# Apply a quantier to the entire group\n",
    "re.search(r\"(\\d[A-Za-z])+\",\"My user name is 3e4r5fg\")"
   ]
  },
  {
   "cell_type": "code",
   "execution_count": 11,
   "id": "2eb94a4f",
   "metadata": {},
   "outputs": [
    {
     "data": {
      "text/plain": [
       "['5', '3']"
      ]
     },
     "execution_count": 11,
     "metadata": {},
     "output_type": "execute_result"
    }
   ],
   "source": [
    "# Capturing groups\n",
    "# Capture a repeated group (\\d+) vs. repeat a capturing group (\\d)+\n",
    "my_string = \"My lucky numbers are 8755 and 33\"\n",
    "re.findall(r\"(\\d)+\", my_string)"
   ]
  },
  {
   "cell_type": "code",
   "execution_count": 12,
   "id": "a851cdff",
   "metadata": {},
   "outputs": [
    {
     "data": {
      "text/plain": [
       "['8755', '33']"
      ]
     },
     "execution_count": 12,
     "metadata": {},
     "output_type": "execute_result"
    }
   ],
   "source": [
    "re.findall(r\"(\\d+)\", my_string)"
   ]
  },
  {
   "cell_type": "markdown",
   "id": "1e671ccb",
   "metadata": {},
   "source": [
    "## Alternation and noncapturing groups"
   ]
  },
  {
   "cell_type": "code",
   "execution_count": 13,
   "id": "ea229575",
   "metadata": {},
   "outputs": [
    {
     "data": {
      "text/plain": [
       "['cat', 'dog', 'bird']"
      ]
     },
     "execution_count": 13,
     "metadata": {},
     "output_type": "execute_result"
    }
   ],
   "source": [
    "# Pipe\n",
    "# Vertical bar or pipe: |\n",
    "my_string = \"I want to have a pet. But I don't know if I want a cat, a dog or a bird.\"\n",
    "re.findall(r\"cat|dog|bird\", my_string)"
   ]
  },
  {
   "cell_type": "code",
   "execution_count": 14,
   "id": "3f8387eb",
   "metadata": {},
   "outputs": [
    {
     "data": {
      "text/plain": [
       "['2 cat', 'dog', 'bird']"
      ]
     },
     "execution_count": 14,
     "metadata": {},
     "output_type": "execute_result"
    }
   ],
   "source": [
    "my_string = \"I want to have a pet. But I don't know if I want 2 cats, 1 dog or a bird.\"\n",
    "re.findall(r\"\\d+\\scat|dog|bird\", my_string)"
   ]
  },
  {
   "cell_type": "code",
   "execution_count": 15,
   "id": "736d016b",
   "metadata": {},
   "outputs": [
    {
     "data": {
      "text/plain": [
       "['cat', 'dog']"
      ]
     },
     "execution_count": 15,
     "metadata": {},
     "output_type": "execute_result"
    }
   ],
   "source": [
    "# Alternation\n",
    "# Use groups to choose between optional patterns\n",
    "my_string = \"I want to have a pet. But I don't know if I want 2 cats, 1 dog or a bird.\"\n",
    "re.findall(r\"\\d+\\s(cat|dog|bird)\", my_string)"
   ]
  },
  {
   "cell_type": "code",
   "execution_count": 16,
   "id": "b61ac1fd",
   "metadata": {},
   "outputs": [
    {
     "data": {
      "text/plain": [
       "[('2', 'cat'), ('1', 'dog')]"
      ]
     },
     "execution_count": 16,
     "metadata": {},
     "output_type": "execute_result"
    }
   ],
   "source": [
    "# Alternation\n",
    "# Use groups to choose between optional patterns\n",
    "my_string = \"I want to have a pet. But I don't know if I want 2 cats, 1 dog or a bird.\"\n",
    "re.findall(r\"(\\d)+\\s(cat|dog|bird)\", my_string)"
   ]
  },
  {
   "cell_type": "code",
   "execution_count": 17,
   "id": "7cf8fc0c",
   "metadata": {},
   "outputs": [
    {
     "data": {
      "text/plain": [
       "['042-980', '434-425']"
      ]
     },
     "execution_count": 17,
     "metadata": {},
     "output_type": "execute_result"
    }
   ],
   "source": [
    "# Non-capturing groups\n",
    "# Match but not capture a group\n",
    "# When group is not backreferenced\n",
    "# Add ?: : (?:regex)\n",
    "my_string = \"John Smith: 34-34-34-042-980, Rebeca Smith: 10-10-10-434-425\"\n",
    "re.findall(r\"(?:\\d{2}-){3}(\\d{3}-\\d{3})\", my_string)"
   ]
  },
  {
   "cell_type": "code",
   "execution_count": 18,
   "id": "5b184f92",
   "metadata": {},
   "outputs": [
    {
     "data": {
      "text/plain": [
       "['23', '24']"
      ]
     },
     "execution_count": 18,
     "metadata": {},
     "output_type": "execute_result"
    }
   ],
   "source": [
    "# Alternation\n",
    "# Use non-capturing groups for alternation\n",
    "my_date = \"Today is 23rd May 2019. Tomorrow is 24th May 19.\"\n",
    "re.findall(r\"(\\d+)(?:th|rd)\", my_date)"
   ]
  },
  {
   "cell_type": "code",
   "execution_count": null,
   "id": "54ac9177",
   "metadata": {},
   "outputs": [],
   "source": [
    "# Write a regex that matches sentences with the optional words\n",
    "regex_positive = r\"(love|like|enjoy).+?(movie|concert)\"\n",
    "\n",
    "for tweet in sentiment_analysis:\n",
    "\t# Find all matches of regex in tweet\n",
    "    positive_matches = re.findall(regex_positive, tweet)\n",
    "    \n",
    "    # Complete format to print out the results\n",
    "    print(\"Positive comments found {}\".format(positive_matches))"
   ]
  },
  {
   "cell_type": "markdown",
   "id": "a735ac3e",
   "metadata": {},
   "source": [
    "## Backreferences"
   ]
  },
  {
   "cell_type": "code",
   "execution_count": 19,
   "id": "2d98dc18",
   "metadata": {},
   "outputs": [
    {
     "data": {
      "text/plain": [
       "'2008'"
      ]
     },
     "execution_count": 19,
     "metadata": {},
     "output_type": "execute_result"
    }
   ],
   "source": [
    "# Numbered groups\n",
    "text = \"Python 3.0 was released on 12-03-2008.\"\n",
    "information = re.search('(\\d{1,2})-(\\d{2})-(\\d{4})', text)\n",
    "information.group(3)"
   ]
  },
  {
   "cell_type": "code",
   "execution_count": 20,
   "id": "de814aa3",
   "metadata": {},
   "outputs": [
    {
     "data": {
      "text/plain": [
       "'12-03-2008'"
      ]
     },
     "execution_count": 20,
     "metadata": {},
     "output_type": "execute_result"
    }
   ],
   "source": [
    "information.group(0)"
   ]
  },
  {
   "cell_type": "code",
   "execution_count": 21,
   "id": "d213c1d8",
   "metadata": {},
   "outputs": [
    {
     "data": {
      "text/plain": [
       "'12'"
      ]
     },
     "execution_count": 21,
     "metadata": {},
     "output_type": "execute_result"
    }
   ],
   "source": [
    "information.group(1)"
   ]
  },
  {
   "cell_type": "code",
   "execution_count": 22,
   "id": "32301715",
   "metadata": {},
   "outputs": [
    {
     "data": {
      "text/plain": [
       "'Austin'"
      ]
     },
     "execution_count": 22,
     "metadata": {},
     "output_type": "execute_result"
    }
   ],
   "source": [
    "# Named groups\n",
    "# Give a name to groups\n",
    "text = \"Austin, 78701\"\n",
    "cities = re.search(r\"(?P<city>[A-Za-z]+).*?(?P<zipcode>\\d{5})\", text)\n",
    "cities.group(\"city\")"
   ]
  },
  {
   "cell_type": "code",
   "execution_count": 23,
   "id": "5f3df870",
   "metadata": {},
   "outputs": [
    {
     "data": {
      "text/plain": [
       "'78701'"
      ]
     },
     "execution_count": 23,
     "metadata": {},
     "output_type": "execute_result"
    }
   ],
   "source": [
    "cities.group(\"zipcode\")"
   ]
  },
  {
   "cell_type": "code",
   "execution_count": 24,
   "id": "26dc64c0",
   "metadata": {},
   "outputs": [
    {
     "data": {
      "text/plain": [
       "[]"
      ]
     },
     "execution_count": 24,
     "metadata": {},
     "output_type": "execute_result"
    }
   ],
   "source": [
    "# Backreferences\n",
    "# Using capturing groups to reference back to a group\n",
    "sentence = \"I wish you a happy happy birthday!\"\n",
    "re.findall(r\"(\\w+)\\s \", sentence)"
   ]
  },
  {
   "cell_type": "code",
   "execution_count": 25,
   "id": "1a177553",
   "metadata": {},
   "outputs": [
    {
     "data": {
      "text/plain": [
       "['happy']"
      ]
     },
     "execution_count": 25,
     "metadata": {},
     "output_type": "execute_result"
    }
   ],
   "source": [
    "re.findall(r\"(\\w+)\\s\\1\", sentence)"
   ]
  },
  {
   "cell_type": "code",
   "execution_count": 27,
   "id": "a64944e1",
   "metadata": {},
   "outputs": [
    {
     "data": {
      "text/plain": [
       "'I wish you a happy birthday!'"
      ]
     },
     "execution_count": 27,
     "metadata": {},
     "output_type": "execute_result"
    }
   ],
   "source": [
    "sentence = \"I wish you a happy happy birthday!\"\n",
    "re.sub(r\"(\\w+)\\s\\1\", r\"\\1\", sentence)"
   ]
  },
  {
   "cell_type": "code",
   "execution_count": 28,
   "id": "a2b34fcc",
   "metadata": {},
   "outputs": [
    {
     "data": {
      "text/plain": [
       "['23434']"
      ]
     },
     "execution_count": 28,
     "metadata": {},
     "output_type": "execute_result"
    }
   ],
   "source": [
    "#Using named capturing groups to reference back  ?P=name\n",
    "sentence = \"Your new code number is 23434. Please, enter 23434 to open the door.\"\n",
    "re.findall(r\"(?P<code>\\d{5}).*?(?P=code)\", sentence)"
   ]
  },
  {
   "cell_type": "code",
   "execution_count": 29,
   "id": "c00317c9",
   "metadata": {},
   "outputs": [
    {
     "data": {
      "text/plain": [
       "\"This app is not working! It's repeating the last word.\""
      ]
     },
     "execution_count": 29,
     "metadata": {},
     "output_type": "execute_result"
    }
   ],
   "source": [
    "# Backreferences\n",
    "# Using named capturing groups to reference back  \\g<name>\n",
    "sentence = \"This app is not working! It's repeating the last word word.\"\n",
    "re.sub(r\"(?P<word>\\w+)\\s(?P=word)\", r\"\\g<word>\", sentence)"
   ]
  },
  {
   "cell_type": "markdown",
   "id": "94cab081",
   "metadata": {},
   "source": [
    "## Looking around\n",
    "- Allow us to confirm that sub-pattern is ahead or behind main pattern\n",
    "- At my current position in the matching process, look ahead or behind and examine whether\n",
    "- some pattern matches or not match before continuing."
   ]
  },
  {
   "cell_type": "markdown",
   "id": "ba40df8d",
   "metadata": {},
   "source": [
    "## Look-ahead\n",
    "- Non-capturing group\n",
    "- Checks that the first part of the expression is followed or not by the lookahead expression\n",
    "- Return only the first part of the expression\n",
    "the white cat sat on the chair\n",
    "sat look-ahead\n",
    "positive (?=sat) negative (?!run)"
   ]
  },
  {
   "cell_type": "markdown",
   "id": "7ef195a6",
   "metadata": {},
   "source": [
    "## Positive look-ahead\n",
    "- Non-capturing group\n",
    "- Checks that the first part of the expression is followed by the lookahead expression\n",
    "- Return only the first part of the expression"
   ]
  },
  {
   "cell_type": "code",
   "execution_count": 31,
   "id": "8037ee0e",
   "metadata": {},
   "outputs": [
    {
     "data": {
      "text/plain": [
       "['tweets.txt', 'mypass.txt']"
      ]
     },
     "execution_count": 31,
     "metadata": {},
     "output_type": "execute_result"
    }
   ],
   "source": [
    "my_text = \"tweets.txt transferred, mypass.txt transferred, keywords.txt error\"\n",
    "re.findall(r\"\\w+\\.txt(?=\\stransferred)\", my_text)"
   ]
  },
  {
   "cell_type": "markdown",
   "id": "e0bb1d46",
   "metadata": {},
   "source": [
    "## Negative look-ahead\n",
    "- Non-capturing group\n",
    "- Checks that the first part of the expression is not followed by the lookahead expression\n",
    "- Return only the first part of the expression"
   ]
  },
  {
   "cell_type": "code",
   "execution_count": 32,
   "id": "65e2808a",
   "metadata": {},
   "outputs": [
    {
     "data": {
      "text/plain": [
       "['keywords.txt']"
      ]
     },
     "execution_count": 32,
     "metadata": {},
     "output_type": "execute_result"
    }
   ],
   "source": [
    "my_text = \"tweets.txt transferred, mypass.txt transferred, keywords.txt error\"\n",
    "re.findall(r\"\\w+\\.txt(?!\\stransferred)\", my_text)"
   ]
  },
  {
   "cell_type": "markdown",
   "id": "5ff44581",
   "metadata": {},
   "source": [
    "## Look-behind\n",
    "- Non-capturing group\n",
    "- Get all the matches that are preceded or not by a specic paern.\n",
    "- Return paern aer look-behind expression\n",
    "the white cat sat on the chair\n",
    "white look behind\n",
    "positive (?<=white) negative (?<!white)"
   ]
  },
  {
   "cell_type": "markdown",
   "id": "502941fc",
   "metadata": {},
   "source": [
    "## Positive look-behind\n",
    "- Non-capturing group\n",
    "- Get all the matches that are preceded by a specic paern.\n",
    "- Return pattern aer look-behind expression"
   ]
  },
  {
   "cell_type": "code",
   "execution_count": 33,
   "id": "3e95e468",
   "metadata": {},
   "outputs": [
    {
     "data": {
      "text/plain": [
       "['Angus Young', 'Chris Slade']"
      ]
     },
     "execution_count": 33,
     "metadata": {},
     "output_type": "execute_result"
    }
   ],
   "source": [
    "my_text = \"Member: Angus Young, Member: Chris Slade, Past: Malcolm Young, Past: Cliff Williams.\"\n",
    "re.findall(r\"(?<=Member:\\s)\\w+\\s\\w+\", my_text)"
   ]
  },
  {
   "cell_type": "markdown",
   "id": "15c686be",
   "metadata": {},
   "source": [
    "## Negative look-behind\n",
    "- Non-capturing group\n",
    "- Get all the matches that are not preceded by a specfic paern.\n",
    "- Return pattern after look-behind expression"
   ]
  },
  {
   "cell_type": "code",
   "execution_count": 34,
   "id": "9cc4a577",
   "metadata": {},
   "outputs": [
    {
     "data": {
      "text/plain": [
       "['cat']"
      ]
     },
     "execution_count": 34,
     "metadata": {},
     "output_type": "execute_result"
    }
   ],
   "source": [
    "my_text = \"My white cat sat at the table. However, my brown dog was lying on the couch.\"\n",
    "re.findall(r\"(?<!brown\\s)(cat|dog)\", my_text)"
   ]
  },
  {
   "cell_type": "code",
   "execution_count": null,
   "id": "19b13d50",
   "metadata": {},
   "outputs": [],
   "source": [
    "# Complete the regex to match an elongated word\n",
    "regex_elongated = r\"\\w*(\\w)\\1\\w*\"\n",
    "\n",
    "for tweet in sentiment_analysis:\n",
    "\t# Find if there is a match in each tweet \n",
    "\tmatch_elongated = re.findall(regex_elongated, tweet)\n",
    "    \n",
    "\tif match_elongated:\n",
    "\t\t# Assign the captured group zero \n",
    "\t\telongated_word = match_elongated.group(0)\n",
    "        \n",
    "\t\t# Complete the format method to print the word\n",
    "\t\tprint(\"Elongated word found: {word}\".format(word=elongated_word))\n",
    "\telse:\n",
    "\t\tprint(\"No elongated word found\") "
   ]
  }
 ],
 "metadata": {
  "kernelspec": {
   "display_name": "Python 3 (ipykernel)",
   "language": "python",
   "name": "python3"
  },
  "language_info": {
   "codemirror_mode": {
    "name": "ipython",
    "version": 3
   },
   "file_extension": ".py",
   "mimetype": "text/x-python",
   "name": "python",
   "nbconvert_exporter": "python",
   "pygments_lexer": "ipython3",
   "version": "3.9.7"
  }
 },
 "nbformat": 4,
 "nbformat_minor": 5
}
